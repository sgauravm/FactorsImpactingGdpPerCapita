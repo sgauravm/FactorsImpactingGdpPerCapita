{
 "cells": [
  {
   "cell_type": "code",
   "execution_count": 1,
   "metadata": {},
   "outputs": [
    {
     "name": "stderr",
     "output_type": "stream",
     "text": [
      "\n",
      "Attaching package: ‘reshape2’\n",
      "\n",
      "The following object is masked from ‘package:tidyr’:\n",
      "\n",
      "    smiths\n",
      "\n",
      "Loading required package: gridExtra\n",
      "── \u001b[1mAttaching packages\u001b[22m ─────────────────────────────────────── tidyverse 1.2.1 ──\n",
      "\u001b[32m✔\u001b[39m \u001b[34mtibble \u001b[39m 2.1.3     \u001b[32m✔\u001b[39m \u001b[34mdplyr  \u001b[39m 0.8.3\n",
      "\u001b[32m✔\u001b[39m \u001b[34mreadr  \u001b[39m 1.3.1     \u001b[32m✔\u001b[39m \u001b[34mstringr\u001b[39m 1.4.0\n",
      "\u001b[32m✔\u001b[39m \u001b[34mpurrr  \u001b[39m 0.3.3     \u001b[32m✔\u001b[39m \u001b[34mforcats\u001b[39m 0.4.0\n",
      "── \u001b[1mConflicts\u001b[22m ────────────────────────────────────────── tidyverse_conflicts() ──\n",
      "\u001b[31m✖\u001b[39m \u001b[34mdplyr\u001b[39m::\u001b[32mcombine()\u001b[39m masks \u001b[34mgridExtra\u001b[39m::combine()\n",
      "\u001b[31m✖\u001b[39m \u001b[34mdplyr\u001b[39m::\u001b[32mfilter()\u001b[39m  masks \u001b[34mstats\u001b[39m::filter()\n",
      "\u001b[31m✖\u001b[39m \u001b[34mdplyr\u001b[39m::\u001b[32mlag()\u001b[39m     masks \u001b[34mstats\u001b[39m::lag()\n"
     ]
    }
   ],
   "source": [
    "#Loading libraries\n",
    "library(gapminder)\n",
    "library(tidyr)\n",
    "library(ggplot2)\n",
    "library(broom)\n",
    "library(reshape2)\n",
    "require(gridExtra)\n",
    "library(grid)\n",
    "library(tidyverse)"
   ]
  },
  {
   "cell_type": "markdown",
   "metadata": {},
   "source": [
    "## Data reading, cleaning and restructuring\n",
    "\n",
    "* We have gathered many features which might affect the GDP per capita of a country.\n",
    "* We are using [World Bank](https://data.worldbank.org/indicator) data to get all the features.\n",
    "* In the next few lines of code we will be reading various features and joining them into one data frame.\n",
    "* Some of the features may not be used in analysis but has been included for future analysis."
   ]
  },
  {
   "cell_type": "code",
   "execution_count": 2,
   "metadata": {},
   "outputs": [
    {
     "name": "stderr",
     "output_type": "stream",
     "text": [
      "Warning message:\n",
      "“Missing column names filled in: 'X65' [65]”Parsed with column specification:\n",
      "cols(\n",
      "  .default = col_double(),\n",
      "  `Country Name` = \u001b[31mcol_character()\u001b[39m,\n",
      "  `Country Code` = \u001b[31mcol_character()\u001b[39m,\n",
      "  `Indicator Name` = \u001b[31mcol_character()\u001b[39m,\n",
      "  `Indicator Code` = \u001b[31mcol_character()\u001b[39m,\n",
      "  `2019` = \u001b[33mcol_logical()\u001b[39m,\n",
      "  X65 = \u001b[33mcol_logical()\u001b[39m\n",
      ")\n",
      "See spec(...) for full column specifications.\n"
     ]
    },
    {
     "data": {
      "text/html": [
       "<table>\n",
       "<caption>A tibble: 6 × 61</caption>\n",
       "<thead>\n",
       "\t<tr><th scope=col>Country</th><th scope=col>Code</th><th scope=col>1960</th><th scope=col>1961</th><th scope=col>1962</th><th scope=col>1963</th><th scope=col>1964</th><th scope=col>1965</th><th scope=col>1966</th><th scope=col>1967</th><th scope=col>⋯</th><th scope=col>2009</th><th scope=col>2010</th><th scope=col>2011</th><th scope=col>2012</th><th scope=col>2013</th><th scope=col>2014</th><th scope=col>2015</th><th scope=col>2016</th><th scope=col>2017</th><th scope=col>2018</th></tr>\n",
       "\t<tr><th scope=col>&lt;chr&gt;</th><th scope=col>&lt;chr&gt;</th><th scope=col>&lt;dbl&gt;</th><th scope=col>&lt;dbl&gt;</th><th scope=col>&lt;dbl&gt;</th><th scope=col>&lt;dbl&gt;</th><th scope=col>&lt;dbl&gt;</th><th scope=col>&lt;dbl&gt;</th><th scope=col>&lt;dbl&gt;</th><th scope=col>&lt;dbl&gt;</th><th scope=col>⋯</th><th scope=col>&lt;dbl&gt;</th><th scope=col>&lt;dbl&gt;</th><th scope=col>&lt;dbl&gt;</th><th scope=col>&lt;dbl&gt;</th><th scope=col>&lt;dbl&gt;</th><th scope=col>&lt;dbl&gt;</th><th scope=col>&lt;dbl&gt;</th><th scope=col>&lt;dbl&gt;</th><th scope=col>&lt;dbl&gt;</th><th scope=col>&lt;dbl&gt;</th></tr>\n",
       "</thead>\n",
       "<tbody>\n",
       "\t<tr><td>Aruba      </td><td>ABW</td><td>      NA</td><td>      NA</td><td>      NA</td><td>      NA</td><td>      NA</td><td>      NA</td><td>      NA</td><td>      NA</td><td>⋯</td><td>24630.454</td><td>23512.603</td><td>24985.9933</td><td>24713.698</td><td>25025.100</td><td>25533.5698</td><td>25796.3803</td><td>25239.6004</td><td>25630.2665</td><td>        NA</td></tr>\n",
       "\t<tr><td>Afghanistan</td><td>AFG</td><td>59.77319</td><td>59.86087</td><td>58.45801</td><td>78.70639</td><td>82.09523</td><td>101.1083</td><td>137.5944</td><td>160.8986</td><td>⋯</td><td>  438.076</td><td>  543.303</td><td>  591.1623</td><td>  641.872</td><td>  637.165</td><td>  613.8563</td><td>  578.4664</td><td>  547.2281</td><td>  556.3021</td><td>  520.8966</td></tr>\n",
       "\t<tr><td>Angola     </td><td>AGO</td><td>      NA</td><td>      NA</td><td>      NA</td><td>      NA</td><td>      NA</td><td>      NA</td><td>      NA</td><td>      NA</td><td>⋯</td><td> 3122.781</td><td> 3587.884</td><td> 4615.4680</td><td> 5100.096</td><td> 5254.882</td><td> 5408.4105</td><td> 4166.9797</td><td> 3506.0729</td><td> 4095.8129</td><td> 3432.3857</td></tr>\n",
       "\t<tr><td>Albania    </td><td>ALB</td><td>      NA</td><td>      NA</td><td>      NA</td><td>      NA</td><td>      NA</td><td>      NA</td><td>      NA</td><td>      NA</td><td>⋯</td><td> 4114.140</td><td> 4094.362</td><td> 4437.1781</td><td> 4247.614</td><td> 4413.082</td><td> 4578.6667</td><td> 3952.8295</td><td> 4124.1089</td><td> 4532.8902</td><td> 5268.8485</td></tr>\n",
       "\t<tr><td>Andorra    </td><td>AND</td><td>      NA</td><td>      NA</td><td>      NA</td><td>      NA</td><td>      NA</td><td>      NA</td><td>      NA</td><td>      NA</td><td>⋯</td><td>43338.867</td><td>39736.354</td><td>41100.7299</td><td>38392.944</td><td>40626.752</td><td>42300.3341</td><td>36039.6535</td><td>37224.1089</td><td>39134.3934</td><td>42029.7627</td></tr>\n",
       "\t<tr><td>Arab World </td><td>ARB</td><td>      NA</td><td>      NA</td><td>      NA</td><td>      NA</td><td>      NA</td><td>      NA</td><td>      NA</td><td>      NA</td><td>⋯</td><td> 5182.727</td><td> 5946.259</td><td> 6890.1055</td><td> 7504.533</td><td> 7552.720</td><td> 7498.9383</td><td> 6458.8702</td><td> 6213.7852</td><td> 6279.4674</td><td> 6608.8070</td></tr>\n",
       "</tbody>\n",
       "</table>\n"
      ],
      "text/latex": [
       "A tibble: 6 × 61\n",
       "\\begin{tabular}{r|lllllllllllllllllllllllllllllllllllllllllllllllllllllllllllll}\n",
       " Country & Code & 1960 & 1961 & 1962 & 1963 & 1964 & 1965 & 1966 & 1967 & 1968 & 1969 & 1970 & 1971 & 1972 & 1973 & 1974 & 1975 & 1976 & 1977 & 1978 & 1979 & 1980 & 1981 & 1982 & 1983 & 1984 & 1985 & 1986 & 1987 & 1988 & 1989 & 1990 & 1991 & 1992 & 1993 & 1994 & 1995 & 1996 & 1997 & 1998 & 1999 & 2000 & 2001 & 2002 & 2003 & 2004 & 2005 & 2006 & 2007 & 2008 & 2009 & 2010 & 2011 & 2012 & 2013 & 2014 & 2015 & 2016 & 2017 & 2018\\\\\n",
       " <chr> & <chr> & <dbl> & <dbl> & <dbl> & <dbl> & <dbl> & <dbl> & <dbl> & <dbl> & <dbl> & <dbl> & <dbl> & <dbl> & <dbl> & <dbl> & <dbl> & <dbl> & <dbl> & <dbl> & <dbl> & <dbl> & <dbl> & <dbl> & <dbl> & <dbl> & <dbl> & <dbl> & <dbl> & <dbl> & <dbl> & <dbl> & <dbl> & <dbl> & <dbl> & <dbl> & <dbl> & <dbl> & <dbl> & <dbl> & <dbl> & <dbl> & <dbl> & <dbl> & <dbl> & <dbl> & <dbl> & <dbl> & <dbl> & <dbl> & <dbl> & <dbl> & <dbl> & <dbl> & <dbl> & <dbl> & <dbl> & <dbl> & <dbl> & <dbl> & <dbl>\\\\\n",
       "\\hline\n",
       "\t Aruba       & ABW &       NA &       NA &       NA &       NA &       NA &       NA &       NA &       NA &       NA &       NA &        NA &        NA &        NA &        NA &        NA &        NA &        NA &        NA &        NA &         NA &         NA &         NA &        NA &        NA &        NA &        NA &  6472.5020 &  7885.7965 &  9764.7900 & 11392.4558 & 12307.3117 & 13496.0034 & 14046.5040 & 14936.8270 & 16241.0463 & 16439.3564 & 16586.0684 & 17927.7496 & 19078.3432 & 19356.2034 & 20620.7006 & 20669.0320 & 20436.8871 & 20833.7616 & 22569.975 & 23300.0396 & 24045.2725 & 25835.1327 & 27084.7037 & 24630.454 & 23512.603 & 24985.9933 & 24713.698 & 25025.100 & 25533.5698 & 25796.3803 & 25239.6004 & 25630.2665 &         NA\\\\\n",
       "\t Afghanistan & AFG & 59.77319 & 59.86087 & 58.45801 & 78.70639 & 82.09523 & 101.1083 & 137.5944 & 160.8986 & 129.1083 & 129.3297 &  156.5189 &  159.5676 &  135.3173 &  143.1446 &  173.6538 &  186.5109 &  197.4455 &  224.2248 &  247.3541 &   275.7382 &   272.6553 &   264.1113 &        NA &        NA &        NA &        NA &         NA &         NA &         NA &         NA &         NA &         NA &         NA &         NA &         NA &         NA &         NA &         NA &         NA &         NA &         NA &         NA &   179.4265 &   190.6840 &   211.382 &   242.0314 &   263.7337 &   359.6935 &   364.6605 &   438.076 &   543.303 &   591.1623 &   641.872 &   637.165 &   613.8563 &   578.4664 &   547.2281 &   556.3021 &   520.8966\\\\\n",
       "\t Angola      & AGO &       NA &       NA &       NA &       NA &       NA &       NA &       NA &       NA &       NA &       NA &        NA &        NA &        NA &        NA &        NA &        NA &        NA &        NA &        NA &         NA &   710.9816 &   642.3839 &  619.9614 &  623.4406 &  637.7152 &  758.2376 &   685.2701 &   756.2619 &   792.3031 &   890.5541 &   947.7042 &   865.6927 &   656.3618 &   441.2007 &   328.6733 &   397.1795 &   522.6438 &   514.2952 &   423.5937 &   387.7843 &   556.8363 &   527.3335 &   872.4945 &   982.9609 &  1255.564 &  1902.4223 &  2599.5665 &  3121.9956 &  4080.9414 &  3122.781 &  3587.884 &  4615.4680 &  5100.096 &  5254.882 &  5408.4105 &  4166.9797 &  3506.0729 &  4095.8129 &  3432.3857\\\\\n",
       "\t Albania     & ALB &       NA &       NA &       NA &       NA &       NA &       NA &       NA &       NA &       NA &       NA &        NA &        NA &        NA &        NA &        NA &        NA &        NA &        NA &        NA &         NA &         NA &         NA &        NA &        NA &  639.4847 &  639.8659 &   693.8735 &   674.7934 &   652.7743 &   697.9956 &   617.2304 &   336.5870 &   200.8522 &   367.2792 &   586.4163 &   750.6044 &  1009.9777 &   717.3806 &   813.7903 &  1033.2417 &  1126.6833 &  1281.6594 &  1425.1248 &  1846.1188 &  2373.580 &  2673.7873 &  2972.7433 &  3595.0372 &  4370.5401 &  4114.140 &  4094.362 &  4437.1781 &  4247.614 &  4413.082 &  4578.6667 &  3952.8295 &  4124.1089 &  4532.8902 &  5268.8485\\\\\n",
       "\t Andorra     & AND &       NA &       NA &       NA &       NA &       NA &       NA &       NA &       NA &       NA &       NA & 3238.5568 & 3498.1737 & 4217.1736 & 5342.1686 & 6319.7390 & 7169.1010 & 7152.3751 & 7751.3702 & 9129.7062 & 11820.8494 & 12377.4116 & 10372.2328 & 9610.2663 & 8022.6548 & 7728.9067 & 7774.3938 & 10361.8160 & 12616.1676 & 14304.3570 & 15166.4379 & 18878.5060 & 19532.5402 & 20547.7118 & 16516.4710 & 16234.8090 & 18461.0649 & 19017.1746 & 18353.0597 & 18894.5215 & 19261.7105 & 21936.5301 & 22228.8465 & 24741.4936 & 32776.4423 & 38503.480 & 41282.0201 & 43747.6918 & 48582.2209 & 47785.0893 & 43338.867 & 39736.354 & 41100.7299 & 38392.944 & 40626.752 & 42300.3341 & 36039.6535 & 37224.1089 & 39134.3934 & 42029.7627\\\\\n",
       "\t Arab World  & ARB &       NA &       NA &       NA &       NA &       NA &       NA &       NA &       NA & 223.9389 & 239.1470 &  261.9477 &  294.9874 &  342.4436 &  421.7570 &  775.7000 &  834.1582 & 1004.8468 & 1120.7455 & 1191.3185 &  1560.7458 &  2049.4525 &  2047.2318 & 1861.5495 & 1696.0146 & 1669.2758 & 1603.9420 &  1486.9434 &  1540.4124 &  1472.8555 &  1502.3164 &  2006.1271 &  1925.4206 &  2024.0306 &  1993.7420 &  1986.1734 &  2069.4443 &  2232.7937 &  2316.0685 &  2186.3707 &  2329.8645 &  2603.6717 &  2507.9368 &  2474.3574 &  2734.1495 &  3132.304 &  3763.0340 &  4356.6884 &  4960.6496 &  6143.5612 &  5182.727 &  5946.259 &  6890.1055 &  7504.533 &  7552.720 &  7498.9383 &  6458.8702 &  6213.7852 &  6279.4674 &  6608.8070\\\\\n",
       "\\end{tabular}\n"
      ],
      "text/markdown": [
       "\n",
       "A tibble: 6 × 61\n",
       "\n",
       "| Country &lt;chr&gt; | Code &lt;chr&gt; | 1960 &lt;dbl&gt; | 1961 &lt;dbl&gt; | 1962 &lt;dbl&gt; | 1963 &lt;dbl&gt; | 1964 &lt;dbl&gt; | 1965 &lt;dbl&gt; | 1966 &lt;dbl&gt; | 1967 &lt;dbl&gt; | ⋯ ⋯ | 2009 &lt;dbl&gt; | 2010 &lt;dbl&gt; | 2011 &lt;dbl&gt; | 2012 &lt;dbl&gt; | 2013 &lt;dbl&gt; | 2014 &lt;dbl&gt; | 2015 &lt;dbl&gt; | 2016 &lt;dbl&gt; | 2017 &lt;dbl&gt; | 2018 &lt;dbl&gt; |\n",
       "|---|---|---|---|---|---|---|---|---|---|---|---|---|---|---|---|---|---|---|---|---|\n",
       "| Aruba       | ABW |       NA |       NA |       NA |       NA |       NA |       NA |       NA |       NA | ⋯ | 24630.454 | 23512.603 | 24985.9933 | 24713.698 | 25025.100 | 25533.5698 | 25796.3803 | 25239.6004 | 25630.2665 |         NA |\n",
       "| Afghanistan | AFG | 59.77319 | 59.86087 | 58.45801 | 78.70639 | 82.09523 | 101.1083 | 137.5944 | 160.8986 | ⋯ |   438.076 |   543.303 |   591.1623 |   641.872 |   637.165 |   613.8563 |   578.4664 |   547.2281 |   556.3021 |   520.8966 |\n",
       "| Angola      | AGO |       NA |       NA |       NA |       NA |       NA |       NA |       NA |       NA | ⋯ |  3122.781 |  3587.884 |  4615.4680 |  5100.096 |  5254.882 |  5408.4105 |  4166.9797 |  3506.0729 |  4095.8129 |  3432.3857 |\n",
       "| Albania     | ALB |       NA |       NA |       NA |       NA |       NA |       NA |       NA |       NA | ⋯ |  4114.140 |  4094.362 |  4437.1781 |  4247.614 |  4413.082 |  4578.6667 |  3952.8295 |  4124.1089 |  4532.8902 |  5268.8485 |\n",
       "| Andorra     | AND |       NA |       NA |       NA |       NA |       NA |       NA |       NA |       NA | ⋯ | 43338.867 | 39736.354 | 41100.7299 | 38392.944 | 40626.752 | 42300.3341 | 36039.6535 | 37224.1089 | 39134.3934 | 42029.7627 |\n",
       "| Arab World  | ARB |       NA |       NA |       NA |       NA |       NA |       NA |       NA |       NA | ⋯ |  5182.727 |  5946.259 |  6890.1055 |  7504.533 |  7552.720 |  7498.9383 |  6458.8702 |  6213.7852 |  6279.4674 |  6608.8070 |\n",
       "\n"
      ],
      "text/plain": [
       "  Country     Code 1960     1961     1962     1963     1964     1965    \n",
       "1 Aruba       ABW        NA       NA       NA       NA       NA       NA\n",
       "2 Afghanistan AFG  59.77319 59.86087 58.45801 78.70639 82.09523 101.1083\n",
       "3 Angola      AGO        NA       NA       NA       NA       NA       NA\n",
       "4 Albania     ALB        NA       NA       NA       NA       NA       NA\n",
       "5 Andorra     AND        NA       NA       NA       NA       NA       NA\n",
       "6 Arab World  ARB        NA       NA       NA       NA       NA       NA\n",
       "  1966     1967     ⋯ 2009      2010      2011       2012      2013     \n",
       "1       NA       NA ⋯ 24630.454 23512.603 24985.9933 24713.698 25025.100\n",
       "2 137.5944 160.8986 ⋯   438.076   543.303   591.1623   641.872   637.165\n",
       "3       NA       NA ⋯  3122.781  3587.884  4615.4680  5100.096  5254.882\n",
       "4       NA       NA ⋯  4114.140  4094.362  4437.1781  4247.614  4413.082\n",
       "5       NA       NA ⋯ 43338.867 39736.354 41100.7299 38392.944 40626.752\n",
       "6       NA       NA ⋯  5182.727  5946.259  6890.1055  7504.533  7552.720\n",
       "  2014       2015       2016       2017       2018      \n",
       "1 25533.5698 25796.3803 25239.6004 25630.2665         NA\n",
       "2   613.8563   578.4664   547.2281   556.3021   520.8966\n",
       "3  5408.4105  4166.9797  3506.0729  4095.8129  3432.3857\n",
       "4  4578.6667  3952.8295  4124.1089  4532.8902  5268.8485\n",
       "5 42300.3341 36039.6535 37224.1089 39134.3934 42029.7627\n",
       "6  7498.9383  6458.8702  6213.7852  6279.4674  6608.8070"
      ]
     },
     "metadata": {},
     "output_type": "display_data"
    }
   ],
   "source": [
    "#Reading and cleaning GDP per Capita data\n",
    "gpc <- read_csv('Data/raw/GdpPerCapita/gdpPerCapita.csv',skip = 4) \n",
    "gpc <- gpc %>%\n",
    "    select(-`Indicator Name`,-`Indicator Code`,-`X65`,-`2019`) %>%\n",
    "    rename(Country = `Country Name`,Code = `Country Code`)\n",
    "gpc %>% head()"
   ]
  },
  {
   "cell_type": "code",
   "execution_count": 3,
   "metadata": {},
   "outputs": [
    {
     "data": {
      "text/html": [
       "<table>\n",
       "<caption>A tibble: 6 × 4</caption>\n",
       "<thead>\n",
       "\t<tr><th scope=col>Country</th><th scope=col>Code</th><th scope=col>Year</th><th scope=col>gdpPerCap</th></tr>\n",
       "\t<tr><th scope=col>&lt;chr&gt;</th><th scope=col>&lt;chr&gt;</th><th scope=col>&lt;chr&gt;</th><th scope=col>&lt;dbl&gt;</th></tr>\n",
       "</thead>\n",
       "<tbody>\n",
       "\t<tr><td>Afghanistan</td><td>AFG</td><td>1960</td><td>  59.77319</td></tr>\n",
       "\t<tr><td>Australia  </td><td>AUS</td><td>1960</td><td>1807.78571</td></tr>\n",
       "\t<tr><td>Austria    </td><td>AUT</td><td>1960</td><td> 935.46043</td></tr>\n",
       "\t<tr><td>Burundi    </td><td>BDI</td><td>1960</td><td>  70.05173</td></tr>\n",
       "\t<tr><td>Belgium    </td><td>BEL</td><td>1960</td><td>1273.69166</td></tr>\n",
       "\t<tr><td>Benin      </td><td>BEN</td><td>1960</td><td>  93.02251</td></tr>\n",
       "</tbody>\n",
       "</table>\n"
      ],
      "text/latex": [
       "A tibble: 6 × 4\n",
       "\\begin{tabular}{r|llll}\n",
       " Country & Code & Year & gdpPerCap\\\\\n",
       " <chr> & <chr> & <chr> & <dbl>\\\\\n",
       "\\hline\n",
       "\t Afghanistan & AFG & 1960 &   59.77319\\\\\n",
       "\t Australia   & AUS & 1960 & 1807.78571\\\\\n",
       "\t Austria     & AUT & 1960 &  935.46043\\\\\n",
       "\t Burundi     & BDI & 1960 &   70.05173\\\\\n",
       "\t Belgium     & BEL & 1960 & 1273.69166\\\\\n",
       "\t Benin       & BEN & 1960 &   93.02251\\\\\n",
       "\\end{tabular}\n"
      ],
      "text/markdown": [
       "\n",
       "A tibble: 6 × 4\n",
       "\n",
       "| Country &lt;chr&gt; | Code &lt;chr&gt; | Year &lt;chr&gt; | gdpPerCap &lt;dbl&gt; |\n",
       "|---|---|---|---|\n",
       "| Afghanistan | AFG | 1960 |   59.77319 |\n",
       "| Australia   | AUS | 1960 | 1807.78571 |\n",
       "| Austria     | AUT | 1960 |  935.46043 |\n",
       "| Burundi     | BDI | 1960 |   70.05173 |\n",
       "| Belgium     | BEL | 1960 | 1273.69166 |\n",
       "| Benin       | BEN | 1960 |   93.02251 |\n",
       "\n"
      ],
      "text/plain": [
       "  Country     Code Year gdpPerCap \n",
       "1 Afghanistan AFG  1960   59.77319\n",
       "2 Australia   AUS  1960 1807.78571\n",
       "3 Austria     AUT  1960  935.46043\n",
       "4 Burundi     BDI  1960   70.05173\n",
       "5 Belgium     BEL  1960 1273.69166\n",
       "6 Benin       BEN  1960   93.02251"
      ]
     },
     "metadata": {},
     "output_type": "display_data"
    }
   ],
   "source": [
    "# Gathering all the years column into one\n",
    "gpc_gath <- gpc %>%\n",
    "    gather(key = 'Year',value = 'gdpPerCap',-`Country`,-`Code`) %>%\n",
    "    drop_na()\n",
    "gpc_gath %>% head()"
   ]
  },
  {
   "cell_type": "code",
   "execution_count": 4,
   "metadata": {},
   "outputs": [
    {
     "name": "stderr",
     "output_type": "stream",
     "text": [
      "Warning message:\n",
      "“Missing column names filled in: 'X65' [65]”Parsed with column specification:\n",
      "cols(\n",
      "  .default = col_double(),\n",
      "  `Country Name` = \u001b[31mcol_character()\u001b[39m,\n",
      "  `Country Code` = \u001b[31mcol_character()\u001b[39m,\n",
      "  `Indicator Name` = \u001b[31mcol_character()\u001b[39m,\n",
      "  `Indicator Code` = \u001b[31mcol_character()\u001b[39m,\n",
      "  `1960` = \u001b[33mcol_logical()\u001b[39m,\n",
      "  `1961` = \u001b[33mcol_logical()\u001b[39m,\n",
      "  `1962` = \u001b[33mcol_logical()\u001b[39m,\n",
      "  `1963` = \u001b[33mcol_logical()\u001b[39m,\n",
      "  `1964` = \u001b[33mcol_logical()\u001b[39m,\n",
      "  `1965` = \u001b[33mcol_logical()\u001b[39m,\n",
      "  `1966` = \u001b[33mcol_logical()\u001b[39m,\n",
      "  `1967` = \u001b[33mcol_logical()\u001b[39m,\n",
      "  `1968` = \u001b[33mcol_logical()\u001b[39m,\n",
      "  `1969` = \u001b[33mcol_logical()\u001b[39m,\n",
      "  `1971` = \u001b[33mcol_logical()\u001b[39m,\n",
      "  `2019` = \u001b[33mcol_logical()\u001b[39m,\n",
      "  X65 = \u001b[33mcol_logical()\u001b[39m\n",
      ")\n",
      "See spec(...) for full column specifications.\n"
     ]
    },
    {
     "data": {
      "text/html": [
       "<table>\n",
       "<caption>A tibble: 6 × 61</caption>\n",
       "<thead>\n",
       "\t<tr><th scope=col>Country</th><th scope=col>Code</th><th scope=col>1960</th><th scope=col>1961</th><th scope=col>1962</th><th scope=col>1963</th><th scope=col>1964</th><th scope=col>1965</th><th scope=col>1966</th><th scope=col>1967</th><th scope=col>⋯</th><th scope=col>2009</th><th scope=col>2010</th><th scope=col>2011</th><th scope=col>2012</th><th scope=col>2013</th><th scope=col>2014</th><th scope=col>2015</th><th scope=col>2016</th><th scope=col>2017</th><th scope=col>2018</th></tr>\n",
       "\t<tr><th scope=col>&lt;chr&gt;</th><th scope=col>&lt;chr&gt;</th><th scope=col>&lt;lgl&gt;</th><th scope=col>&lt;lgl&gt;</th><th scope=col>&lt;lgl&gt;</th><th scope=col>&lt;lgl&gt;</th><th scope=col>&lt;lgl&gt;</th><th scope=col>&lt;lgl&gt;</th><th scope=col>&lt;lgl&gt;</th><th scope=col>&lt;lgl&gt;</th><th scope=col>⋯</th><th scope=col>&lt;dbl&gt;</th><th scope=col>&lt;dbl&gt;</th><th scope=col>&lt;dbl&gt;</th><th scope=col>&lt;dbl&gt;</th><th scope=col>&lt;dbl&gt;</th><th scope=col>&lt;dbl&gt;</th><th scope=col>&lt;dbl&gt;</th><th scope=col>&lt;dbl&gt;</th><th scope=col>&lt;dbl&gt;</th><th scope=col>&lt;dbl&gt;</th></tr>\n",
       "</thead>\n",
       "<tbody>\n",
       "\t<tr><td>Aruba      </td><td>ABW</td><td>NA</td><td>NA</td><td>NA</td><td>NA</td><td>NA</td><td>NA</td><td>NA</td><td>NA</td><td>⋯</td><td>      NA</td><td>96.82264</td><td>      NA</td><td>      NA</td><td>      NA</td><td>      NA</td><td>      NA</td><td>      NA</td><td>      NA</td><td>97.80742</td></tr>\n",
       "\t<tr><td>Afghanistan</td><td>AFG</td><td>NA</td><td>NA</td><td>NA</td><td>NA</td><td>NA</td><td>NA</td><td>NA</td><td>NA</td><td>⋯</td><td>      NA</td><td>      NA</td><td>31.74112</td><td>      NA</td><td>      NA</td><td>      NA</td><td>      NA</td><td>      NA</td><td>      NA</td><td>43.01972</td></tr>\n",
       "\t<tr><td>Angola     </td><td>AGO</td><td>NA</td><td>NA</td><td>NA</td><td>NA</td><td>NA</td><td>NA</td><td>NA</td><td>NA</td><td>⋯</td><td>      NA</td><td>      NA</td><td>      NA</td><td>      NA</td><td>      NA</td><td>66.03011</td><td>      NA</td><td>      NA</td><td>      NA</td><td>      NA</td></tr>\n",
       "\t<tr><td>Albania    </td><td>ALB</td><td>NA</td><td>NA</td><td>NA</td><td>NA</td><td>NA</td><td>NA</td><td>NA</td><td>NA</td><td>⋯</td><td>      NA</td><td>      NA</td><td>96.84530</td><td>97.24697</td><td>      NA</td><td>      NA</td><td>      NA</td><td>      NA</td><td>      NA</td><td>98.14115</td></tr>\n",
       "\t<tr><td>Andorra    </td><td>AND</td><td>NA</td><td>NA</td><td>NA</td><td>NA</td><td>NA</td><td>NA</td><td>NA</td><td>NA</td><td>⋯</td><td>      NA</td><td>      NA</td><td>      NA</td><td>      NA</td><td>      NA</td><td>      NA</td><td>      NA</td><td>      NA</td><td>      NA</td><td>      NA</td></tr>\n",
       "\t<tr><td>Arab World </td><td>ARB</td><td>NA</td><td>NA</td><td>NA</td><td>NA</td><td>NA</td><td>NA</td><td>NA</td><td>NA</td><td>⋯</td><td>69.80552</td><td>70.76441</td><td>72.59386</td><td>73.72170</td><td>73.94749</td><td>74.61962</td><td>75.11764</td><td>73.69399</td><td>74.47393</td><td>74.59660</td></tr>\n",
       "</tbody>\n",
       "</table>\n"
      ],
      "text/latex": [
       "A tibble: 6 × 61\n",
       "\\begin{tabular}{r|lllllllllllllllllllllllllllllllllllllllllllllllllllllllllllll}\n",
       " Country & Code & 1960 & 1961 & 1962 & 1963 & 1964 & 1965 & 1966 & 1967 & 1968 & 1969 & 1970 & 1971 & 1972 & 1973 & 1974 & 1975 & 1976 & 1977 & 1978 & 1979 & 1980 & 1981 & 1982 & 1983 & 1984 & 1985 & 1986 & 1987 & 1988 & 1989 & 1990 & 1991 & 1992 & 1993 & 1994 & 1995 & 1996 & 1997 & 1998 & 1999 & 2000 & 2001 & 2002 & 2003 & 2004 & 2005 & 2006 & 2007 & 2008 & 2009 & 2010 & 2011 & 2012 & 2013 & 2014 & 2015 & 2016 & 2017 & 2018\\\\\n",
       " <chr> & <chr> & <lgl> & <lgl> & <lgl> & <lgl> & <lgl> & <lgl> & <lgl> & <lgl> & <lgl> & <lgl> & <dbl> & <lgl> & <dbl> & <dbl> & <dbl> & <dbl> & <dbl> & <dbl> & <dbl> & <dbl> & <dbl> & <dbl> & <dbl> & <dbl> & <dbl> & <dbl> & <dbl> & <dbl> & <dbl> & <dbl> & <dbl> & <dbl> & <dbl> & <dbl> & <dbl> & <dbl> & <dbl> & <dbl> & <dbl> & <dbl> & <dbl> & <dbl> & <dbl> & <dbl> & <dbl> & <dbl> & <dbl> & <dbl> & <dbl> & <dbl> & <dbl> & <dbl> & <dbl> & <dbl> & <dbl> & <dbl> & <dbl> & <dbl> & <dbl>\\\\\n",
       "\\hline\n",
       "\t Aruba       & ABW & NA & NA & NA & NA & NA & NA & NA & NA & NA & NA & NA & NA & NA & NA & NA & NA & NA & NA &       NA &       NA &       NA &       NA &      NA &       NA &       NA &       NA &       NA &       NA &       NA &       NA &       NA &       NA &       NA &       NA &       NA &       NA &       NA &       NA &       NA &       NA & 97.29125 &       NA &       NA &       NA &       NA &       NA &       NA &       NA &       NA &       NA & 96.82264 &       NA &       NA &       NA &       NA &       NA &       NA &       NA & 97.80742\\\\\n",
       "\t Afghanistan & AFG & NA & NA & NA & NA & NA & NA & NA & NA & NA & NA & NA & NA & NA & NA & NA & NA & NA & NA &       NA & 18.15768 &       NA &       NA &      NA &       NA &       NA &       NA &       NA &       NA &       NA &       NA &       NA &       NA &       NA &       NA &       NA &       NA &       NA &       NA &       NA &       NA &       NA &       NA &       NA &       NA &       NA &       NA &       NA &       NA &       NA &       NA &       NA & 31.74112 &       NA &       NA &       NA &       NA &       NA &       NA & 43.01972\\\\\n",
       "\t Angola      & AGO & NA & NA & NA & NA & NA & NA & NA & NA & NA & NA & NA & NA & NA & NA & NA & NA & NA & NA &       NA &       NA &       NA &       NA &      NA &       NA &       NA &       NA &       NA &       NA &       NA &       NA &       NA &       NA &       NA &       NA &       NA &       NA &       NA &       NA &       NA &       NA &       NA & 67.40542 &       NA &       NA &       NA &       NA &       NA &       NA &       NA &       NA &       NA &       NA &       NA &       NA & 66.03011 &       NA &       NA &       NA &       NA\\\\\n",
       "\t Albania     & ALB & NA & NA & NA & NA & NA & NA & NA & NA & NA & NA & NA & NA & NA & NA & NA & NA & NA & NA &       NA &       NA &       NA &       NA &      NA &       NA &       NA &       NA &       NA &       NA &       NA &       NA &       NA &       NA &       NA &       NA &       NA &       NA &       NA &       NA &       NA &       NA &       NA & 98.71298 &       NA &       NA &       NA &       NA &       NA &       NA & 95.93864 &       NA &       NA & 96.84530 & 97.24697 &       NA &       NA &       NA &       NA &       NA & 98.14115\\\\\n",
       "\t Andorra     & AND & NA & NA & NA & NA & NA & NA & NA & NA & NA & NA & NA & NA & NA & NA & NA & NA & NA & NA &       NA &       NA &       NA &       NA &      NA &       NA &       NA &       NA &       NA &       NA &       NA &       NA &       NA &       NA &       NA &       NA &       NA &       NA &       NA &       NA &       NA &       NA &       NA &       NA &       NA &       NA &       NA &       NA &       NA &       NA &       NA &       NA &       NA &       NA &       NA &       NA &       NA &       NA &       NA &       NA &       NA\\\\\n",
       "\t Arab World  & ARB & NA & NA & NA & NA & NA & NA & NA & NA & NA & NA & NA & NA & NA & NA & NA & NA & NA & NA & 47.17525 & 47.65140 & 48.19098 & 48.72034 & 49.3128 & 49.46091 & 50.22212 & 51.00671 & 51.92481 & 52.47987 & 53.43742 & 54.30371 & 55.22865 & 56.30249 & 57.21008 & 57.90468 & 58.71621 & 59.68523 & 61.15468 & 61.91185 & 63.11762 & 64.17577 & 65.11593 & 66.33673 & 67.52147 & 70.18776 & 71.17532 & 71.75142 & 69.65244 & 70.13626 & 71.08016 & 69.80552 & 70.76441 & 72.59386 & 73.72170 & 73.94749 & 74.61962 & 75.11764 & 73.69399 & 74.47393 & 74.59660\\\\\n",
       "\\end{tabular}\n"
      ],
      "text/markdown": [
       "\n",
       "A tibble: 6 × 61\n",
       "\n",
       "| Country &lt;chr&gt; | Code &lt;chr&gt; | 1960 &lt;lgl&gt; | 1961 &lt;lgl&gt; | 1962 &lt;lgl&gt; | 1963 &lt;lgl&gt; | 1964 &lt;lgl&gt; | 1965 &lt;lgl&gt; | 1966 &lt;lgl&gt; | 1967 &lt;lgl&gt; | ⋯ ⋯ | 2009 &lt;dbl&gt; | 2010 &lt;dbl&gt; | 2011 &lt;dbl&gt; | 2012 &lt;dbl&gt; | 2013 &lt;dbl&gt; | 2014 &lt;dbl&gt; | 2015 &lt;dbl&gt; | 2016 &lt;dbl&gt; | 2017 &lt;dbl&gt; | 2018 &lt;dbl&gt; |\n",
       "|---|---|---|---|---|---|---|---|---|---|---|---|---|---|---|---|---|---|---|---|---|\n",
       "| Aruba       | ABW | NA | NA | NA | NA | NA | NA | NA | NA | ⋯ |       NA | 96.82264 |       NA |       NA |       NA |       NA |       NA |       NA |       NA | 97.80742 |\n",
       "| Afghanistan | AFG | NA | NA | NA | NA | NA | NA | NA | NA | ⋯ |       NA |       NA | 31.74112 |       NA |       NA |       NA |       NA |       NA |       NA | 43.01972 |\n",
       "| Angola      | AGO | NA | NA | NA | NA | NA | NA | NA | NA | ⋯ |       NA |       NA |       NA |       NA |       NA | 66.03011 |       NA |       NA |       NA |       NA |\n",
       "| Albania     | ALB | NA | NA | NA | NA | NA | NA | NA | NA | ⋯ |       NA |       NA | 96.84530 | 97.24697 |       NA |       NA |       NA |       NA |       NA | 98.14115 |\n",
       "| Andorra     | AND | NA | NA | NA | NA | NA | NA | NA | NA | ⋯ |       NA |       NA |       NA |       NA |       NA |       NA |       NA |       NA |       NA |       NA |\n",
       "| Arab World  | ARB | NA | NA | NA | NA | NA | NA | NA | NA | ⋯ | 69.80552 | 70.76441 | 72.59386 | 73.72170 | 73.94749 | 74.61962 | 75.11764 | 73.69399 | 74.47393 | 74.59660 |\n",
       "\n"
      ],
      "text/plain": [
       "  Country     Code 1960 1961 1962 1963 1964 1965 1966 1967 ⋯ 2009     2010    \n",
       "1 Aruba       ABW  NA   NA   NA   NA   NA   NA   NA   NA   ⋯       NA 96.82264\n",
       "2 Afghanistan AFG  NA   NA   NA   NA   NA   NA   NA   NA   ⋯       NA       NA\n",
       "3 Angola      AGO  NA   NA   NA   NA   NA   NA   NA   NA   ⋯       NA       NA\n",
       "4 Albania     ALB  NA   NA   NA   NA   NA   NA   NA   NA   ⋯       NA       NA\n",
       "5 Andorra     AND  NA   NA   NA   NA   NA   NA   NA   NA   ⋯       NA       NA\n",
       "6 Arab World  ARB  NA   NA   NA   NA   NA   NA   NA   NA   ⋯ 69.80552 70.76441\n",
       "  2011     2012     2013     2014     2015     2016     2017     2018    \n",
       "1       NA       NA       NA       NA       NA       NA       NA 97.80742\n",
       "2 31.74112       NA       NA       NA       NA       NA       NA 43.01972\n",
       "3       NA       NA       NA 66.03011       NA       NA       NA       NA\n",
       "4 96.84530 97.24697       NA       NA       NA       NA       NA 98.14115\n",
       "5       NA       NA       NA       NA       NA       NA       NA       NA\n",
       "6 72.59386 73.72170 73.94749 74.61962 75.11764 73.69399 74.47393 74.59660"
      ]
     },
     "metadata": {},
     "output_type": "display_data"
    }
   ],
   "source": [
    "#Reading literacy rate data\n",
    "lit <- read_csv('Data/raw/literacyRateWorldBank/literacy.csv',skip = 4) \n",
    "lit <- lit %>%\n",
    "    select(-`Indicator Name`,-`Indicator Code`,-`X65`,-`2019`) %>%\n",
    "    rename(Country = `Country Name`,Code = `Country Code`)\n",
    "lit %>% head()"
   ]
  },
  {
   "cell_type": "code",
   "execution_count": 5,
   "metadata": {},
   "outputs": [
    {
     "data": {
      "text/html": [
       "<table>\n",
       "<caption>A tibble: 6 × 4</caption>\n",
       "<thead>\n",
       "\t<tr><th scope=col>Country</th><th scope=col>Code</th><th scope=col>Year</th><th scope=col>literacy</th></tr>\n",
       "\t<tr><th scope=col>&lt;chr&gt;</th><th scope=col>&lt;chr&gt;</th><th scope=col>&lt;chr&gt;</th><th scope=col>&lt;dbl&gt;</th></tr>\n",
       "</thead>\n",
       "<tbody>\n",
       "\t<tr><td>Aruba      </td><td>ABW</td><td>1960</td><td>NA</td></tr>\n",
       "\t<tr><td>Afghanistan</td><td>AFG</td><td>1960</td><td>NA</td></tr>\n",
       "\t<tr><td>Angola     </td><td>AGO</td><td>1960</td><td>NA</td></tr>\n",
       "\t<tr><td>Albania    </td><td>ALB</td><td>1960</td><td>NA</td></tr>\n",
       "\t<tr><td>Andorra    </td><td>AND</td><td>1960</td><td>NA</td></tr>\n",
       "\t<tr><td>Arab World </td><td>ARB</td><td>1960</td><td>NA</td></tr>\n",
       "</tbody>\n",
       "</table>\n"
      ],
      "text/latex": [
       "A tibble: 6 × 4\n",
       "\\begin{tabular}{r|llll}\n",
       " Country & Code & Year & literacy\\\\\n",
       " <chr> & <chr> & <chr> & <dbl>\\\\\n",
       "\\hline\n",
       "\t Aruba       & ABW & 1960 & NA\\\\\n",
       "\t Afghanistan & AFG & 1960 & NA\\\\\n",
       "\t Angola      & AGO & 1960 & NA\\\\\n",
       "\t Albania     & ALB & 1960 & NA\\\\\n",
       "\t Andorra     & AND & 1960 & NA\\\\\n",
       "\t Arab World  & ARB & 1960 & NA\\\\\n",
       "\\end{tabular}\n"
      ],
      "text/markdown": [
       "\n",
       "A tibble: 6 × 4\n",
       "\n",
       "| Country &lt;chr&gt; | Code &lt;chr&gt; | Year &lt;chr&gt; | literacy &lt;dbl&gt; |\n",
       "|---|---|---|---|\n",
       "| Aruba       | ABW | 1960 | NA |\n",
       "| Afghanistan | AFG | 1960 | NA |\n",
       "| Angola      | AGO | 1960 | NA |\n",
       "| Albania     | ALB | 1960 | NA |\n",
       "| Andorra     | AND | 1960 | NA |\n",
       "| Arab World  | ARB | 1960 | NA |\n",
       "\n"
      ],
      "text/plain": [
       "  Country     Code Year literacy\n",
       "1 Aruba       ABW  1960 NA      \n",
       "2 Afghanistan AFG  1960 NA      \n",
       "3 Angola      AGO  1960 NA      \n",
       "4 Albania     ALB  1960 NA      \n",
       "5 Andorra     AND  1960 NA      \n",
       "6 Arab World  ARB  1960 NA      "
      ]
     },
     "metadata": {},
     "output_type": "display_data"
    }
   ],
   "source": [
    "# Cleaning literacy data\n",
    "lit_gath <- lit %>%\n",
    "    gather(key = 'Year',value = 'literacy',-`Country`,-`Code`)\n",
    "lit_gath %>% head()"
   ]
  },
  {
   "cell_type": "code",
   "execution_count": 6,
   "metadata": {},
   "outputs": [
    {
     "data": {
      "text/html": [
       "<table>\n",
       "<caption>A tibble: 6 × 5</caption>\n",
       "<thead>\n",
       "\t<tr><th scope=col>Country</th><th scope=col>Code</th><th scope=col>Year</th><th scope=col>gdpPerCap</th><th scope=col>literacy</th></tr>\n",
       "\t<tr><th scope=col>&lt;chr&gt;</th><th scope=col>&lt;chr&gt;</th><th scope=col>&lt;chr&gt;</th><th scope=col>&lt;dbl&gt;</th><th scope=col>&lt;dbl&gt;</th></tr>\n",
       "</thead>\n",
       "<tbody>\n",
       "\t<tr><td>Afghanistan</td><td>AFG</td><td>1960</td><td>  59.77319</td><td>NA</td></tr>\n",
       "\t<tr><td>Australia  </td><td>AUS</td><td>1960</td><td>1807.78571</td><td>NA</td></tr>\n",
       "\t<tr><td>Austria    </td><td>AUT</td><td>1960</td><td> 935.46043</td><td>NA</td></tr>\n",
       "\t<tr><td>Burundi    </td><td>BDI</td><td>1960</td><td>  70.05173</td><td>NA</td></tr>\n",
       "\t<tr><td>Belgium    </td><td>BEL</td><td>1960</td><td>1273.69166</td><td>NA</td></tr>\n",
       "\t<tr><td>Benin      </td><td>BEN</td><td>1960</td><td>  93.02251</td><td>NA</td></tr>\n",
       "</tbody>\n",
       "</table>\n"
      ],
      "text/latex": [
       "A tibble: 6 × 5\n",
       "\\begin{tabular}{r|lllll}\n",
       " Country & Code & Year & gdpPerCap & literacy\\\\\n",
       " <chr> & <chr> & <chr> & <dbl> & <dbl>\\\\\n",
       "\\hline\n",
       "\t Afghanistan & AFG & 1960 &   59.77319 & NA\\\\\n",
       "\t Australia   & AUS & 1960 & 1807.78571 & NA\\\\\n",
       "\t Austria     & AUT & 1960 &  935.46043 & NA\\\\\n",
       "\t Burundi     & BDI & 1960 &   70.05173 & NA\\\\\n",
       "\t Belgium     & BEL & 1960 & 1273.69166 & NA\\\\\n",
       "\t Benin       & BEN & 1960 &   93.02251 & NA\\\\\n",
       "\\end{tabular}\n"
      ],
      "text/markdown": [
       "\n",
       "A tibble: 6 × 5\n",
       "\n",
       "| Country &lt;chr&gt; | Code &lt;chr&gt; | Year &lt;chr&gt; | gdpPerCap &lt;dbl&gt; | literacy &lt;dbl&gt; |\n",
       "|---|---|---|---|---|\n",
       "| Afghanistan | AFG | 1960 |   59.77319 | NA |\n",
       "| Australia   | AUS | 1960 | 1807.78571 | NA |\n",
       "| Austria     | AUT | 1960 |  935.46043 | NA |\n",
       "| Burundi     | BDI | 1960 |   70.05173 | NA |\n",
       "| Belgium     | BEL | 1960 | 1273.69166 | NA |\n",
       "| Benin       | BEN | 1960 |   93.02251 | NA |\n",
       "\n"
      ],
      "text/plain": [
       "  Country     Code Year gdpPerCap  literacy\n",
       "1 Afghanistan AFG  1960   59.77319 NA      \n",
       "2 Australia   AUS  1960 1807.78571 NA      \n",
       "3 Austria     AUT  1960  935.46043 NA      \n",
       "4 Burundi     BDI  1960   70.05173 NA      \n",
       "5 Belgium     BEL  1960 1273.69166 NA      \n",
       "6 Benin       BEN  1960   93.02251 NA      "
      ]
     },
     "metadata": {},
     "output_type": "display_data"
    }
   ],
   "source": [
    "# Joining literacy data to our main data frame having all the features\n",
    "all_data <- left_join(gpc_gath,select(lit_gath,Code,Year,literacy), by = c('Code','Year')) \n",
    "all_data %>% head()"
   ]
  },
  {
   "cell_type": "code",
   "execution_count": 7,
   "metadata": {},
   "outputs": [
    {
     "name": "stderr",
     "output_type": "stream",
     "text": [
      "Warning message:\n",
      "“Missing column names filled in: 'X65' [65]”Parsed with column specification:\n",
      "cols(\n",
      "  .default = col_double(),\n",
      "  `Country Name` = \u001b[31mcol_character()\u001b[39m,\n",
      "  `Country Code` = \u001b[31mcol_character()\u001b[39m,\n",
      "  `Indicator Name` = \u001b[31mcol_character()\u001b[39m,\n",
      "  `Indicator Code` = \u001b[31mcol_character()\u001b[39m,\n",
      "  `1960` = \u001b[33mcol_logical()\u001b[39m,\n",
      "  `2019` = \u001b[33mcol_logical()\u001b[39m,\n",
      "  X65 = \u001b[33mcol_logical()\u001b[39m\n",
      ")\n",
      "See spec(...) for full column specifications.\n"
     ]
    },
    {
     "data": {
      "text/html": [
       "<table>\n",
       "<caption>A tibble: 6 × 60</caption>\n",
       "<thead>\n",
       "\t<tr><th scope=col>Country</th><th scope=col>Code</th><th scope=col>1961</th><th scope=col>1962</th><th scope=col>1963</th><th scope=col>1964</th><th scope=col>1965</th><th scope=col>1966</th><th scope=col>1967</th><th scope=col>1968</th><th scope=col>⋯</th><th scope=col>2009</th><th scope=col>2010</th><th scope=col>2011</th><th scope=col>2012</th><th scope=col>2013</th><th scope=col>2014</th><th scope=col>2015</th><th scope=col>2016</th><th scope=col>2017</th><th scope=col>2018</th></tr>\n",
       "\t<tr><th scope=col>&lt;chr&gt;</th><th scope=col>&lt;chr&gt;</th><th scope=col>&lt;dbl&gt;</th><th scope=col>&lt;dbl&gt;</th><th scope=col>&lt;dbl&gt;</th><th scope=col>&lt;dbl&gt;</th><th scope=col>&lt;dbl&gt;</th><th scope=col>&lt;dbl&gt;</th><th scope=col>&lt;dbl&gt;</th><th scope=col>&lt;dbl&gt;</th><th scope=col>⋯</th><th scope=col>&lt;dbl&gt;</th><th scope=col>&lt;dbl&gt;</th><th scope=col>&lt;dbl&gt;</th><th scope=col>&lt;dbl&gt;</th><th scope=col>&lt;dbl&gt;</th><th scope=col>&lt;dbl&gt;</th><th scope=col>&lt;dbl&gt;</th><th scope=col>&lt;dbl&gt;</th><th scope=col>&lt;dbl&gt;</th><th scope=col>&lt;dbl&gt;</th></tr>\n",
       "</thead>\n",
       "<tbody>\n",
       "\t<tr><td>Aruba      </td><td>ABW</td><td>307.988889</td><td>312.361111</td><td>314.972222</td><td>316.844444</td><td>318.666667</td><td>320.638889</td><td>322.527778</td><td>324.366667</td><td>⋯</td><td>563.63889</td><td>564.82778</td><td>566.92222</td><td>569.77778</td><td>573.10556</td><td>576.52222</td><td>579.67222</td><td>582.62222</td><td>585.36667</td><td>588.02778</td></tr>\n",
       "\t<tr><td>Afghanistan</td><td>AFG</td><td> 14.044987</td><td> 14.323808</td><td> 14.617537</td><td> 14.926295</td><td> 15.250314</td><td> 15.585020</td><td> 15.929795</td><td> 16.293023</td><td>⋯</td><td> 43.49296</td><td> 44.70408</td><td> 46.13150</td><td> 47.73056</td><td> 49.42804</td><td> 51.11478</td><td> 52.71207</td><td> 54.19711</td><td> 55.59599</td><td> 56.93776</td></tr>\n",
       "\t<tr><td>Angola     </td><td>AGO</td><td>  4.436891</td><td>  4.498708</td><td>  4.555593</td><td>  4.600180</td><td>  4.628676</td><td>  4.637213</td><td>  4.631622</td><td>  4.629544</td><td>⋯</td><td> 18.05910</td><td> 18.73446</td><td> 19.42782</td><td> 20.13951</td><td> 20.86771</td><td> 21.61047</td><td> 22.36655</td><td> 23.13506</td><td> 23.91654</td><td> 24.71305</td></tr>\n",
       "\t<tr><td>Albania    </td><td>ALB</td><td> 60.576642</td><td> 62.456898</td><td> 64.329234</td><td> 66.209307</td><td> 68.058066</td><td> 69.874927</td><td> 71.737153</td><td> 73.805547</td><td>⋯</td><td>106.84376</td><td>106.31464</td><td>106.02901</td><td>105.85405</td><td>105.66029</td><td>105.44175</td><td>105.13515</td><td>104.96719</td><td>104.87069</td><td>104.61226</td></tr>\n",
       "\t<tr><td>Andorra    </td><td>AND</td><td> 30.585106</td><td> 32.702128</td><td> 34.919149</td><td> 37.168085</td><td> 39.465957</td><td> 41.802128</td><td> 44.165957</td><td> 46.574468</td><td>⋯</td><td>179.70851</td><td>179.67872</td><td>178.18511</td><td>175.37660</td><td>171.85957</td><td>168.53830</td><td>165.98085</td><td>164.46170</td><td>163.83191</td><td>163.84255</td></tr>\n",
       "\t<tr><td>Arab World </td><td>ARB</td><td>  8.430860</td><td>  8.663154</td><td>  8.903441</td><td>  9.152526</td><td>  9.410965</td><td>  9.679951</td><td>  9.959490</td><td> 10.247580</td><td>⋯</td><td> 30.85858</td><td> 31.59402</td><td> 32.33012</td><td> 33.06767</td><td> 33.80379</td><td> 34.53398</td><td> 35.25690</td><td> 35.96876</td><td> 36.66980</td><td> 37.37237</td></tr>\n",
       "</tbody>\n",
       "</table>\n"
      ],
      "text/latex": [
       "A tibble: 6 × 60\n",
       "\\begin{tabular}{r|llllllllllllllllllllllllllllllllllllllllllllllllllllllllllll}\n",
       " Country & Code & 1961 & 1962 & 1963 & 1964 & 1965 & 1966 & 1967 & 1968 & 1969 & 1970 & 1971 & 1972 & 1973 & 1974 & 1975 & 1976 & 1977 & 1978 & 1979 & 1980 & 1981 & 1982 & 1983 & 1984 & 1985 & 1986 & 1987 & 1988 & 1989 & 1990 & 1991 & 1992 & 1993 & 1994 & 1995 & 1996 & 1997 & 1998 & 1999 & 2000 & 2001 & 2002 & 2003 & 2004 & 2005 & 2006 & 2007 & 2008 & 2009 & 2010 & 2011 & 2012 & 2013 & 2014 & 2015 & 2016 & 2017 & 2018\\\\\n",
       " <chr> & <chr> & <dbl> & <dbl> & <dbl> & <dbl> & <dbl> & <dbl> & <dbl> & <dbl> & <dbl> & <dbl> & <dbl> & <dbl> & <dbl> & <dbl> & <dbl> & <dbl> & <dbl> & <dbl> & <dbl> & <dbl> & <dbl> & <dbl> & <dbl> & <dbl> & <dbl> & <dbl> & <dbl> & <dbl> & <dbl> & <dbl> & <dbl> & <dbl> & <dbl> & <dbl> & <dbl> & <dbl> & <dbl> & <dbl> & <dbl> & <dbl> & <dbl> & <dbl> & <dbl> & <dbl> & <dbl> & <dbl> & <dbl> & <dbl> & <dbl> & <dbl> & <dbl> & <dbl> & <dbl> & <dbl> & <dbl> & <dbl> & <dbl> & <dbl>\\\\\n",
       "\\hline\n",
       "\t Aruba       & ABW & 307.988889 & 312.361111 & 314.972222 & 316.844444 & 318.666667 & 320.638889 & 322.527778 & 324.366667 & 326.255556 & 328.127778 & 330.222222 & 332.444444 & 334.683333 & 336.266667 & 336.983333 & 336.588889 & 335.366667 & 333.905556 & 333.222222 & 333.866667 & 336.483333 & 340.805556 & 345.561111 & 349.088889 & 350.144444 & 348.022222 & 343.516667 & 339.327778 & 339.066667 & 345.272222 & 359.011111 & 379.08333 & 402.80000 & 426.11111 & 446.24444 & 462.22222 & 474.72778 & 484.87222 & 494.47222 & 504.73889 & 516.10000 & 527.73333 & 538.98333 & 548.53889 & 555.72778 & 560.18889 & 562.34444 & 563.10000 & 563.63889 & 564.82778 & 566.92222 & 569.77778 & 573.10556 & 576.52222 & 579.67222 & 582.62222 & 585.36667 & 588.02778\\\\\n",
       "\t Afghanistan & AFG &  14.044987 &  14.323808 &  14.617537 &  14.926295 &  15.250314 &  15.585020 &  15.929795 &  16.293023 &  16.686236 &  17.114913 &  17.577191 &  18.060863 &  18.547565 &  19.013188 &  19.436265 &  19.825220 &  20.174779 &  20.435006 &  20.542009 &  20.458461 &  20.175341 &  19.732451 &  19.204316 &  18.693582 &  18.286015 &  17.976563 &  17.774920 &  17.795553 &  18.179820 &  19.012205 &  20.370396 &  22.18783 &  24.22664 &  26.15527 &  27.74049 &  28.87822 &  29.64974 &  30.23277 &  30.89612 &  31.82911 &  33.09590 &  34.61810 &  36.27251 &  37.87440 &  39.29522 &  40.48808 &  41.51049 &  42.46282 &  43.49296 &  44.70408 &  46.13150 &  47.73056 &  49.42804 &  51.11478 &  52.71207 &  54.19711 &  55.59599 &  56.93776\\\\\n",
       "\t Angola      & AGO &   4.436891 &   4.498708 &   4.555593 &   4.600180 &   4.628676 &   4.637213 &   4.631622 &   4.629544 &   4.654892 &   4.724765 &   4.845413 &   5.012073 &   5.211328 &   5.423422 &   5.634074 &   5.839022 &   6.042941 &   6.249063 &   6.463517 &   6.690695 &   6.930654 &   7.181319 &   7.442124 &   7.712163 &   7.990693 &   8.277943 &   8.574035 &   8.877878 &   9.188078 &   9.503799 &   9.825059 &  10.15270 &  10.48773 &  10.83159 &  11.18570 &  11.55107 &  11.92875 &  12.32021 &  12.72709 &  13.15110 &  13.59249 &  14.05263 &  14.53556 &  15.04624 &  15.58803 &  16.16259 &  16.76856 &  17.40245 &  18.05910 &  18.73446 &  19.42782 &  20.13951 &  20.86771 &  21.61047 &  22.36655 &  23.13506 &  23.91654 &  24.71305\\\\\n",
       "\t Albania     & ALB &  60.576642 &  62.456898 &  64.329234 &  66.209307 &  68.058066 &  69.874927 &  71.737153 &  73.805547 &  75.974270 &  77.937190 &  79.848650 &  81.865912 &  83.823066 &  85.770949 &  87.767555 &  89.727226 &  91.735255 &  93.659343 &  95.541314 &  97.518139 &  99.491095 & 101.615985 & 103.794161 & 106.001058 & 108.202993 & 110.315146 & 112.540328 & 114.683796 & 117.808139 & 119.946788 & 119.225912 & 118.50507 & 117.78420 & 117.06336 & 116.34248 & 115.62164 & 114.90077 & 114.17993 & 113.45905 & 112.73821 & 111.68515 & 111.35073 & 110.93489 & 110.47223 & 109.90828 & 109.21704 & 108.39478 & 107.56620 & 106.84376 & 106.31464 & 106.02901 & 105.85405 & 105.66029 & 105.44175 & 105.13515 & 104.96719 & 104.87069 & 104.61226\\\\\n",
       "\t Andorra     & AND &  30.585106 &  32.702128 &  34.919149 &  37.168085 &  39.465957 &  41.802128 &  44.165957 &  46.574468 &  49.059574 &  51.651064 &  54.380851 &  57.217021 &  60.068085 &  62.808511 &  65.329787 &  67.610638 &  69.725532 &  71.780851 &  74.080851 &  76.738298 &  79.787234 &  83.221277 &  86.951064 &  90.863830 &  94.893617 &  98.972340 & 103.095745 & 107.306383 & 111.591489 & 115.976596 & 120.576596 & 125.29362 & 129.72553 & 133.35532 & 135.85106 & 136.93617 & 136.86596 & 136.47234 & 136.95745 & 139.12766 & 143.27872 & 149.04043 & 155.70638 & 162.22128 & 167.80213 & 172.32553 & 175.92340 & 178.42979 & 179.70851 & 179.67872 & 178.18511 & 175.37660 & 171.85957 & 168.53830 & 165.98085 & 164.46170 & 163.83191 & 163.84255\\\\\n",
       "\t Arab World  & ARB &   8.430860 &   8.663154 &   8.903441 &   9.152526 &   9.410965 &   9.679951 &   9.959490 &  10.247580 &  10.541383 &  10.839409 &  11.140162 &  11.445801 &  11.762925 &  12.100336 &  12.464221 &  12.856964 &  13.276051 &  13.716559 &  14.171137 &  14.634158 &  15.103942 &  15.581254 &  16.065812 &  16.557944 &  17.057705 &  17.563945 &  18.075438 &  18.592082 &  19.114029 &  19.817110 &  20.358106 &  20.73408 &  21.29364 &  21.84602 &  22.52760 &  23.05216 &  23.57027 &  24.08237 &  24.60020 &  25.12980 &  25.67166 &  26.22642 &  26.80081 &  27.40153 &  28.03371 &  28.69994 &  29.39751 &  30.11889 &  30.85858 &  31.59402 &  32.33012 &  33.06767 &  33.80379 &  34.53398 &  35.25690 &  35.96876 &  36.66980 &  37.37237\\\\\n",
       "\\end{tabular}\n"
      ],
      "text/markdown": [
       "\n",
       "A tibble: 6 × 60\n",
       "\n",
       "| Country &lt;chr&gt; | Code &lt;chr&gt; | 1961 &lt;dbl&gt; | 1962 &lt;dbl&gt; | 1963 &lt;dbl&gt; | 1964 &lt;dbl&gt; | 1965 &lt;dbl&gt; | 1966 &lt;dbl&gt; | 1967 &lt;dbl&gt; | 1968 &lt;dbl&gt; | ⋯ ⋯ | 2009 &lt;dbl&gt; | 2010 &lt;dbl&gt; | 2011 &lt;dbl&gt; | 2012 &lt;dbl&gt; | 2013 &lt;dbl&gt; | 2014 &lt;dbl&gt; | 2015 &lt;dbl&gt; | 2016 &lt;dbl&gt; | 2017 &lt;dbl&gt; | 2018 &lt;dbl&gt; |\n",
       "|---|---|---|---|---|---|---|---|---|---|---|---|---|---|---|---|---|---|---|---|---|\n",
       "| Aruba       | ABW | 307.988889 | 312.361111 | 314.972222 | 316.844444 | 318.666667 | 320.638889 | 322.527778 | 324.366667 | ⋯ | 563.63889 | 564.82778 | 566.92222 | 569.77778 | 573.10556 | 576.52222 | 579.67222 | 582.62222 | 585.36667 | 588.02778 |\n",
       "| Afghanistan | AFG |  14.044987 |  14.323808 |  14.617537 |  14.926295 |  15.250314 |  15.585020 |  15.929795 |  16.293023 | ⋯ |  43.49296 |  44.70408 |  46.13150 |  47.73056 |  49.42804 |  51.11478 |  52.71207 |  54.19711 |  55.59599 |  56.93776 |\n",
       "| Angola      | AGO |   4.436891 |   4.498708 |   4.555593 |   4.600180 |   4.628676 |   4.637213 |   4.631622 |   4.629544 | ⋯ |  18.05910 |  18.73446 |  19.42782 |  20.13951 |  20.86771 |  21.61047 |  22.36655 |  23.13506 |  23.91654 |  24.71305 |\n",
       "| Albania     | ALB |  60.576642 |  62.456898 |  64.329234 |  66.209307 |  68.058066 |  69.874927 |  71.737153 |  73.805547 | ⋯ | 106.84376 | 106.31464 | 106.02901 | 105.85405 | 105.66029 | 105.44175 | 105.13515 | 104.96719 | 104.87069 | 104.61226 |\n",
       "| Andorra     | AND |  30.585106 |  32.702128 |  34.919149 |  37.168085 |  39.465957 |  41.802128 |  44.165957 |  46.574468 | ⋯ | 179.70851 | 179.67872 | 178.18511 | 175.37660 | 171.85957 | 168.53830 | 165.98085 | 164.46170 | 163.83191 | 163.84255 |\n",
       "| Arab World  | ARB |   8.430860 |   8.663154 |   8.903441 |   9.152526 |   9.410965 |   9.679951 |   9.959490 |  10.247580 | ⋯ |  30.85858 |  31.59402 |  32.33012 |  33.06767 |  33.80379 |  34.53398 |  35.25690 |  35.96876 |  36.66980 |  37.37237 |\n",
       "\n"
      ],
      "text/plain": [
       "  Country     Code 1961       1962       1963       1964       1965      \n",
       "1 Aruba       ABW  307.988889 312.361111 314.972222 316.844444 318.666667\n",
       "2 Afghanistan AFG   14.044987  14.323808  14.617537  14.926295  15.250314\n",
       "3 Angola      AGO    4.436891   4.498708   4.555593   4.600180   4.628676\n",
       "4 Albania     ALB   60.576642  62.456898  64.329234  66.209307  68.058066\n",
       "5 Andorra     AND   30.585106  32.702128  34.919149  37.168085  39.465957\n",
       "6 Arab World  ARB    8.430860   8.663154   8.903441   9.152526   9.410965\n",
       "  1966       1967       1968       ⋯ 2009      2010      2011      2012     \n",
       "1 320.638889 322.527778 324.366667 ⋯ 563.63889 564.82778 566.92222 569.77778\n",
       "2  15.585020  15.929795  16.293023 ⋯  43.49296  44.70408  46.13150  47.73056\n",
       "3   4.637213   4.631622   4.629544 ⋯  18.05910  18.73446  19.42782  20.13951\n",
       "4  69.874927  71.737153  73.805547 ⋯ 106.84376 106.31464 106.02901 105.85405\n",
       "5  41.802128  44.165957  46.574468 ⋯ 179.70851 179.67872 178.18511 175.37660\n",
       "6   9.679951   9.959490  10.247580 ⋯  30.85858  31.59402  32.33012  33.06767\n",
       "  2013      2014      2015      2016      2017      2018     \n",
       "1 573.10556 576.52222 579.67222 582.62222 585.36667 588.02778\n",
       "2  49.42804  51.11478  52.71207  54.19711  55.59599  56.93776\n",
       "3  20.86771  21.61047  22.36655  23.13506  23.91654  24.71305\n",
       "4 105.66029 105.44175 105.13515 104.96719 104.87069 104.61226\n",
       "5 171.85957 168.53830 165.98085 164.46170 163.83191 163.84255\n",
       "6  33.80379  34.53398  35.25690  35.96876  36.66980  37.37237"
      ]
     },
     "metadata": {},
     "output_type": "display_data"
    }
   ],
   "source": [
    "#Reading population density data\n",
    "pdn <- read_csv('Data/raw/popDensity/popDensity.csv',skip = 4) \n",
    "pdn <- pdn %>%\n",
    "    select(-`Indicator Name`,-`Indicator Code`,-`X65`,-`1960`,-`2019`) %>%\n",
    "    rename(Country = `Country Name`,Code = `Country Code`)\n",
    "pdn %>% head()"
   ]
  },
  {
   "cell_type": "code",
   "execution_count": 8,
   "metadata": {},
   "outputs": [
    {
     "data": {
      "text/html": [
       "<table>\n",
       "<caption>A tibble: 6 × 4</caption>\n",
       "<thead>\n",
       "\t<tr><th scope=col>Country</th><th scope=col>Code</th><th scope=col>Year</th><th scope=col>popDensity</th></tr>\n",
       "\t<tr><th scope=col>&lt;chr&gt;</th><th scope=col>&lt;chr&gt;</th><th scope=col>&lt;chr&gt;</th><th scope=col>&lt;dbl&gt;</th></tr>\n",
       "</thead>\n",
       "<tbody>\n",
       "\t<tr><td>Aruba      </td><td>ABW</td><td>1961</td><td>307.988889</td></tr>\n",
       "\t<tr><td>Afghanistan</td><td>AFG</td><td>1961</td><td> 14.044987</td></tr>\n",
       "\t<tr><td>Angola     </td><td>AGO</td><td>1961</td><td>  4.436891</td></tr>\n",
       "\t<tr><td>Albania    </td><td>ALB</td><td>1961</td><td> 60.576642</td></tr>\n",
       "\t<tr><td>Andorra    </td><td>AND</td><td>1961</td><td> 30.585106</td></tr>\n",
       "\t<tr><td>Arab World </td><td>ARB</td><td>1961</td><td>  8.430860</td></tr>\n",
       "</tbody>\n",
       "</table>\n"
      ],
      "text/latex": [
       "A tibble: 6 × 4\n",
       "\\begin{tabular}{r|llll}\n",
       " Country & Code & Year & popDensity\\\\\n",
       " <chr> & <chr> & <chr> & <dbl>\\\\\n",
       "\\hline\n",
       "\t Aruba       & ABW & 1961 & 307.988889\\\\\n",
       "\t Afghanistan & AFG & 1961 &  14.044987\\\\\n",
       "\t Angola      & AGO & 1961 &   4.436891\\\\\n",
       "\t Albania     & ALB & 1961 &  60.576642\\\\\n",
       "\t Andorra     & AND & 1961 &  30.585106\\\\\n",
       "\t Arab World  & ARB & 1961 &   8.430860\\\\\n",
       "\\end{tabular}\n"
      ],
      "text/markdown": [
       "\n",
       "A tibble: 6 × 4\n",
       "\n",
       "| Country &lt;chr&gt; | Code &lt;chr&gt; | Year &lt;chr&gt; | popDensity &lt;dbl&gt; |\n",
       "|---|---|---|---|\n",
       "| Aruba       | ABW | 1961 | 307.988889 |\n",
       "| Afghanistan | AFG | 1961 |  14.044987 |\n",
       "| Angola      | AGO | 1961 |   4.436891 |\n",
       "| Albania     | ALB | 1961 |  60.576642 |\n",
       "| Andorra     | AND | 1961 |  30.585106 |\n",
       "| Arab World  | ARB | 1961 |   8.430860 |\n",
       "\n"
      ],
      "text/plain": [
       "  Country     Code Year popDensity\n",
       "1 Aruba       ABW  1961 307.988889\n",
       "2 Afghanistan AFG  1961  14.044987\n",
       "3 Angola      AGO  1961   4.436891\n",
       "4 Albania     ALB  1961  60.576642\n",
       "5 Andorra     AND  1961  30.585106\n",
       "6 Arab World  ARB  1961   8.430860"
      ]
     },
     "metadata": {},
     "output_type": "display_data"
    }
   ],
   "source": [
    "# Cleaning population density data\n",
    "pdn_gath <- pdn %>%\n",
    "    gather(key = 'Year',value = 'popDensity',-`Country`,-`Code`)\n",
    "pdn_gath %>% head()"
   ]
  },
  {
   "cell_type": "code",
   "execution_count": 9,
   "metadata": {},
   "outputs": [
    {
     "data": {
      "text/html": [
       "<table>\n",
       "<caption>A tibble: 6 × 6</caption>\n",
       "<thead>\n",
       "\t<tr><th scope=col>Country</th><th scope=col>Code</th><th scope=col>Year</th><th scope=col>gdpPerCap</th><th scope=col>literacy</th><th scope=col>popDensity</th></tr>\n",
       "\t<tr><th scope=col>&lt;chr&gt;</th><th scope=col>&lt;chr&gt;</th><th scope=col>&lt;chr&gt;</th><th scope=col>&lt;dbl&gt;</th><th scope=col>&lt;dbl&gt;</th><th scope=col>&lt;dbl&gt;</th></tr>\n",
       "</thead>\n",
       "<tbody>\n",
       "\t<tr><td>Afghanistan</td><td>AFG</td><td>1960</td><td>  59.77319</td><td>NA</td><td>NA</td></tr>\n",
       "\t<tr><td>Australia  </td><td>AUS</td><td>1960</td><td>1807.78571</td><td>NA</td><td>NA</td></tr>\n",
       "\t<tr><td>Austria    </td><td>AUT</td><td>1960</td><td> 935.46043</td><td>NA</td><td>NA</td></tr>\n",
       "\t<tr><td>Burundi    </td><td>BDI</td><td>1960</td><td>  70.05173</td><td>NA</td><td>NA</td></tr>\n",
       "\t<tr><td>Belgium    </td><td>BEL</td><td>1960</td><td>1273.69166</td><td>NA</td><td>NA</td></tr>\n",
       "\t<tr><td>Benin      </td><td>BEN</td><td>1960</td><td>  93.02251</td><td>NA</td><td>NA</td></tr>\n",
       "</tbody>\n",
       "</table>\n"
      ],
      "text/latex": [
       "A tibble: 6 × 6\n",
       "\\begin{tabular}{r|llllll}\n",
       " Country & Code & Year & gdpPerCap & literacy & popDensity\\\\\n",
       " <chr> & <chr> & <chr> & <dbl> & <dbl> & <dbl>\\\\\n",
       "\\hline\n",
       "\t Afghanistan & AFG & 1960 &   59.77319 & NA & NA\\\\\n",
       "\t Australia   & AUS & 1960 & 1807.78571 & NA & NA\\\\\n",
       "\t Austria     & AUT & 1960 &  935.46043 & NA & NA\\\\\n",
       "\t Burundi     & BDI & 1960 &   70.05173 & NA & NA\\\\\n",
       "\t Belgium     & BEL & 1960 & 1273.69166 & NA & NA\\\\\n",
       "\t Benin       & BEN & 1960 &   93.02251 & NA & NA\\\\\n",
       "\\end{tabular}\n"
      ],
      "text/markdown": [
       "\n",
       "A tibble: 6 × 6\n",
       "\n",
       "| Country &lt;chr&gt; | Code &lt;chr&gt; | Year &lt;chr&gt; | gdpPerCap &lt;dbl&gt; | literacy &lt;dbl&gt; | popDensity &lt;dbl&gt; |\n",
       "|---|---|---|---|---|---|\n",
       "| Afghanistan | AFG | 1960 |   59.77319 | NA | NA |\n",
       "| Australia   | AUS | 1960 | 1807.78571 | NA | NA |\n",
       "| Austria     | AUT | 1960 |  935.46043 | NA | NA |\n",
       "| Burundi     | BDI | 1960 |   70.05173 | NA | NA |\n",
       "| Belgium     | BEL | 1960 | 1273.69166 | NA | NA |\n",
       "| Benin       | BEN | 1960 |   93.02251 | NA | NA |\n",
       "\n"
      ],
      "text/plain": [
       "  Country     Code Year gdpPerCap  literacy popDensity\n",
       "1 Afghanistan AFG  1960   59.77319 NA       NA        \n",
       "2 Australia   AUS  1960 1807.78571 NA       NA        \n",
       "3 Austria     AUT  1960  935.46043 NA       NA        \n",
       "4 Burundi     BDI  1960   70.05173 NA       NA        \n",
       "5 Belgium     BEL  1960 1273.69166 NA       NA        \n",
       "6 Benin       BEN  1960   93.02251 NA       NA        "
      ]
     },
     "metadata": {},
     "output_type": "display_data"
    }
   ],
   "source": [
    "# Joining population density to main data frame having all other features\n",
    "all_data <- left_join(all_data,select(pdn_gath,Code,Year,popDensity), by = c('Code','Year')) \n",
    "all_data %>% head()"
   ]
  },
  {
   "cell_type": "code",
   "execution_count": 10,
   "metadata": {},
   "outputs": [
    {
     "name": "stderr",
     "output_type": "stream",
     "text": [
      "Warning message:\n",
      "“Missing column names filled in: 'X65' [65]”Parsed with column specification:\n",
      "cols(\n",
      "  .default = col_double(),\n",
      "  `Country Name` = \u001b[31mcol_character()\u001b[39m,\n",
      "  `Country Code` = \u001b[31mcol_character()\u001b[39m,\n",
      "  `Indicator Name` = \u001b[31mcol_character()\u001b[39m,\n",
      "  `Indicator Code` = \u001b[31mcol_character()\u001b[39m,\n",
      "  `1960` = \u001b[33mcol_logical()\u001b[39m,\n",
      "  `1961` = \u001b[33mcol_logical()\u001b[39m,\n",
      "  `1962` = \u001b[33mcol_logical()\u001b[39m,\n",
      "  `1963` = \u001b[33mcol_logical()\u001b[39m,\n",
      "  `1964` = \u001b[33mcol_logical()\u001b[39m,\n",
      "  `1965` = \u001b[33mcol_logical()\u001b[39m,\n",
      "  `1966` = \u001b[33mcol_logical()\u001b[39m,\n",
      "  `1967` = \u001b[33mcol_logical()\u001b[39m,\n",
      "  `1968` = \u001b[33mcol_logical()\u001b[39m,\n",
      "  `1969` = \u001b[33mcol_logical()\u001b[39m,\n",
      "  `1970` = \u001b[33mcol_logical()\u001b[39m,\n",
      "  `1971` = \u001b[33mcol_logical()\u001b[39m,\n",
      "  `1972` = \u001b[33mcol_logical()\u001b[39m,\n",
      "  `1973` = \u001b[33mcol_logical()\u001b[39m,\n",
      "  `1974` = \u001b[33mcol_logical()\u001b[39m,\n",
      "  `1975` = \u001b[33mcol_logical()\u001b[39m\n",
      "  # ... with 6 more columns\n",
      ")\n",
      "See spec(...) for full column specifications.\n",
      "Warning message:\n",
      "“45 parsing failures.\n",
      " row  col           expected actual                               file\n",
      "2682 1977 1/0/T/F/TRUE/FALSE   65   'Data/raw/povertyData/poverty.csv'\n",
      "2683 1977 1/0/T/F/TRUE/FALSE   97   'Data/raw/povertyData/poverty.csv'\n",
      "2688 1977 1/0/T/F/TRUE/FALSE   44.2 'Data/raw/povertyData/poverty.csv'\n",
      "2689 1977 1/0/T/F/TRUE/FALSE   88.1 'Data/raw/povertyData/poverty.csv'\n",
      "2691 1977 1/0/T/F/TRUE/FALSE   21   'Data/raw/povertyData/poverty.csv'\n",
      ".... .... .................. ...... ..................................\n",
      "See problems(...) for more details.\n",
      "”"
     ]
    },
    {
     "data": {
      "text/html": [
       "<table>\n",
       "<caption>A tibble: 6 × 62</caption>\n",
       "<thead>\n",
       "\t<tr><th scope=col>Country</th><th scope=col>Code</th><th scope=col>Indicator Name</th><th scope=col>Indicator Code</th><th scope=col>1961</th><th scope=col>1962</th><th scope=col>1963</th><th scope=col>1964</th><th scope=col>1965</th><th scope=col>1966</th><th scope=col>⋯</th><th scope=col>2009</th><th scope=col>2010</th><th scope=col>2011</th><th scope=col>2012</th><th scope=col>2013</th><th scope=col>2014</th><th scope=col>2015</th><th scope=col>2016</th><th scope=col>2017</th><th scope=col>2018</th></tr>\n",
       "\t<tr><th scope=col>&lt;chr&gt;</th><th scope=col>&lt;chr&gt;</th><th scope=col>&lt;chr&gt;</th><th scope=col>&lt;chr&gt;</th><th scope=col>&lt;lgl&gt;</th><th scope=col>&lt;lgl&gt;</th><th scope=col>&lt;lgl&gt;</th><th scope=col>&lt;lgl&gt;</th><th scope=col>&lt;lgl&gt;</th><th scope=col>&lt;lgl&gt;</th><th scope=col>⋯</th><th scope=col>&lt;dbl&gt;</th><th scope=col>&lt;dbl&gt;</th><th scope=col>&lt;dbl&gt;</th><th scope=col>&lt;dbl&gt;</th><th scope=col>&lt;dbl&gt;</th><th scope=col>&lt;dbl&gt;</th><th scope=col>&lt;dbl&gt;</th><th scope=col>&lt;dbl&gt;</th><th scope=col>&lt;dbl&gt;</th><th scope=col>&lt;dbl&gt;</th></tr>\n",
       "</thead>\n",
       "<tbody>\n",
       "\t<tr><td>Aruba      </td><td>ABW</td><td>Poverty headcount ratio at $3.20 a day (2011 PPP) (% of population)</td><td>SI.POV.LMIC      </td><td>NA</td><td>NA</td><td>NA</td><td>NA</td><td>NA</td><td>NA</td><td>⋯</td><td>  NA</td><td>NA</td><td>NA</td><td>NA</td><td>NA</td><td>  NA</td><td>NA</td><td>NA</td><td>NA</td><td>NA</td></tr>\n",
       "\t<tr><td>Aruba      </td><td>ABW</td><td>Population living in slums (% of urban population)                 </td><td>EN.POP.SLUM.UR.ZS</td><td>NA</td><td>NA</td><td>NA</td><td>NA</td><td>NA</td><td>NA</td><td>⋯</td><td>  NA</td><td>NA</td><td>NA</td><td>NA</td><td>NA</td><td>  NA</td><td>NA</td><td>NA</td><td>NA</td><td>NA</td></tr>\n",
       "\t<tr><td>Afghanistan</td><td>AFG</td><td>Poverty headcount ratio at $3.20 a day (2011 PPP) (% of population)</td><td>SI.POV.LMIC      </td><td>NA</td><td>NA</td><td>NA</td><td>NA</td><td>NA</td><td>NA</td><td>⋯</td><td>  NA</td><td>NA</td><td>NA</td><td>NA</td><td>NA</td><td>  NA</td><td>NA</td><td>NA</td><td>NA</td><td>NA</td></tr>\n",
       "\t<tr><td>Afghanistan</td><td>AFG</td><td>Population living in slums (% of urban population)                 </td><td>EN.POP.SLUM.UR.ZS</td><td>NA</td><td>NA</td><td>NA</td><td>NA</td><td>NA</td><td>NA</td><td>⋯</td><td>  NA</td><td>NA</td><td>NA</td><td>NA</td><td>NA</td><td>62.7</td><td>NA</td><td>NA</td><td>NA</td><td>NA</td></tr>\n",
       "\t<tr><td>Angola     </td><td>AGO</td><td>Poverty headcount ratio at $3.20 a day (2011 PPP) (% of population)</td><td>SI.POV.LMIC      </td><td>NA</td><td>NA</td><td>NA</td><td>NA</td><td>NA</td><td>NA</td><td>⋯</td><td>  NA</td><td>NA</td><td>NA</td><td>NA</td><td>NA</td><td>  NA</td><td>NA</td><td>NA</td><td>NA</td><td>NA</td></tr>\n",
       "\t<tr><td>Angola     </td><td>AGO</td><td>Population living in slums (% of urban population)                 </td><td>EN.POP.SLUM.UR.ZS</td><td>NA</td><td>NA</td><td>NA</td><td>NA</td><td>NA</td><td>NA</td><td>⋯</td><td>65.8</td><td>NA</td><td>NA</td><td>NA</td><td>NA</td><td>55.5</td><td>NA</td><td>NA</td><td>NA</td><td>NA</td></tr>\n",
       "</tbody>\n",
       "</table>\n"
      ],
      "text/latex": [
       "A tibble: 6 × 62\n",
       "\\begin{tabular}{r|llllllllllllllllllllllllllllllllllllllllllllllllllllllllllllll}\n",
       " Country & Code & Indicator Name & Indicator Code & 1961 & 1962 & 1963 & 1964 & 1965 & 1966 & 1967 & 1968 & 1969 & 1970 & 1971 & 1972 & 1973 & 1974 & 1975 & 1976 & 1977 & 1978 & 1979 & 1980 & 1981 & 1982 & 1983 & 1984 & 1985 & 1986 & 1987 & 1988 & 1989 & 1990 & 1991 & 1992 & 1993 & 1994 & 1995 & 1996 & 1997 & 1998 & 1999 & 2000 & 2001 & 2002 & 2003 & 2004 & 2005 & 2006 & 2007 & 2008 & 2009 & 2010 & 2011 & 2012 & 2013 & 2014 & 2015 & 2016 & 2017 & 2018\\\\\n",
       " <chr> & <chr> & <chr> & <chr> & <lgl> & <lgl> & <lgl> & <lgl> & <lgl> & <lgl> & <lgl> & <lgl> & <lgl> & <lgl> & <lgl> & <lgl> & <lgl> & <lgl> & <lgl> & <lgl> & <lgl> & <lgl> & <lgl> & <dbl> & <dbl> & <dbl> & <dbl> & <dbl> & <dbl> & <dbl> & <dbl> & <dbl> & <dbl> & <dbl> & <dbl> & <dbl> & <dbl> & <dbl> & <dbl> & <dbl> & <dbl> & <dbl> & <dbl> & <dbl> & <dbl> & <dbl> & <dbl> & <dbl> & <dbl> & <dbl> & <dbl> & <dbl> & <dbl> & <dbl> & <dbl> & <dbl> & <dbl> & <dbl> & <dbl> & <dbl> & <dbl> & <dbl>\\\\\n",
       "\\hline\n",
       "\t Aruba       & ABW & Poverty headcount ratio at \\$3.20 a day (2011 PPP) (\\% of population) & SI.POV.LMIC       & NA & NA & NA & NA & NA & NA & NA & NA & NA & NA & NA & NA & NA & NA & NA & NA & NA & NA & NA & NA & NA & NA & NA & NA & NA & NA & NA & NA & NA & NA & NA & NA & NA & NA & NA & NA & NA & NA & NA &   NA & NA & NA & NA & NA &   NA & NA &   NA &   NA &   NA & NA & NA & NA & NA &   NA & NA & NA & NA & NA\\\\\n",
       "\t Aruba       & ABW & Population living in slums (\\% of urban population)                  & EN.POP.SLUM.UR.ZS & NA & NA & NA & NA & NA & NA & NA & NA & NA & NA & NA & NA & NA & NA & NA & NA & NA & NA & NA & NA & NA & NA & NA & NA & NA & NA & NA & NA & NA & NA & NA & NA & NA & NA & NA & NA & NA & NA & NA &   NA & NA & NA & NA & NA &   NA & NA &   NA &   NA &   NA & NA & NA & NA & NA &   NA & NA & NA & NA & NA\\\\\n",
       "\t Afghanistan & AFG & Poverty headcount ratio at \\$3.20 a day (2011 PPP) (\\% of population) & SI.POV.LMIC       & NA & NA & NA & NA & NA & NA & NA & NA & NA & NA & NA & NA & NA & NA & NA & NA & NA & NA & NA & NA & NA & NA & NA & NA & NA & NA & NA & NA & NA & NA & NA & NA & NA & NA & NA & NA & NA & NA & NA &   NA & NA & NA & NA & NA &   NA & NA &   NA &   NA &   NA & NA & NA & NA & NA &   NA & NA & NA & NA & NA\\\\\n",
       "\t Afghanistan & AFG & Population living in slums (\\% of urban population)                  & EN.POP.SLUM.UR.ZS & NA & NA & NA & NA & NA & NA & NA & NA & NA & NA & NA & NA & NA & NA & NA & NA & NA & NA & NA & NA & NA & NA & NA & NA & NA & NA & NA & NA & NA & NA & NA & NA & NA & NA & NA & NA & NA & NA & NA &   NA & NA & NA & NA & NA &   NA & NA &   NA &   NA &   NA & NA & NA & NA & NA & 62.7 & NA & NA & NA & NA\\\\\n",
       "\t Angola      & AGO & Poverty headcount ratio at \\$3.20 a day (2011 PPP) (\\% of population) & SI.POV.LMIC       & NA & NA & NA & NA & NA & NA & NA & NA & NA & NA & NA & NA & NA & NA & NA & NA & NA & NA & NA & NA & NA & NA & NA & NA & NA & NA & NA & NA & NA & NA & NA & NA & NA & NA & NA & NA & NA & NA & NA & 55.6 & NA & NA & NA & NA &   NA & NA &   NA & 55.7 &   NA & NA & NA & NA & NA &   NA & NA & NA & NA & NA\\\\\n",
       "\t Angola      & AGO & Population living in slums (\\% of urban population)                  & EN.POP.SLUM.UR.ZS & NA & NA & NA & NA & NA & NA & NA & NA & NA & NA & NA & NA & NA & NA & NA & NA & NA & NA & NA & NA & NA & NA & NA & NA & NA & NA & NA & NA & NA & NA & NA & NA & NA & NA & NA & NA & NA & NA & NA & 86.5 & NA & NA & NA & NA & 86.5 & NA & 76.2 &   NA & 65.8 & NA & NA & NA & NA & 55.5 & NA & NA & NA & NA\\\\\n",
       "\\end{tabular}\n"
      ],
      "text/markdown": [
       "\n",
       "A tibble: 6 × 62\n",
       "\n",
       "| Country &lt;chr&gt; | Code &lt;chr&gt; | Indicator Name &lt;chr&gt; | Indicator Code &lt;chr&gt; | 1961 &lt;lgl&gt; | 1962 &lt;lgl&gt; | 1963 &lt;lgl&gt; | 1964 &lt;lgl&gt; | 1965 &lt;lgl&gt; | 1966 &lt;lgl&gt; | ⋯ ⋯ | 2009 &lt;dbl&gt; | 2010 &lt;dbl&gt; | 2011 &lt;dbl&gt; | 2012 &lt;dbl&gt; | 2013 &lt;dbl&gt; | 2014 &lt;dbl&gt; | 2015 &lt;dbl&gt; | 2016 &lt;dbl&gt; | 2017 &lt;dbl&gt; | 2018 &lt;dbl&gt; |\n",
       "|---|---|---|---|---|---|---|---|---|---|---|---|---|---|---|---|---|---|---|---|---|\n",
       "| Aruba       | ABW | Poverty headcount ratio at $3.20 a day (2011 PPP) (% of population) | SI.POV.LMIC       | NA | NA | NA | NA | NA | NA | ⋯ |   NA | NA | NA | NA | NA |   NA | NA | NA | NA | NA |\n",
       "| Aruba       | ABW | Population living in slums (% of urban population)                  | EN.POP.SLUM.UR.ZS | NA | NA | NA | NA | NA | NA | ⋯ |   NA | NA | NA | NA | NA |   NA | NA | NA | NA | NA |\n",
       "| Afghanistan | AFG | Poverty headcount ratio at $3.20 a day (2011 PPP) (% of population) | SI.POV.LMIC       | NA | NA | NA | NA | NA | NA | ⋯ |   NA | NA | NA | NA | NA |   NA | NA | NA | NA | NA |\n",
       "| Afghanistan | AFG | Population living in slums (% of urban population)                  | EN.POP.SLUM.UR.ZS | NA | NA | NA | NA | NA | NA | ⋯ |   NA | NA | NA | NA | NA | 62.7 | NA | NA | NA | NA |\n",
       "| Angola      | AGO | Poverty headcount ratio at $3.20 a day (2011 PPP) (% of population) | SI.POV.LMIC       | NA | NA | NA | NA | NA | NA | ⋯ |   NA | NA | NA | NA | NA |   NA | NA | NA | NA | NA |\n",
       "| Angola      | AGO | Population living in slums (% of urban population)                  | EN.POP.SLUM.UR.ZS | NA | NA | NA | NA | NA | NA | ⋯ | 65.8 | NA | NA | NA | NA | 55.5 | NA | NA | NA | NA |\n",
       "\n"
      ],
      "text/plain": [
       "  Country     Code\n",
       "1 Aruba       ABW \n",
       "2 Aruba       ABW \n",
       "3 Afghanistan AFG \n",
       "4 Afghanistan AFG \n",
       "5 Angola      AGO \n",
       "6 Angola      AGO \n",
       "  Indicator Name                                                     \n",
       "1 Poverty headcount ratio at $3.20 a day (2011 PPP) (% of population)\n",
       "2 Population living in slums (% of urban population)                 \n",
       "3 Poverty headcount ratio at $3.20 a day (2011 PPP) (% of population)\n",
       "4 Population living in slums (% of urban population)                 \n",
       "5 Poverty headcount ratio at $3.20 a day (2011 PPP) (% of population)\n",
       "6 Population living in slums (% of urban population)                 \n",
       "  Indicator Code    1961 1962 1963 1964 1965 1966 ⋯ 2009 2010 2011 2012 2013\n",
       "1 SI.POV.LMIC       NA   NA   NA   NA   NA   NA   ⋯   NA NA   NA   NA   NA  \n",
       "2 EN.POP.SLUM.UR.ZS NA   NA   NA   NA   NA   NA   ⋯   NA NA   NA   NA   NA  \n",
       "3 SI.POV.LMIC       NA   NA   NA   NA   NA   NA   ⋯   NA NA   NA   NA   NA  \n",
       "4 EN.POP.SLUM.UR.ZS NA   NA   NA   NA   NA   NA   ⋯   NA NA   NA   NA   NA  \n",
       "5 SI.POV.LMIC       NA   NA   NA   NA   NA   NA   ⋯   NA NA   NA   NA   NA  \n",
       "6 EN.POP.SLUM.UR.ZS NA   NA   NA   NA   NA   NA   ⋯ 65.8 NA   NA   NA   NA  \n",
       "  2014 2015 2016 2017 2018\n",
       "1   NA NA   NA   NA   NA  \n",
       "2   NA NA   NA   NA   NA  \n",
       "3   NA NA   NA   NA   NA  \n",
       "4 62.7 NA   NA   NA   NA  \n",
       "5   NA NA   NA   NA   NA  \n",
       "6 55.5 NA   NA   NA   NA  "
      ]
     },
     "metadata": {},
     "output_type": "display_data"
    }
   ],
   "source": [
    "#Reading population density data\n",
    "pvt <- read_csv('Data/raw/povertyData/poverty.csv',skip = 4) \n",
    "pvt <- pvt %>%\n",
    "    select(-`X65`,-`1960`,-`2019`) %>%\n",
    "    rename(Country = `Country Name`,Code = `Country Code`) %>%\n",
    "    filter(`Indicator Code` %in% c('SI.POV.LMIC','EN.POP.SLUM.UR.ZS'))\n",
    "\n",
    "pvt %>% head()"
   ]
  },
  {
   "cell_type": "code",
   "execution_count": 11,
   "metadata": {},
   "outputs": [
    {
     "data": {
      "text/html": [
       "<table>\n",
       "<caption>A tibble: 6 × 5</caption>\n",
       "<thead>\n",
       "\t<tr><th scope=col>Country</th><th scope=col>Code</th><th scope=col>Year</th><th scope=col>under_slum</th><th scope=col>below_poverty</th></tr>\n",
       "\t<tr><th scope=col>&lt;chr&gt;</th><th scope=col>&lt;chr&gt;</th><th scope=col>&lt;chr&gt;</th><th scope=col>&lt;dbl&gt;</th><th scope=col>&lt;dbl&gt;</th></tr>\n",
       "</thead>\n",
       "<tbody>\n",
       "\t<tr><td>Afghanistan</td><td>AFG</td><td>1961</td><td>NA</td><td>NA</td></tr>\n",
       "\t<tr><td>Afghanistan</td><td>AFG</td><td>1962</td><td>NA</td><td>NA</td></tr>\n",
       "\t<tr><td>Afghanistan</td><td>AFG</td><td>1963</td><td>NA</td><td>NA</td></tr>\n",
       "\t<tr><td>Afghanistan</td><td>AFG</td><td>1964</td><td>NA</td><td>NA</td></tr>\n",
       "\t<tr><td>Afghanistan</td><td>AFG</td><td>1965</td><td>NA</td><td>NA</td></tr>\n",
       "\t<tr><td>Afghanistan</td><td>AFG</td><td>1966</td><td>NA</td><td>NA</td></tr>\n",
       "</tbody>\n",
       "</table>\n"
      ],
      "text/latex": [
       "A tibble: 6 × 5\n",
       "\\begin{tabular}{r|lllll}\n",
       " Country & Code & Year & under\\_slum & below\\_poverty\\\\\n",
       " <chr> & <chr> & <chr> & <dbl> & <dbl>\\\\\n",
       "\\hline\n",
       "\t Afghanistan & AFG & 1961 & NA & NA\\\\\n",
       "\t Afghanistan & AFG & 1962 & NA & NA\\\\\n",
       "\t Afghanistan & AFG & 1963 & NA & NA\\\\\n",
       "\t Afghanistan & AFG & 1964 & NA & NA\\\\\n",
       "\t Afghanistan & AFG & 1965 & NA & NA\\\\\n",
       "\t Afghanistan & AFG & 1966 & NA & NA\\\\\n",
       "\\end{tabular}\n"
      ],
      "text/markdown": [
       "\n",
       "A tibble: 6 × 5\n",
       "\n",
       "| Country &lt;chr&gt; | Code &lt;chr&gt; | Year &lt;chr&gt; | under_slum &lt;dbl&gt; | below_poverty &lt;dbl&gt; |\n",
       "|---|---|---|---|---|\n",
       "| Afghanistan | AFG | 1961 | NA | NA |\n",
       "| Afghanistan | AFG | 1962 | NA | NA |\n",
       "| Afghanistan | AFG | 1963 | NA | NA |\n",
       "| Afghanistan | AFG | 1964 | NA | NA |\n",
       "| Afghanistan | AFG | 1965 | NA | NA |\n",
       "| Afghanistan | AFG | 1966 | NA | NA |\n",
       "\n"
      ],
      "text/plain": [
       "  Country     Code Year under_slum below_poverty\n",
       "1 Afghanistan AFG  1961 NA         NA           \n",
       "2 Afghanistan AFG  1962 NA         NA           \n",
       "3 Afghanistan AFG  1963 NA         NA           \n",
       "4 Afghanistan AFG  1964 NA         NA           \n",
       "5 Afghanistan AFG  1965 NA         NA           \n",
       "6 Afghanistan AFG  1966 NA         NA           "
      ]
     },
     "metadata": {},
     "output_type": "display_data"
    }
   ],
   "source": [
    "# Cleaning poverty data\n",
    "pvt_gath <- pvt %>%\n",
    "    gather(key = 'Year',value = 'value',-`Country`,-`Code`,-`Indicator Name`,-`Indicator Code`) %>%\n",
    "    select(-`Indicator Name`) %>%\n",
    "    spread(key = `Indicator Code`,value = `value`) %>%\n",
    "    rename(under_slum = `EN.POP.SLUM.UR.ZS`,below_poverty = `SI.POV.LMIC` ) \n",
    "pvt_gath %>% head()"
   ]
  },
  {
   "cell_type": "code",
   "execution_count": 12,
   "metadata": {},
   "outputs": [
    {
     "data": {
      "text/html": [
       "<table>\n",
       "<caption>A tibble: 6 × 8</caption>\n",
       "<thead>\n",
       "\t<tr><th scope=col>Country</th><th scope=col>Code</th><th scope=col>Year</th><th scope=col>gdpPerCap</th><th scope=col>literacy</th><th scope=col>popDensity</th><th scope=col>under_slum</th><th scope=col>below_poverty</th></tr>\n",
       "\t<tr><th scope=col>&lt;chr&gt;</th><th scope=col>&lt;chr&gt;</th><th scope=col>&lt;chr&gt;</th><th scope=col>&lt;dbl&gt;</th><th scope=col>&lt;dbl&gt;</th><th scope=col>&lt;dbl&gt;</th><th scope=col>&lt;dbl&gt;</th><th scope=col>&lt;dbl&gt;</th></tr>\n",
       "</thead>\n",
       "<tbody>\n",
       "\t<tr><td>Afghanistan</td><td>AFG</td><td>1960</td><td>  59.77319</td><td>NA</td><td>NA</td><td>NA</td><td>NA</td></tr>\n",
       "\t<tr><td>Australia  </td><td>AUS</td><td>1960</td><td>1807.78571</td><td>NA</td><td>NA</td><td>NA</td><td>NA</td></tr>\n",
       "\t<tr><td>Austria    </td><td>AUT</td><td>1960</td><td> 935.46043</td><td>NA</td><td>NA</td><td>NA</td><td>NA</td></tr>\n",
       "\t<tr><td>Burundi    </td><td>BDI</td><td>1960</td><td>  70.05173</td><td>NA</td><td>NA</td><td>NA</td><td>NA</td></tr>\n",
       "\t<tr><td>Belgium    </td><td>BEL</td><td>1960</td><td>1273.69166</td><td>NA</td><td>NA</td><td>NA</td><td>NA</td></tr>\n",
       "\t<tr><td>Benin      </td><td>BEN</td><td>1960</td><td>  93.02251</td><td>NA</td><td>NA</td><td>NA</td><td>NA</td></tr>\n",
       "</tbody>\n",
       "</table>\n"
      ],
      "text/latex": [
       "A tibble: 6 × 8\n",
       "\\begin{tabular}{r|llllllll}\n",
       " Country & Code & Year & gdpPerCap & literacy & popDensity & under\\_slum & below\\_poverty\\\\\n",
       " <chr> & <chr> & <chr> & <dbl> & <dbl> & <dbl> & <dbl> & <dbl>\\\\\n",
       "\\hline\n",
       "\t Afghanistan & AFG & 1960 &   59.77319 & NA & NA & NA & NA\\\\\n",
       "\t Australia   & AUS & 1960 & 1807.78571 & NA & NA & NA & NA\\\\\n",
       "\t Austria     & AUT & 1960 &  935.46043 & NA & NA & NA & NA\\\\\n",
       "\t Burundi     & BDI & 1960 &   70.05173 & NA & NA & NA & NA\\\\\n",
       "\t Belgium     & BEL & 1960 & 1273.69166 & NA & NA & NA & NA\\\\\n",
       "\t Benin       & BEN & 1960 &   93.02251 & NA & NA & NA & NA\\\\\n",
       "\\end{tabular}\n"
      ],
      "text/markdown": [
       "\n",
       "A tibble: 6 × 8\n",
       "\n",
       "| Country &lt;chr&gt; | Code &lt;chr&gt; | Year &lt;chr&gt; | gdpPerCap &lt;dbl&gt; | literacy &lt;dbl&gt; | popDensity &lt;dbl&gt; | under_slum &lt;dbl&gt; | below_poverty &lt;dbl&gt; |\n",
       "|---|---|---|---|---|---|---|---|\n",
       "| Afghanistan | AFG | 1960 |   59.77319 | NA | NA | NA | NA |\n",
       "| Australia   | AUS | 1960 | 1807.78571 | NA | NA | NA | NA |\n",
       "| Austria     | AUT | 1960 |  935.46043 | NA | NA | NA | NA |\n",
       "| Burundi     | BDI | 1960 |   70.05173 | NA | NA | NA | NA |\n",
       "| Belgium     | BEL | 1960 | 1273.69166 | NA | NA | NA | NA |\n",
       "| Benin       | BEN | 1960 |   93.02251 | NA | NA | NA | NA |\n",
       "\n"
      ],
      "text/plain": [
       "  Country     Code Year gdpPerCap  literacy popDensity under_slum below_poverty\n",
       "1 Afghanistan AFG  1960   59.77319 NA       NA         NA         NA           \n",
       "2 Australia   AUS  1960 1807.78571 NA       NA         NA         NA           \n",
       "3 Austria     AUT  1960  935.46043 NA       NA         NA         NA           \n",
       "4 Burundi     BDI  1960   70.05173 NA       NA         NA         NA           \n",
       "5 Belgium     BEL  1960 1273.69166 NA       NA         NA         NA           \n",
       "6 Benin       BEN  1960   93.02251 NA       NA         NA         NA           "
      ]
     },
     "metadata": {},
     "output_type": "display_data"
    }
   ],
   "source": [
    "# Joining poverty data to the main dataframe containing all other features\n",
    "all_data <- left_join(all_data,select(pvt_gath,Code,Year,under_slum,below_poverty), by = c('Code','Year')) \n",
    "all_data %>% head()"
   ]
  },
  {
   "cell_type": "code",
   "execution_count": 13,
   "metadata": {},
   "outputs": [
    {
     "name": "stderr",
     "output_type": "stream",
     "text": [
      "Parsed with column specification:\n",
      "cols(\n",
      "  .default = col_double(),\n",
      "  `Reporter Name` = \u001b[31mcol_character()\u001b[39m,\n",
      "  `Partner Name` = \u001b[31mcol_character()\u001b[39m,\n",
      "  `Trade Flow` = \u001b[31mcol_character()\u001b[39m,\n",
      "  `Product Group` = \u001b[31mcol_character()\u001b[39m,\n",
      "  Indicator = \u001b[31mcol_character()\u001b[39m\n",
      ")\n",
      "See spec(...) for full column specifications.\n"
     ]
    },
    {
     "data": {
      "text/html": [
       "<table>\n",
       "<caption>A tibble: 6 × 31</caption>\n",
       "<thead>\n",
       "\t<tr><th scope=col>Country</th><th scope=col>1988</th><th scope=col>1989</th><th scope=col>1990</th><th scope=col>1991</th><th scope=col>1992</th><th scope=col>1993</th><th scope=col>1994</th><th scope=col>1995</th><th scope=col>1996</th><th scope=col>⋯</th><th scope=col>2008</th><th scope=col>2009</th><th scope=col>2010</th><th scope=col>2011</th><th scope=col>2012</th><th scope=col>2013</th><th scope=col>2014</th><th scope=col>2015</th><th scope=col>2016</th><th scope=col>2017</th></tr>\n",
       "\t<tr><th scope=col>&lt;chr&gt;</th><th scope=col>&lt;dbl&gt;</th><th scope=col>&lt;dbl&gt;</th><th scope=col>&lt;dbl&gt;</th><th scope=col>&lt;dbl&gt;</th><th scope=col>&lt;dbl&gt;</th><th scope=col>&lt;dbl&gt;</th><th scope=col>&lt;dbl&gt;</th><th scope=col>&lt;dbl&gt;</th><th scope=col>&lt;dbl&gt;</th><th scope=col>⋯</th><th scope=col>&lt;dbl&gt;</th><th scope=col>&lt;dbl&gt;</th><th scope=col>&lt;dbl&gt;</th><th scope=col>&lt;dbl&gt;</th><th scope=col>&lt;dbl&gt;</th><th scope=col>&lt;dbl&gt;</th><th scope=col>&lt;dbl&gt;</th><th scope=col>&lt;dbl&gt;</th><th scope=col>&lt;dbl&gt;</th><th scope=col>&lt;dbl&gt;</th></tr>\n",
       "</thead>\n",
       "<tbody>\n",
       "\t<tr><td>Afghanistan</td><td>NA</td><td>NA</td><td>NA</td><td>NA</td><td>     NA</td><td>     NA</td><td>     NA</td><td>      NA</td><td>       NA</td><td>⋯</td><td> 3019860.1</td><td> 3336435</td><td> 5154250</td><td> 6390311</td><td> 6204984</td><td> 8554414</td><td> 7697178</td><td> 7722865</td><td> 6534140</td><td>      NA</td></tr>\n",
       "\t<tr><td>Albania    </td><td>NA</td><td>NA</td><td>NA</td><td>NA</td><td>     NA</td><td>     NA</td><td>     NA</td><td>      NA</td><td> 938481.8</td><td>⋯</td><td> 5250490.0</td><td> 4548288</td><td> 4602775</td><td> 5395853</td><td> 4879830</td><td> 4880593</td><td> 5229972</td><td> 4320219</td><td> 4669290</td><td> 5717083</td></tr>\n",
       "\t<tr><td>Algeria    </td><td>NA</td><td>NA</td><td>NA</td><td>NA</td><td>8647816</td><td>8785275</td><td>9598674</td><td>10782432</td><td>9105595.4</td><td>⋯</td><td>39474721.6</td><td>39258327</td><td>40999891</td><td>47219730</td><td>50369391</td><td>54909973</td><td>58618080</td><td>51803071</td><td>47090684</td><td>46053016</td></tr>\n",
       "\t<tr><td>Andorra    </td><td>NA</td><td>NA</td><td>NA</td><td>NA</td><td>     NA</td><td>     NA</td><td>     NA</td><td> 1025481</td><td>1061358.4</td><td>⋯</td><td> 1939929.7</td><td> 1610111</td><td> 1540506</td><td> 1617691</td><td> 1417734</td><td> 1487194</td><td> 1556049</td><td>      NA</td><td>      NA</td><td>      NA</td></tr>\n",
       "\t<tr><td>Angola     </td><td>NA</td><td>NA</td><td>NA</td><td>NA</td><td>     NA</td><td>     NA</td><td>     NA</td><td>      NA</td><td>       NA</td><td>⋯</td><td>        NA</td><td>23918854</td><td>18143269</td><td>20790996</td><td>28722984</td><td>26756063</td><td>28753499</td><td>16757790</td><td>      NA</td><td>      NA</td></tr>\n",
       "\t<tr><td>Anguila    </td><td>NA</td><td>NA</td><td>NA</td><td>NA</td><td>     NA</td><td>     NA</td><td>     NA</td><td>      NA</td><td>       NA</td><td>⋯</td><td>  271744.4</td><td>      NA</td><td>      NA</td><td>      NA</td><td>      NA</td><td>      NA</td><td>      NA</td><td>      NA</td><td>      NA</td><td>      NA</td></tr>\n",
       "</tbody>\n",
       "</table>\n"
      ],
      "text/latex": [
       "A tibble: 6 × 31\n",
       "\\begin{tabular}{r|lllllllllllllllllllllllllllllll}\n",
       " Country & 1988 & 1989 & 1990 & 1991 & 1992 & 1993 & 1994 & 1995 & 1996 & 1997 & 1998 & 1999 & 2000 & 2001 & 2002 & 2003 & 2004 & 2005 & 2006 & 2007 & 2008 & 2009 & 2010 & 2011 & 2012 & 2013 & 2014 & 2015 & 2016 & 2017\\\\\n",
       " <chr> & <dbl> & <dbl> & <dbl> & <dbl> & <dbl> & <dbl> & <dbl> & <dbl> & <dbl> & <dbl> & <dbl> & <dbl> & <dbl> & <dbl> & <dbl> & <dbl> & <dbl> & <dbl> & <dbl> & <dbl> & <dbl> & <dbl> & <dbl> & <dbl> & <dbl> & <dbl> & <dbl> & <dbl> & <dbl> & <dbl>\\\\\n",
       "\\hline\n",
       "\t Afghanistan & NA & NA & NA & NA &      NA &      NA &      NA &       NA &        NA &        NA &        NA &      NA &         NA &         NA &          NA &          NA &         NA &       NA &         NA &         NA &  3019860.1 &  3336435 &  5154250 &  6390311 &  6204984 &  8554414 &  7697178 &  7722865 &  6534140 &       NA\\\\\n",
       "\t Albania     & NA & NA & NA & NA &      NA &      NA &      NA &       NA &  938481.8 &  629026.3 &  841256.2 & 1154351 & 1089467.88 & 1330631.07 &  1503685.21 &  1864328.86 &  2300168.3 &  2614347 &  3057408.4 &  4200864.0 &  5250490.0 &  4548288 &  4602775 &  5395853 &  4879830 &  4880593 &  5229972 &  4320219 &  4669290 &  5717083\\\\\n",
       "\t Algeria     & NA & NA & NA & NA & 8647816 & 8785275 & 9598674 & 10782432 & 9105595.4 & 8688356.4 & 9403430.9 & 9161845 & 9152077.23 & 9945719.40 & 12009774.69 & 13545429.53 & 18303023.3 & 20356880 & 21455854.6 & 27631203.9 & 39474721.6 & 39258327 & 40999891 & 47219730 & 50369391 & 54909973 & 58618080 & 51803071 & 47090684 & 46053016\\\\\n",
       "\t Andorra     & NA & NA & NA & NA &      NA &      NA &      NA &  1025481 & 1061358.4 & 1061291.6 & 1064134.8 & 1078681 & 1011959.61 & 1042066.00 &  1199570.95 &  1513115.27 &  1761745.3 &       NA &  1787807.7 &  1925764.5 &  1939929.7 &  1610111 &  1540506 &  1617691 &  1417734 &  1487194 &  1556049 &       NA &       NA &       NA\\\\\n",
       "\t Angola      & NA & NA & NA & NA &      NA &      NA &      NA &       NA &        NA &        NA &        NA &      NA &         NA &         NA &          NA &          NA &         NA &       NA &         NA & 11094843.4 &         NA & 23918854 & 18143269 & 20790996 & 28722984 & 26756063 & 28753499 & 16757790 &       NA &       NA\\\\\n",
       "\t Anguila     & NA & NA & NA & NA &      NA &      NA &      NA &       NA &        NA &        NA &        NA &      NA &   94514.17 &   77704.66 &    69893.42 &    76776.65 &   102438.6 &       NA &   174899.1 &   247904.8 &   271744.4 &       NA &       NA &       NA &       NA &       NA &       NA &       NA &       NA &       NA\\\\\n",
       "\\end{tabular}\n"
      ],
      "text/markdown": [
       "\n",
       "A tibble: 6 × 31\n",
       "\n",
       "| Country &lt;chr&gt; | 1988 &lt;dbl&gt; | 1989 &lt;dbl&gt; | 1990 &lt;dbl&gt; | 1991 &lt;dbl&gt; | 1992 &lt;dbl&gt; | 1993 &lt;dbl&gt; | 1994 &lt;dbl&gt; | 1995 &lt;dbl&gt; | 1996 &lt;dbl&gt; | ⋯ ⋯ | 2008 &lt;dbl&gt; | 2009 &lt;dbl&gt; | 2010 &lt;dbl&gt; | 2011 &lt;dbl&gt; | 2012 &lt;dbl&gt; | 2013 &lt;dbl&gt; | 2014 &lt;dbl&gt; | 2015 &lt;dbl&gt; | 2016 &lt;dbl&gt; | 2017 &lt;dbl&gt; |\n",
       "|---|---|---|---|---|---|---|---|---|---|---|---|---|---|---|---|---|---|---|---|---|\n",
       "| Afghanistan | NA | NA | NA | NA |      NA |      NA |      NA |       NA |        NA | ⋯ |  3019860.1 |  3336435 |  5154250 |  6390311 |  6204984 |  8554414 |  7697178 |  7722865 |  6534140 |       NA |\n",
       "| Albania     | NA | NA | NA | NA |      NA |      NA |      NA |       NA |  938481.8 | ⋯ |  5250490.0 |  4548288 |  4602775 |  5395853 |  4879830 |  4880593 |  5229972 |  4320219 |  4669290 |  5717083 |\n",
       "| Algeria     | NA | NA | NA | NA | 8647816 | 8785275 | 9598674 | 10782432 | 9105595.4 | ⋯ | 39474721.6 | 39258327 | 40999891 | 47219730 | 50369391 | 54909973 | 58618080 | 51803071 | 47090684 | 46053016 |\n",
       "| Andorra     | NA | NA | NA | NA |      NA |      NA |      NA |  1025481 | 1061358.4 | ⋯ |  1939929.7 |  1610111 |  1540506 |  1617691 |  1417734 |  1487194 |  1556049 |       NA |       NA |       NA |\n",
       "| Angola      | NA | NA | NA | NA |      NA |      NA |      NA |       NA |        NA | ⋯ |         NA | 23918854 | 18143269 | 20790996 | 28722984 | 26756063 | 28753499 | 16757790 |       NA |       NA |\n",
       "| Anguila     | NA | NA | NA | NA |      NA |      NA |      NA |       NA |        NA | ⋯ |   271744.4 |       NA |       NA |       NA |       NA |       NA |       NA |       NA |       NA |       NA |\n",
       "\n"
      ],
      "text/plain": [
       "  Country     1988 1989 1990 1991 1992    1993    1994    1995     1996      ⋯\n",
       "1 Afghanistan NA   NA   NA   NA        NA      NA      NA       NA        NA ⋯\n",
       "2 Albania     NA   NA   NA   NA        NA      NA      NA       NA  938481.8 ⋯\n",
       "3 Algeria     NA   NA   NA   NA   8647816 8785275 9598674 10782432 9105595.4 ⋯\n",
       "4 Andorra     NA   NA   NA   NA        NA      NA      NA  1025481 1061358.4 ⋯\n",
       "5 Angola      NA   NA   NA   NA        NA      NA      NA       NA        NA ⋯\n",
       "6 Anguila     NA   NA   NA   NA        NA      NA      NA       NA        NA ⋯\n",
       "  2008       2009     2010     2011     2012     2013     2014     2015    \n",
       "1  3019860.1  3336435  5154250  6390311  6204984  8554414  7697178  7722865\n",
       "2  5250490.0  4548288  4602775  5395853  4879830  4880593  5229972  4320219\n",
       "3 39474721.6 39258327 40999891 47219730 50369391 54909973 58618080 51803071\n",
       "4  1939929.7  1610111  1540506  1617691  1417734  1487194  1556049       NA\n",
       "5         NA 23918854 18143269 20790996 28722984 26756063 28753499 16757790\n",
       "6   271744.4       NA       NA       NA       NA       NA       NA       NA\n",
       "  2016     2017    \n",
       "1  6534140       NA\n",
       "2  4669290  5717083\n",
       "3 47090684 46053016\n",
       "4       NA       NA\n",
       "5       NA       NA\n",
       "6       NA       NA"
      ]
     },
     "metadata": {},
     "output_type": "display_data"
    }
   ],
   "source": [
    "#Reading import data\n",
    "imp <- read_csv(\"Data/raw/importData.csv\") \n",
    "imp <- imp %>%\n",
    "    select(-2,-3,-4,-5) %>%\n",
    "    rename(Country = `Reporter Name`)\n",
    "\n",
    "imp %>% head()"
   ]
  },
  {
   "cell_type": "code",
   "execution_count": 14,
   "metadata": {},
   "outputs": [
    {
     "data": {
      "text/html": [
       "<table>\n",
       "<caption>A tibble: 6 × 3</caption>\n",
       "<thead>\n",
       "\t<tr><th scope=col>Country</th><th scope=col>Year</th><th scope=col>Import</th></tr>\n",
       "\t<tr><th scope=col>&lt;chr&gt;</th><th scope=col>&lt;chr&gt;</th><th scope=col>&lt;dbl&gt;</th></tr>\n",
       "</thead>\n",
       "<tbody>\n",
       "\t<tr><td>Afghanistan</td><td>1988</td><td>NA</td></tr>\n",
       "\t<tr><td>Albania    </td><td>1988</td><td>NA</td></tr>\n",
       "\t<tr><td>Algeria    </td><td>1988</td><td>NA</td></tr>\n",
       "\t<tr><td>Andorra    </td><td>1988</td><td>NA</td></tr>\n",
       "\t<tr><td>Angola     </td><td>1988</td><td>NA</td></tr>\n",
       "\t<tr><td>Anguila    </td><td>1988</td><td>NA</td></tr>\n",
       "</tbody>\n",
       "</table>\n"
      ],
      "text/latex": [
       "A tibble: 6 × 3\n",
       "\\begin{tabular}{r|lll}\n",
       " Country & Year & Import\\\\\n",
       " <chr> & <chr> & <dbl>\\\\\n",
       "\\hline\n",
       "\t Afghanistan & 1988 & NA\\\\\n",
       "\t Albania     & 1988 & NA\\\\\n",
       "\t Algeria     & 1988 & NA\\\\\n",
       "\t Andorra     & 1988 & NA\\\\\n",
       "\t Angola      & 1988 & NA\\\\\n",
       "\t Anguila     & 1988 & NA\\\\\n",
       "\\end{tabular}\n"
      ],
      "text/markdown": [
       "\n",
       "A tibble: 6 × 3\n",
       "\n",
       "| Country &lt;chr&gt; | Year &lt;chr&gt; | Import &lt;dbl&gt; |\n",
       "|---|---|---|\n",
       "| Afghanistan | 1988 | NA |\n",
       "| Albania     | 1988 | NA |\n",
       "| Algeria     | 1988 | NA |\n",
       "| Andorra     | 1988 | NA |\n",
       "| Angola      | 1988 | NA |\n",
       "| Anguila     | 1988 | NA |\n",
       "\n"
      ],
      "text/plain": [
       "  Country     Year Import\n",
       "1 Afghanistan 1988 NA    \n",
       "2 Albania     1988 NA    \n",
       "3 Algeria     1988 NA    \n",
       "4 Andorra     1988 NA    \n",
       "5 Angola      1988 NA    \n",
       "6 Anguila     1988 NA    "
      ]
     },
     "metadata": {},
     "output_type": "display_data"
    }
   ],
   "source": [
    "#Cleaning import data\n",
    "imp_gath <- imp %>%\n",
    "    gather(key = \"Year\",value = \"Import\",-Country)\n",
    "imp_gath %>% head()"
   ]
  },
  {
   "cell_type": "code",
   "execution_count": 15,
   "metadata": {},
   "outputs": [
    {
     "data": {
      "text/html": [
       "<table>\n",
       "<caption>A tibble: 6 × 9</caption>\n",
       "<thead>\n",
       "\t<tr><th scope=col>Country</th><th scope=col>Code</th><th scope=col>Year</th><th scope=col>gdpPerCap</th><th scope=col>literacy</th><th scope=col>popDensity</th><th scope=col>under_slum</th><th scope=col>below_poverty</th><th scope=col>Import</th></tr>\n",
       "\t<tr><th scope=col>&lt;chr&gt;</th><th scope=col>&lt;chr&gt;</th><th scope=col>&lt;chr&gt;</th><th scope=col>&lt;dbl&gt;</th><th scope=col>&lt;dbl&gt;</th><th scope=col>&lt;dbl&gt;</th><th scope=col>&lt;dbl&gt;</th><th scope=col>&lt;dbl&gt;</th><th scope=col>&lt;dbl&gt;</th></tr>\n",
       "</thead>\n",
       "<tbody>\n",
       "\t<tr><td>Afghanistan</td><td>AFG</td><td>1960</td><td>  59.77319</td><td>NA</td><td>NA</td><td>NA</td><td>NA</td><td>NA</td></tr>\n",
       "\t<tr><td>Australia  </td><td>AUS</td><td>1960</td><td>1807.78571</td><td>NA</td><td>NA</td><td>NA</td><td>NA</td><td>NA</td></tr>\n",
       "\t<tr><td>Austria    </td><td>AUT</td><td>1960</td><td> 935.46043</td><td>NA</td><td>NA</td><td>NA</td><td>NA</td><td>NA</td></tr>\n",
       "\t<tr><td>Burundi    </td><td>BDI</td><td>1960</td><td>  70.05173</td><td>NA</td><td>NA</td><td>NA</td><td>NA</td><td>NA</td></tr>\n",
       "\t<tr><td>Belgium    </td><td>BEL</td><td>1960</td><td>1273.69166</td><td>NA</td><td>NA</td><td>NA</td><td>NA</td><td>NA</td></tr>\n",
       "\t<tr><td>Benin      </td><td>BEN</td><td>1960</td><td>  93.02251</td><td>NA</td><td>NA</td><td>NA</td><td>NA</td><td>NA</td></tr>\n",
       "</tbody>\n",
       "</table>\n"
      ],
      "text/latex": [
       "A tibble: 6 × 9\n",
       "\\begin{tabular}{r|lllllllll}\n",
       " Country & Code & Year & gdpPerCap & literacy & popDensity & under\\_slum & below\\_poverty & Import\\\\\n",
       " <chr> & <chr> & <chr> & <dbl> & <dbl> & <dbl> & <dbl> & <dbl> & <dbl>\\\\\n",
       "\\hline\n",
       "\t Afghanistan & AFG & 1960 &   59.77319 & NA & NA & NA & NA & NA\\\\\n",
       "\t Australia   & AUS & 1960 & 1807.78571 & NA & NA & NA & NA & NA\\\\\n",
       "\t Austria     & AUT & 1960 &  935.46043 & NA & NA & NA & NA & NA\\\\\n",
       "\t Burundi     & BDI & 1960 &   70.05173 & NA & NA & NA & NA & NA\\\\\n",
       "\t Belgium     & BEL & 1960 & 1273.69166 & NA & NA & NA & NA & NA\\\\\n",
       "\t Benin       & BEN & 1960 &   93.02251 & NA & NA & NA & NA & NA\\\\\n",
       "\\end{tabular}\n"
      ],
      "text/markdown": [
       "\n",
       "A tibble: 6 × 9\n",
       "\n",
       "| Country &lt;chr&gt; | Code &lt;chr&gt; | Year &lt;chr&gt; | gdpPerCap &lt;dbl&gt; | literacy &lt;dbl&gt; | popDensity &lt;dbl&gt; | under_slum &lt;dbl&gt; | below_poverty &lt;dbl&gt; | Import &lt;dbl&gt; |\n",
       "|---|---|---|---|---|---|---|---|---|\n",
       "| Afghanistan | AFG | 1960 |   59.77319 | NA | NA | NA | NA | NA |\n",
       "| Australia   | AUS | 1960 | 1807.78571 | NA | NA | NA | NA | NA |\n",
       "| Austria     | AUT | 1960 |  935.46043 | NA | NA | NA | NA | NA |\n",
       "| Burundi     | BDI | 1960 |   70.05173 | NA | NA | NA | NA | NA |\n",
       "| Belgium     | BEL | 1960 | 1273.69166 | NA | NA | NA | NA | NA |\n",
       "| Benin       | BEN | 1960 |   93.02251 | NA | NA | NA | NA | NA |\n",
       "\n"
      ],
      "text/plain": [
       "  Country     Code Year gdpPerCap  literacy popDensity under_slum below_poverty\n",
       "1 Afghanistan AFG  1960   59.77319 NA       NA         NA         NA           \n",
       "2 Australia   AUS  1960 1807.78571 NA       NA         NA         NA           \n",
       "3 Austria     AUT  1960  935.46043 NA       NA         NA         NA           \n",
       "4 Burundi     BDI  1960   70.05173 NA       NA         NA         NA           \n",
       "5 Belgium     BEL  1960 1273.69166 NA       NA         NA         NA           \n",
       "6 Benin       BEN  1960   93.02251 NA       NA         NA         NA           \n",
       "  Import\n",
       "1 NA    \n",
       "2 NA    \n",
       "3 NA    \n",
       "4 NA    \n",
       "5 NA    \n",
       "6 NA    "
      ]
     },
     "metadata": {},
     "output_type": "display_data"
    }
   ],
   "source": [
    "# Joining import data to the main dataframe having all other features\n",
    "all_data <- left_join(all_data, imp_gath, by = c('Country','Year'))\n",
    "all_data %>% head()"
   ]
  },
  {
   "cell_type": "code",
   "execution_count": 16,
   "metadata": {},
   "outputs": [
    {
     "name": "stderr",
     "output_type": "stream",
     "text": [
      "Parsed with column specification:\n",
      "cols(\n",
      "  .default = col_double(),\n",
      "  `Reporter Name` = \u001b[31mcol_character()\u001b[39m,\n",
      "  `Partner Name` = \u001b[31mcol_character()\u001b[39m,\n",
      "  `Trade Flow` = \u001b[31mcol_character()\u001b[39m,\n",
      "  `Product Group` = \u001b[31mcol_character()\u001b[39m,\n",
      "  Indicator = \u001b[31mcol_character()\u001b[39m\n",
      ")\n",
      "See spec(...) for full column specifications.\n"
     ]
    },
    {
     "data": {
      "text/html": [
       "<table>\n",
       "<caption>A tibble: 6 × 31</caption>\n",
       "<thead>\n",
       "\t<tr><th scope=col>Country</th><th scope=col>1988</th><th scope=col>1989</th><th scope=col>1990</th><th scope=col>1991</th><th scope=col>1992</th><th scope=col>1993</th><th scope=col>1994</th><th scope=col>1995</th><th scope=col>1996</th><th scope=col>⋯</th><th scope=col>2008</th><th scope=col>2009</th><th scope=col>2010</th><th scope=col>2011</th><th scope=col>2012</th><th scope=col>2013</th><th scope=col>2014</th><th scope=col>2015</th><th scope=col>2016</th><th scope=col>2017</th></tr>\n",
       "\t<tr><th scope=col>&lt;chr&gt;</th><th scope=col>&lt;dbl&gt;</th><th scope=col>&lt;dbl&gt;</th><th scope=col>&lt;dbl&gt;</th><th scope=col>&lt;dbl&gt;</th><th scope=col>&lt;dbl&gt;</th><th scope=col>&lt;dbl&gt;</th><th scope=col>&lt;dbl&gt;</th><th scope=col>&lt;dbl&gt;</th><th scope=col>&lt;dbl&gt;</th><th scope=col>⋯</th><th scope=col>&lt;dbl&gt;</th><th scope=col>&lt;dbl&gt;</th><th scope=col>&lt;dbl&gt;</th><th scope=col>&lt;dbl&gt;</th><th scope=col>&lt;dbl&gt;</th><th scope=col>&lt;dbl&gt;</th><th scope=col>&lt;dbl&gt;</th><th scope=col>&lt;dbl&gt;</th><th scope=col>&lt;dbl&gt;</th><th scope=col>&lt;dbl&gt;</th></tr>\n",
       "</thead>\n",
       "<tbody>\n",
       "\t<tr><td>Afghanistan</td><td>NA</td><td>NA</td><td>NA</td><td>NA</td><td>      NA</td><td>      NA</td><td>     NA</td><td>        NA</td><td>         NA</td><td>⋯</td><td>  540065.59</td><td>  403441.0</td><td>  388483.64</td><td>  375850.9</td><td>  428902.7</td><td>  514972.98</td><td>  570534.01</td><td>  571405</td><td>  596455.3</td><td>      NA</td></tr>\n",
       "\t<tr><td>Albania    </td><td>NA</td><td>NA</td><td>NA</td><td>NA</td><td>      NA</td><td>      NA</td><td>     NA</td><td>        NA</td><td>  211140.40</td><td>⋯</td><td> 1354921.65</td><td> 1087914.9</td><td> 1549955.72</td><td> 1948207.3</td><td> 1967918.9</td><td> 2331521.93</td><td> 2430723.64</td><td> 1929657</td><td> 1962117.4</td><td> 2261556</td></tr>\n",
       "\t<tr><td>Algeria    </td><td>NA</td><td>NA</td><td>NA</td><td>NA</td><td>11136802</td><td>10097665</td><td>8593806</td><td>9356680.19</td><td>11099222.02</td><td>⋯</td><td>79297591.51</td><td>45193920.2</td><td>57050973.57</td><td>73436306.1</td><td>71865749.0</td><td>65998137.60</td><td>60387689.30</td><td>34795951</td><td>29992101.5</td><td>35191117</td></tr>\n",
       "\t<tr><td>Andorra    </td><td>NA</td><td>NA</td><td>NA</td><td>NA</td><td>      NA</td><td>      NA</td><td>     NA</td><td>  47803.14</td><td>   46242.98</td><td>⋯</td><td>  139099.35</td><td>  100477.9</td><td>   92318.97</td><td>  114022.7</td><td>  105949.6</td><td>   98978.05</td><td>   94780.86</td><td>      NA</td><td>        NA</td><td>      NA</td></tr>\n",
       "\t<tr><td>Angola     </td><td>NA</td><td>NA</td><td>NA</td><td>NA</td><td>      NA</td><td>      NA</td><td>     NA</td><td>        NA</td><td>         NA</td><td>⋯</td><td>         NA</td><td>40639411.7</td><td>52612114.76</td><td>66427390.2</td><td>70863076.4</td><td>67712526.55</td><td>58672369.19</td><td>33047779</td><td>        NA</td><td>      NA</td></tr>\n",
       "\t<tr><td>Anguila    </td><td>NA</td><td>NA</td><td>NA</td><td>NA</td><td>      NA</td><td>      NA</td><td>     NA</td><td>        NA</td><td>         NA</td><td>⋯</td><td>   11474.54</td><td>        NA</td><td>         NA</td><td>        NA</td><td>        NA</td><td>         NA</td><td>         NA</td><td>      NA</td><td>        NA</td><td>      NA</td></tr>\n",
       "</tbody>\n",
       "</table>\n"
      ],
      "text/latex": [
       "A tibble: 6 × 31\n",
       "\\begin{tabular}{r|lllllllllllllllllllllllllllllll}\n",
       " Country & 1988 & 1989 & 1990 & 1991 & 1992 & 1993 & 1994 & 1995 & 1996 & 1997 & 1998 & 1999 & 2000 & 2001 & 2002 & 2003 & 2004 & 2005 & 2006 & 2007 & 2008 & 2009 & 2010 & 2011 & 2012 & 2013 & 2014 & 2015 & 2016 & 2017\\\\\n",
       " <chr> & <dbl> & <dbl> & <dbl> & <dbl> & <dbl> & <dbl> & <dbl> & <dbl> & <dbl> & <dbl> & <dbl> & <dbl> & <dbl> & <dbl> & <dbl> & <dbl> & <dbl> & <dbl> & <dbl> & <dbl> & <dbl> & <dbl> & <dbl> & <dbl> & <dbl> & <dbl> & <dbl> & <dbl> & <dbl> & <dbl>\\\\\n",
       "\\hline\n",
       "\t Afghanistan & NA & NA & NA & NA &       NA &       NA &      NA &         NA &          NA &          NA &        NA &         NA &           NA &           NA &           NA &           NA &           NA &         NA &          NA &         NA &   540065.59 &   403441.0 &   388483.64 &   375850.9 &   428902.7 &   514972.98 &   570534.01 &   571405 &   596455.3 &       NA\\\\\n",
       "\t Albania     & NA & NA & NA & NA &       NA &       NA &      NA &         NA &   211140.40 &   137681.01 &  207653.8 &   351097.8 &   261475.781 &   304930.699 &   330241.497 &   447220.546 &   602653.356 &   658233.2 &   792629.67 &  1077690.4 &  1354921.65 &  1087914.9 &  1549955.72 &  1948207.3 &  1967918.9 &  2331521.93 &  2430723.64 &  1929657 &  1962117.4 &  2261556\\\\\n",
       "\t Algeria     & NA & NA & NA & NA & 11136802 & 10097665 & 8593806 & 9356680.19 & 11099222.02 & 13894123.52 & 9838587.9 & 12525276.6 & 22031287.640 & 19147619.190 & 18832409.260 & 24653655.790 & 32076791.700 & 46001735.5 & 54612721.78 & 60163160.4 & 79297591.51 & 45193920.2 & 57050973.57 & 73436306.1 & 71865749.0 & 65998137.60 & 60387689.30 & 34795951 & 29992101.5 & 35191117\\\\\n",
       "\t Andorra     & NA & NA & NA & NA &       NA &       NA &      NA &   47803.14 &    46242.98 &    48000.38 &   57858.9 &    42680.6 &    45329.043 &    52421.237 &    63752.333 &    90155.985 &   123209.544 &         NA &   165379.94 &   150846.2 &   139099.35 &   100477.9 &    92318.97 &   114022.7 &   105949.6 &    98978.05 &    94780.86 &       NA &         NA &       NA\\\\\n",
       "\t Angola      & NA & NA & NA & NA &       NA &       NA &      NA &         NA &          NA &          NA &        NA &         NA &           NA &           NA &           NA &           NA &           NA &         NA &          NA & 44177783.1 &          NA & 40639411.7 & 52612114.76 & 66427390.2 & 70863076.4 & 67712526.55 & 58672369.19 & 33047779 &         NA &       NA\\\\\n",
       "\t Anguila     & NA & NA & NA & NA &       NA &       NA &      NA &         NA &          NA &          NA &        NA &         NA &     4001.297 &     3200.931 &     4344.499 &     4238.995 &     5748.088 &         NA &    12237.71 &     9185.3 &    11474.54 &         NA &          NA &         NA &         NA &          NA &          NA &       NA &         NA &       NA\\\\\n",
       "\\end{tabular}\n"
      ],
      "text/markdown": [
       "\n",
       "A tibble: 6 × 31\n",
       "\n",
       "| Country &lt;chr&gt; | 1988 &lt;dbl&gt; | 1989 &lt;dbl&gt; | 1990 &lt;dbl&gt; | 1991 &lt;dbl&gt; | 1992 &lt;dbl&gt; | 1993 &lt;dbl&gt; | 1994 &lt;dbl&gt; | 1995 &lt;dbl&gt; | 1996 &lt;dbl&gt; | ⋯ ⋯ | 2008 &lt;dbl&gt; | 2009 &lt;dbl&gt; | 2010 &lt;dbl&gt; | 2011 &lt;dbl&gt; | 2012 &lt;dbl&gt; | 2013 &lt;dbl&gt; | 2014 &lt;dbl&gt; | 2015 &lt;dbl&gt; | 2016 &lt;dbl&gt; | 2017 &lt;dbl&gt; |\n",
       "|---|---|---|---|---|---|---|---|---|---|---|---|---|---|---|---|---|---|---|---|---|\n",
       "| Afghanistan | NA | NA | NA | NA |       NA |       NA |      NA |         NA |          NA | ⋯ |   540065.59 |   403441.0 |   388483.64 |   375850.9 |   428902.7 |   514972.98 |   570534.01 |   571405 |   596455.3 |       NA |\n",
       "| Albania     | NA | NA | NA | NA |       NA |       NA |      NA |         NA |   211140.40 | ⋯ |  1354921.65 |  1087914.9 |  1549955.72 |  1948207.3 |  1967918.9 |  2331521.93 |  2430723.64 |  1929657 |  1962117.4 |  2261556 |\n",
       "| Algeria     | NA | NA | NA | NA | 11136802 | 10097665 | 8593806 | 9356680.19 | 11099222.02 | ⋯ | 79297591.51 | 45193920.2 | 57050973.57 | 73436306.1 | 71865749.0 | 65998137.60 | 60387689.30 | 34795951 | 29992101.5 | 35191117 |\n",
       "| Andorra     | NA | NA | NA | NA |       NA |       NA |      NA |   47803.14 |    46242.98 | ⋯ |   139099.35 |   100477.9 |    92318.97 |   114022.7 |   105949.6 |    98978.05 |    94780.86 |       NA |         NA |       NA |\n",
       "| Angola      | NA | NA | NA | NA |       NA |       NA |      NA |         NA |          NA | ⋯ |          NA | 40639411.7 | 52612114.76 | 66427390.2 | 70863076.4 | 67712526.55 | 58672369.19 | 33047779 |         NA |       NA |\n",
       "| Anguila     | NA | NA | NA | NA |       NA |       NA |      NA |         NA |          NA | ⋯ |    11474.54 |         NA |          NA |         NA |         NA |          NA |          NA |       NA |         NA |       NA |\n",
       "\n"
      ],
      "text/plain": [
       "  Country     1988 1989 1990 1991 1992     1993     1994    1995      \n",
       "1 Afghanistan NA   NA   NA   NA         NA       NA      NA         NA\n",
       "2 Albania     NA   NA   NA   NA         NA       NA      NA         NA\n",
       "3 Algeria     NA   NA   NA   NA   11136802 10097665 8593806 9356680.19\n",
       "4 Andorra     NA   NA   NA   NA         NA       NA      NA   47803.14\n",
       "5 Angola      NA   NA   NA   NA         NA       NA      NA         NA\n",
       "6 Anguila     NA   NA   NA   NA         NA       NA      NA         NA\n",
       "  1996        ⋯ 2008        2009       2010        2011       2012      \n",
       "1          NA ⋯   540065.59   403441.0   388483.64   375850.9   428902.7\n",
       "2   211140.40 ⋯  1354921.65  1087914.9  1549955.72  1948207.3  1967918.9\n",
       "3 11099222.02 ⋯ 79297591.51 45193920.2 57050973.57 73436306.1 71865749.0\n",
       "4    46242.98 ⋯   139099.35   100477.9    92318.97   114022.7   105949.6\n",
       "5          NA ⋯          NA 40639411.7 52612114.76 66427390.2 70863076.4\n",
       "6          NA ⋯    11474.54         NA          NA         NA         NA\n",
       "  2013        2014        2015     2016       2017    \n",
       "1   514972.98   570534.01   571405   596455.3       NA\n",
       "2  2331521.93  2430723.64  1929657  1962117.4  2261556\n",
       "3 65998137.60 60387689.30 34795951 29992101.5 35191117\n",
       "4    98978.05    94780.86       NA         NA       NA\n",
       "5 67712526.55 58672369.19 33047779         NA       NA\n",
       "6          NA          NA       NA         NA       NA"
      ]
     },
     "metadata": {},
     "output_type": "display_data"
    }
   ],
   "source": [
    "# Reading export data\n",
    "exp <- read_csv(\"Data/raw/exportData.csv\") \n",
    "exp <- exp %>%\n",
    "    select(-2,-3,-4,-5) %>%\n",
    "    rename(Country = `Reporter Name`)\n",
    "\n",
    "exp %>% head()"
   ]
  },
  {
   "cell_type": "code",
   "execution_count": 17,
   "metadata": {},
   "outputs": [
    {
     "data": {
      "text/html": [
       "<table>\n",
       "<caption>A tibble: 6 × 3</caption>\n",
       "<thead>\n",
       "\t<tr><th scope=col>Country</th><th scope=col>Year</th><th scope=col>Export</th></tr>\n",
       "\t<tr><th scope=col>&lt;chr&gt;</th><th scope=col>&lt;chr&gt;</th><th scope=col>&lt;dbl&gt;</th></tr>\n",
       "</thead>\n",
       "<tbody>\n",
       "\t<tr><td>Afghanistan</td><td>1988</td><td>NA</td></tr>\n",
       "\t<tr><td>Albania    </td><td>1988</td><td>NA</td></tr>\n",
       "\t<tr><td>Algeria    </td><td>1988</td><td>NA</td></tr>\n",
       "\t<tr><td>Andorra    </td><td>1988</td><td>NA</td></tr>\n",
       "\t<tr><td>Angola     </td><td>1988</td><td>NA</td></tr>\n",
       "\t<tr><td>Anguila    </td><td>1988</td><td>NA</td></tr>\n",
       "</tbody>\n",
       "</table>\n"
      ],
      "text/latex": [
       "A tibble: 6 × 3\n",
       "\\begin{tabular}{r|lll}\n",
       " Country & Year & Export\\\\\n",
       " <chr> & <chr> & <dbl>\\\\\n",
       "\\hline\n",
       "\t Afghanistan & 1988 & NA\\\\\n",
       "\t Albania     & 1988 & NA\\\\\n",
       "\t Algeria     & 1988 & NA\\\\\n",
       "\t Andorra     & 1988 & NA\\\\\n",
       "\t Angola      & 1988 & NA\\\\\n",
       "\t Anguila     & 1988 & NA\\\\\n",
       "\\end{tabular}\n"
      ],
      "text/markdown": [
       "\n",
       "A tibble: 6 × 3\n",
       "\n",
       "| Country &lt;chr&gt; | Year &lt;chr&gt; | Export &lt;dbl&gt; |\n",
       "|---|---|---|\n",
       "| Afghanistan | 1988 | NA |\n",
       "| Albania     | 1988 | NA |\n",
       "| Algeria     | 1988 | NA |\n",
       "| Andorra     | 1988 | NA |\n",
       "| Angola      | 1988 | NA |\n",
       "| Anguila     | 1988 | NA |\n",
       "\n"
      ],
      "text/plain": [
       "  Country     Year Export\n",
       "1 Afghanistan 1988 NA    \n",
       "2 Albania     1988 NA    \n",
       "3 Algeria     1988 NA    \n",
       "4 Andorra     1988 NA    \n",
       "5 Angola      1988 NA    \n",
       "6 Anguila     1988 NA    "
      ]
     },
     "metadata": {},
     "output_type": "display_data"
    }
   ],
   "source": [
    "# Cleaning export data\n",
    "exp_gath <- exp %>%\n",
    "    gather(key = \"Year\",value = \"Export\",-Country)\n",
    "exp_gath %>% head()"
   ]
  },
  {
   "cell_type": "code",
   "execution_count": 18,
   "metadata": {},
   "outputs": [
    {
     "data": {
      "text/html": [
       "<table>\n",
       "<caption>A data.frame: 6 × 10</caption>\n",
       "<thead>\n",
       "\t<tr><th scope=col>Country</th><th scope=col>Code</th><th scope=col>Year</th><th scope=col>gdpPerCap</th><th scope=col>literacy</th><th scope=col>popDensity</th><th scope=col>under_slum</th><th scope=col>below_poverty</th><th scope=col>Import</th><th scope=col>Export</th></tr>\n",
       "\t<tr><th scope=col>&lt;chr&gt;</th><th scope=col>&lt;chr&gt;</th><th scope=col>&lt;dbl&gt;</th><th scope=col>&lt;dbl&gt;</th><th scope=col>&lt;dbl&gt;</th><th scope=col>&lt;dbl&gt;</th><th scope=col>&lt;dbl&gt;</th><th scope=col>&lt;dbl&gt;</th><th scope=col>&lt;dbl&gt;</th><th scope=col>&lt;dbl&gt;</th></tr>\n",
       "</thead>\n",
       "<tbody>\n",
       "\t<tr><td>Afghanistan</td><td>AFG</td><td>1960</td><td>  59.77319</td><td>NA</td><td>NA</td><td>NA</td><td>NA</td><td>NA</td><td>NA</td></tr>\n",
       "\t<tr><td>Australia  </td><td>AUS</td><td>1960</td><td>1807.78571</td><td>NA</td><td>NA</td><td>NA</td><td>NA</td><td>NA</td><td>NA</td></tr>\n",
       "\t<tr><td>Austria    </td><td>AUT</td><td>1960</td><td> 935.46043</td><td>NA</td><td>NA</td><td>NA</td><td>NA</td><td>NA</td><td>NA</td></tr>\n",
       "\t<tr><td>Burundi    </td><td>BDI</td><td>1960</td><td>  70.05173</td><td>NA</td><td>NA</td><td>NA</td><td>NA</td><td>NA</td><td>NA</td></tr>\n",
       "\t<tr><td>Belgium    </td><td>BEL</td><td>1960</td><td>1273.69166</td><td>NA</td><td>NA</td><td>NA</td><td>NA</td><td>NA</td><td>NA</td></tr>\n",
       "\t<tr><td>Benin      </td><td>BEN</td><td>1960</td><td>  93.02251</td><td>NA</td><td>NA</td><td>NA</td><td>NA</td><td>NA</td><td>NA</td></tr>\n",
       "</tbody>\n",
       "</table>\n"
      ],
      "text/latex": [
       "A data.frame: 6 × 10\n",
       "\\begin{tabular}{r|llllllllll}\n",
       " Country & Code & Year & gdpPerCap & literacy & popDensity & under\\_slum & below\\_poverty & Import & Export\\\\\n",
       " <chr> & <chr> & <dbl> & <dbl> & <dbl> & <dbl> & <dbl> & <dbl> & <dbl> & <dbl>\\\\\n",
       "\\hline\n",
       "\t Afghanistan & AFG & 1960 &   59.77319 & NA & NA & NA & NA & NA & NA\\\\\n",
       "\t Australia   & AUS & 1960 & 1807.78571 & NA & NA & NA & NA & NA & NA\\\\\n",
       "\t Austria     & AUT & 1960 &  935.46043 & NA & NA & NA & NA & NA & NA\\\\\n",
       "\t Burundi     & BDI & 1960 &   70.05173 & NA & NA & NA & NA & NA & NA\\\\\n",
       "\t Belgium     & BEL & 1960 & 1273.69166 & NA & NA & NA & NA & NA & NA\\\\\n",
       "\t Benin       & BEN & 1960 &   93.02251 & NA & NA & NA & NA & NA & NA\\\\\n",
       "\\end{tabular}\n"
      ],
      "text/markdown": [
       "\n",
       "A data.frame: 6 × 10\n",
       "\n",
       "| Country &lt;chr&gt; | Code &lt;chr&gt; | Year &lt;dbl&gt; | gdpPerCap &lt;dbl&gt; | literacy &lt;dbl&gt; | popDensity &lt;dbl&gt; | under_slum &lt;dbl&gt; | below_poverty &lt;dbl&gt; | Import &lt;dbl&gt; | Export &lt;dbl&gt; |\n",
       "|---|---|---|---|---|---|---|---|---|---|\n",
       "| Afghanistan | AFG | 1960 |   59.77319 | NA | NA | NA | NA | NA | NA |\n",
       "| Australia   | AUS | 1960 | 1807.78571 | NA | NA | NA | NA | NA | NA |\n",
       "| Austria     | AUT | 1960 |  935.46043 | NA | NA | NA | NA | NA | NA |\n",
       "| Burundi     | BDI | 1960 |   70.05173 | NA | NA | NA | NA | NA | NA |\n",
       "| Belgium     | BEL | 1960 | 1273.69166 | NA | NA | NA | NA | NA | NA |\n",
       "| Benin       | BEN | 1960 |   93.02251 | NA | NA | NA | NA | NA | NA |\n",
       "\n"
      ],
      "text/plain": [
       "  Country     Code Year gdpPerCap  literacy popDensity under_slum below_poverty\n",
       "1 Afghanistan AFG  1960   59.77319 NA       NA         NA         NA           \n",
       "2 Australia   AUS  1960 1807.78571 NA       NA         NA         NA           \n",
       "3 Austria     AUT  1960  935.46043 NA       NA         NA         NA           \n",
       "4 Burundi     BDI  1960   70.05173 NA       NA         NA         NA           \n",
       "5 Belgium     BEL  1960 1273.69166 NA       NA         NA         NA           \n",
       "6 Benin       BEN  1960   93.02251 NA       NA         NA         NA           \n",
       "  Import Export\n",
       "1 NA     NA    \n",
       "2 NA     NA    \n",
       "3 NA     NA    \n",
       "4 NA     NA    \n",
       "5 NA     NA    \n",
       "6 NA     NA    "
      ]
     },
     "metadata": {},
     "output_type": "display_data"
    }
   ],
   "source": [
    "# Joining export data to the main data frame having all other features\n",
    "all_data <- left_join(all_data, exp_gath, by = c('Country','Year')) %>%\n",
    "    transform(Year = as.numeric(Year)) \n",
    "all_data %>% head()"
   ]
  },
  {
   "cell_type": "code",
   "execution_count": 19,
   "metadata": {},
   "outputs": [
    {
     "name": "stderr",
     "output_type": "stream",
     "text": [
      "Parsed with column specification:\n",
      "cols(\n",
      "  .default = col_character(),\n",
      "  `2010 [YR2010]` = \u001b[32mcol_double()\u001b[39m,\n",
      "  `2009 [YR2009]` = \u001b[32mcol_double()\u001b[39m\n",
      ")\n",
      "See spec(...) for full column specifications.\n",
      "Warning message:\n",
      "“114 parsing failures.\n",
      " row           col expected actual                                           file\n",
      "1747 2010 [YR2010] a double     .. 'Data/raw/governance_indicator/governance.csv'\n",
      "1747 2009 [YR2009] a double     .. 'Data/raw/governance_indicator/governance.csv'\n",
      "1748 2010 [YR2010] a double     .. 'Data/raw/governance_indicator/governance.csv'\n",
      "1748 2009 [YR2009] a double     .. 'Data/raw/governance_indicator/governance.csv'\n",
      "1749 2010 [YR2010] a double     .. 'Data/raw/governance_indicator/governance.csv'\n",
      ".... ............. ........ ...... ..............................................\n",
      "See problems(...) for more details.\n",
      "”"
     ]
    }
   ],
   "source": [
    "#Reading governance data\n",
    "gov <- read_csv(\"Data/raw/governance_indicator/governance.csv\")"
   ]
  },
  {
   "cell_type": "code",
   "execution_count": 20,
   "metadata": {},
   "outputs": [
    {
     "name": "stderr",
     "output_type": "stream",
     "text": [
      "Warning message:\n",
      "“NAs introduced by coercion”Warning message:\n",
      "“NAs introduced by coercion”Warning message:\n",
      "“NAs introduced by coercion”"
     ]
    },
    {
     "data": {
      "text/html": [
       "<table>\n",
       "<caption>A tibble: 6 × 5</caption>\n",
       "<thead>\n",
       "\t<tr><th scope=col>Code</th><th scope=col>Year</th><th scope=col>Corruption</th><th scope=col>GovEff</th><th scope=col>PolSta</th></tr>\n",
       "\t<tr><th scope=col>&lt;chr&gt;</th><th scope=col>&lt;dbl&gt;</th><th scope=col>&lt;dbl&gt;</th><th scope=col>&lt;dbl&gt;</th><th scope=col>&lt;dbl&gt;</th></tr>\n",
       "</thead>\n",
       "<tbody>\n",
       "\t<tr><td>AFG</td><td>1996</td><td>-1.291705</td><td>-2.1751670</td><td>-2.414042</td></tr>\n",
       "\t<tr><td>AFG</td><td>1998</td><td>-1.180848</td><td>-2.1359420</td><td>-2.422996</td></tr>\n",
       "\t<tr><td>AFG</td><td>2000</td><td>-1.295380</td><td>-2.2316510</td><td>-2.440187</td></tr>\n",
       "\t<tr><td>AFG</td><td>2002</td><td>-1.263366</td><td>-1.5679730</td><td>-2.035389</td></tr>\n",
       "\t<tr><td>AFG</td><td>2003</td><td>-1.351042</td><td>-1.0824880</td><td>-2.197809</td></tr>\n",
       "\t<tr><td>AFG</td><td>2004</td><td>-1.345281</td><td>-0.8940507</td><td>-2.296179</td></tr>\n",
       "</tbody>\n",
       "</table>\n"
      ],
      "text/latex": [
       "A tibble: 6 × 5\n",
       "\\begin{tabular}{r|lllll}\n",
       " Code & Year & Corruption & GovEff & PolSta\\\\\n",
       " <chr> & <dbl> & <dbl> & <dbl> & <dbl>\\\\\n",
       "\\hline\n",
       "\t AFG & 1996 & -1.291705 & -2.1751670 & -2.414042\\\\\n",
       "\t AFG & 1998 & -1.180848 & -2.1359420 & -2.422996\\\\\n",
       "\t AFG & 2000 & -1.295380 & -2.2316510 & -2.440187\\\\\n",
       "\t AFG & 2002 & -1.263366 & -1.5679730 & -2.035389\\\\\n",
       "\t AFG & 2003 & -1.351042 & -1.0824880 & -2.197809\\\\\n",
       "\t AFG & 2004 & -1.345281 & -0.8940507 & -2.296179\\\\\n",
       "\\end{tabular}\n"
      ],
      "text/markdown": [
       "\n",
       "A tibble: 6 × 5\n",
       "\n",
       "| Code &lt;chr&gt; | Year &lt;dbl&gt; | Corruption &lt;dbl&gt; | GovEff &lt;dbl&gt; | PolSta &lt;dbl&gt; |\n",
       "|---|---|---|---|---|\n",
       "| AFG | 1996 | -1.291705 | -2.1751670 | -2.414042 |\n",
       "| AFG | 1998 | -1.180848 | -2.1359420 | -2.422996 |\n",
       "| AFG | 2000 | -1.295380 | -2.2316510 | -2.440187 |\n",
       "| AFG | 2002 | -1.263366 | -1.5679730 | -2.035389 |\n",
       "| AFG | 2003 | -1.351042 | -1.0824880 | -2.197809 |\n",
       "| AFG | 2004 | -1.345281 | -0.8940507 | -2.296179 |\n",
       "\n"
      ],
      "text/plain": [
       "  Code Year Corruption GovEff     PolSta   \n",
       "1 AFG  1996 -1.291705  -2.1751670 -2.414042\n",
       "2 AFG  1998 -1.180848  -2.1359420 -2.422996\n",
       "3 AFG  2000 -1.295380  -2.2316510 -2.440187\n",
       "4 AFG  2002 -1.263366  -1.5679730 -2.035389\n",
       "5 AFG  2003 -1.351042  -1.0824880 -2.197809\n",
       "6 AFG  2004 -1.345281  -0.8940507 -2.296179"
      ]
     },
     "metadata": {},
     "output_type": "display_data"
    }
   ],
   "source": [
    "# Reading governance data\n",
    "gov_clean <- gov %>% \n",
    "    gather(key = Year, value = Value , -1,-2,-3,-4) %>%\n",
    "    filter(`Series Code` %in% c('CC.EST','GE.EST','PV.EST'))%>%\n",
    "    mutate(Year = as.numeric(str_sub(Year,1,4)))%>%\n",
    "    select(-`Series Name`)%>%\n",
    "    spread(key = `Series Code`,value = Value) %>%\n",
    "    rename(Country = `Country Name`,Code = `Country Code`,Corruption = `CC.EST`,GovEff=`GE.EST`,PolSta = `PV.EST`) %>%\n",
    "    select(-Country) %>%\n",
    "    mutate(Corruption = as.numeric(Corruption),GovEff = as.numeric(GovEff),PolSta = as.numeric(PolSta))\n",
    "head(gov_clean)"
   ]
  },
  {
   "cell_type": "code",
   "execution_count": 21,
   "metadata": {},
   "outputs": [
    {
     "data": {
      "text/html": [
       "<table>\n",
       "<caption>A data.frame: 6 × 13</caption>\n",
       "<thead>\n",
       "\t<tr><th scope=col>Country</th><th scope=col>Code</th><th scope=col>Year</th><th scope=col>gdpPerCap</th><th scope=col>literacy</th><th scope=col>popDensity</th><th scope=col>under_slum</th><th scope=col>below_poverty</th><th scope=col>Import</th><th scope=col>Export</th><th scope=col>Corruption</th><th scope=col>GovEff</th><th scope=col>PolSta</th></tr>\n",
       "\t<tr><th scope=col>&lt;chr&gt;</th><th scope=col>&lt;chr&gt;</th><th scope=col>&lt;dbl&gt;</th><th scope=col>&lt;dbl&gt;</th><th scope=col>&lt;dbl&gt;</th><th scope=col>&lt;dbl&gt;</th><th scope=col>&lt;dbl&gt;</th><th scope=col>&lt;dbl&gt;</th><th scope=col>&lt;dbl&gt;</th><th scope=col>&lt;dbl&gt;</th><th scope=col>&lt;dbl&gt;</th><th scope=col>&lt;dbl&gt;</th><th scope=col>&lt;dbl&gt;</th></tr>\n",
       "</thead>\n",
       "<tbody>\n",
       "\t<tr><td>Afghanistan</td><td>AFG</td><td>1960</td><td>  59.77319</td><td>NA</td><td>NA</td><td>NA</td><td>NA</td><td>NA</td><td>NA</td><td>NA</td><td>NA</td><td>NA</td></tr>\n",
       "\t<tr><td>Australia  </td><td>AUS</td><td>1960</td><td>1807.78571</td><td>NA</td><td>NA</td><td>NA</td><td>NA</td><td>NA</td><td>NA</td><td>NA</td><td>NA</td><td>NA</td></tr>\n",
       "\t<tr><td>Austria    </td><td>AUT</td><td>1960</td><td> 935.46043</td><td>NA</td><td>NA</td><td>NA</td><td>NA</td><td>NA</td><td>NA</td><td>NA</td><td>NA</td><td>NA</td></tr>\n",
       "\t<tr><td>Burundi    </td><td>BDI</td><td>1960</td><td>  70.05173</td><td>NA</td><td>NA</td><td>NA</td><td>NA</td><td>NA</td><td>NA</td><td>NA</td><td>NA</td><td>NA</td></tr>\n",
       "\t<tr><td>Belgium    </td><td>BEL</td><td>1960</td><td>1273.69166</td><td>NA</td><td>NA</td><td>NA</td><td>NA</td><td>NA</td><td>NA</td><td>NA</td><td>NA</td><td>NA</td></tr>\n",
       "\t<tr><td>Benin      </td><td>BEN</td><td>1960</td><td>  93.02251</td><td>NA</td><td>NA</td><td>NA</td><td>NA</td><td>NA</td><td>NA</td><td>NA</td><td>NA</td><td>NA</td></tr>\n",
       "</tbody>\n",
       "</table>\n"
      ],
      "text/latex": [
       "A data.frame: 6 × 13\n",
       "\\begin{tabular}{r|lllllllllllll}\n",
       " Country & Code & Year & gdpPerCap & literacy & popDensity & under\\_slum & below\\_poverty & Import & Export & Corruption & GovEff & PolSta\\\\\n",
       " <chr> & <chr> & <dbl> & <dbl> & <dbl> & <dbl> & <dbl> & <dbl> & <dbl> & <dbl> & <dbl> & <dbl> & <dbl>\\\\\n",
       "\\hline\n",
       "\t Afghanistan & AFG & 1960 &   59.77319 & NA & NA & NA & NA & NA & NA & NA & NA & NA\\\\\n",
       "\t Australia   & AUS & 1960 & 1807.78571 & NA & NA & NA & NA & NA & NA & NA & NA & NA\\\\\n",
       "\t Austria     & AUT & 1960 &  935.46043 & NA & NA & NA & NA & NA & NA & NA & NA & NA\\\\\n",
       "\t Burundi     & BDI & 1960 &   70.05173 & NA & NA & NA & NA & NA & NA & NA & NA & NA\\\\\n",
       "\t Belgium     & BEL & 1960 & 1273.69166 & NA & NA & NA & NA & NA & NA & NA & NA & NA\\\\\n",
       "\t Benin       & BEN & 1960 &   93.02251 & NA & NA & NA & NA & NA & NA & NA & NA & NA\\\\\n",
       "\\end{tabular}\n"
      ],
      "text/markdown": [
       "\n",
       "A data.frame: 6 × 13\n",
       "\n",
       "| Country &lt;chr&gt; | Code &lt;chr&gt; | Year &lt;dbl&gt; | gdpPerCap &lt;dbl&gt; | literacy &lt;dbl&gt; | popDensity &lt;dbl&gt; | under_slum &lt;dbl&gt; | below_poverty &lt;dbl&gt; | Import &lt;dbl&gt; | Export &lt;dbl&gt; | Corruption &lt;dbl&gt; | GovEff &lt;dbl&gt; | PolSta &lt;dbl&gt; |\n",
       "|---|---|---|---|---|---|---|---|---|---|---|---|---|\n",
       "| Afghanistan | AFG | 1960 |   59.77319 | NA | NA | NA | NA | NA | NA | NA | NA | NA |\n",
       "| Australia   | AUS | 1960 | 1807.78571 | NA | NA | NA | NA | NA | NA | NA | NA | NA |\n",
       "| Austria     | AUT | 1960 |  935.46043 | NA | NA | NA | NA | NA | NA | NA | NA | NA |\n",
       "| Burundi     | BDI | 1960 |   70.05173 | NA | NA | NA | NA | NA | NA | NA | NA | NA |\n",
       "| Belgium     | BEL | 1960 | 1273.69166 | NA | NA | NA | NA | NA | NA | NA | NA | NA |\n",
       "| Benin       | BEN | 1960 |   93.02251 | NA | NA | NA | NA | NA | NA | NA | NA | NA |\n",
       "\n"
      ],
      "text/plain": [
       "  Country     Code Year gdpPerCap  literacy popDensity under_slum below_poverty\n",
       "1 Afghanistan AFG  1960   59.77319 NA       NA         NA         NA           \n",
       "2 Australia   AUS  1960 1807.78571 NA       NA         NA         NA           \n",
       "3 Austria     AUT  1960  935.46043 NA       NA         NA         NA           \n",
       "4 Burundi     BDI  1960   70.05173 NA       NA         NA         NA           \n",
       "5 Belgium     BEL  1960 1273.69166 NA       NA         NA         NA           \n",
       "6 Benin       BEN  1960   93.02251 NA       NA         NA         NA           \n",
       "  Import Export Corruption GovEff PolSta\n",
       "1 NA     NA     NA         NA     NA    \n",
       "2 NA     NA     NA         NA     NA    \n",
       "3 NA     NA     NA         NA     NA    \n",
       "4 NA     NA     NA         NA     NA    \n",
       "5 NA     NA     NA         NA     NA    \n",
       "6 NA     NA     NA         NA     NA    "
      ]
     },
     "metadata": {},
     "output_type": "display_data"
    }
   ],
   "source": [
    "# Joining governance data to the main dataframe having all other features\n",
    "all_data <- left_join(all_data,gov_clean,by = c('Code','Year'))\n",
    "head(all_data)"
   ]
  },
  {
   "cell_type": "code",
   "execution_count": 22,
   "metadata": {},
   "outputs": [
    {
     "name": "stderr",
     "output_type": "stream",
     "text": [
      "Parsed with column specification:\n",
      "cols(\n",
      "  Country = \u001b[31mcol_character()\u001b[39m,\n",
      "  Year = \u001b[32mcol_double()\u001b[39m,\n",
      "  `Both sexes` = \u001b[32mcol_double()\u001b[39m,\n",
      "  Male = \u001b[32mcol_double()\u001b[39m,\n",
      "  Female = \u001b[32mcol_double()\u001b[39m\n",
      ")\n"
     ]
    },
    {
     "data": {
      "text/html": [
       "<table>\n",
       "<caption>A tibble: 6 × 5</caption>\n",
       "<thead>\n",
       "\t<tr><th scope=col>Country</th><th scope=col>Year</th><th scope=col>adult_mortality</th><th scope=col>Male</th><th scope=col>Female</th></tr>\n",
       "\t<tr><th scope=col>&lt;chr&gt;</th><th scope=col>&lt;dbl&gt;</th><th scope=col>&lt;dbl&gt;</th><th scope=col>&lt;dbl&gt;</th><th scope=col>&lt;dbl&gt;</th></tr>\n",
       "</thead>\n",
       "<tbody>\n",
       "\t<tr><td>Afghanistan</td><td>2016</td><td>245</td><td>272</td><td>216</td></tr>\n",
       "\t<tr><td>Afghanistan</td><td>2015</td><td>233</td><td>254</td><td>210</td></tr>\n",
       "\t<tr><td>Afghanistan</td><td>2014</td><td>234</td><td>254</td><td>213</td></tr>\n",
       "\t<tr><td>Afghanistan</td><td>2013</td><td>235</td><td>254</td><td>215</td></tr>\n",
       "\t<tr><td>Afghanistan</td><td>2012</td><td>242</td><td>262</td><td>221</td></tr>\n",
       "\t<tr><td>Afghanistan</td><td>2011</td><td>248</td><td>268</td><td>227</td></tr>\n",
       "</tbody>\n",
       "</table>\n"
      ],
      "text/latex": [
       "A tibble: 6 × 5\n",
       "\\begin{tabular}{r|lllll}\n",
       " Country & Year & adult\\_mortality & Male & Female\\\\\n",
       " <chr> & <dbl> & <dbl> & <dbl> & <dbl>\\\\\n",
       "\\hline\n",
       "\t Afghanistan & 2016 & 245 & 272 & 216\\\\\n",
       "\t Afghanistan & 2015 & 233 & 254 & 210\\\\\n",
       "\t Afghanistan & 2014 & 234 & 254 & 213\\\\\n",
       "\t Afghanistan & 2013 & 235 & 254 & 215\\\\\n",
       "\t Afghanistan & 2012 & 242 & 262 & 221\\\\\n",
       "\t Afghanistan & 2011 & 248 & 268 & 227\\\\\n",
       "\\end{tabular}\n"
      ],
      "text/markdown": [
       "\n",
       "A tibble: 6 × 5\n",
       "\n",
       "| Country &lt;chr&gt; | Year &lt;dbl&gt; | adult_mortality &lt;dbl&gt; | Male &lt;dbl&gt; | Female &lt;dbl&gt; |\n",
       "|---|---|---|---|---|\n",
       "| Afghanistan | 2016 | 245 | 272 | 216 |\n",
       "| Afghanistan | 2015 | 233 | 254 | 210 |\n",
       "| Afghanistan | 2014 | 234 | 254 | 213 |\n",
       "| Afghanistan | 2013 | 235 | 254 | 215 |\n",
       "| Afghanistan | 2012 | 242 | 262 | 221 |\n",
       "| Afghanistan | 2011 | 248 | 268 | 227 |\n",
       "\n"
      ],
      "text/plain": [
       "  Country     Year adult_mortality Male Female\n",
       "1 Afghanistan 2016 245             272  216   \n",
       "2 Afghanistan 2015 233             254  210   \n",
       "3 Afghanistan 2014 234             254  213   \n",
       "4 Afghanistan 2013 235             254  215   \n",
       "5 Afghanistan 2012 242             262  221   \n",
       "6 Afghanistan 2011 248             268  227   "
      ]
     },
     "metadata": {},
     "output_type": "display_data"
    }
   ],
   "source": [
    "# Reading adult mortality data\n",
    "mortality <- read_csv('Data/raw/adultMortality.csv',skip = 1)%>%\n",
    "    rename(adult_mortality = `Both sexes`)\n",
    "head(mortality)"
   ]
  },
  {
   "cell_type": "code",
   "execution_count": 23,
   "metadata": {},
   "outputs": [],
   "source": [
    "# Joining adult mortality data to the main dataframe  having all other features\n",
    "all_data <- left_join(all_data,mortality,by= c('Country','Year'))"
   ]
  },
  {
   "cell_type": "code",
   "execution_count": 24,
   "metadata": {},
   "outputs": [
    {
     "data": {
      "text/html": [
       "<table>\n",
       "<caption>A data.frame: 6 × 16</caption>\n",
       "<thead>\n",
       "\t<tr><th scope=col>Country</th><th scope=col>Code</th><th scope=col>Year</th><th scope=col>gdpPerCap</th><th scope=col>literacy</th><th scope=col>popDensity</th><th scope=col>under_slum</th><th scope=col>below_poverty</th><th scope=col>Import</th><th scope=col>Export</th><th scope=col>Corruption</th><th scope=col>GovEff</th><th scope=col>PolSta</th><th scope=col>adult_mortality</th><th scope=col>Male</th><th scope=col>Female</th></tr>\n",
       "\t<tr><th scope=col>&lt;chr&gt;</th><th scope=col>&lt;chr&gt;</th><th scope=col>&lt;dbl&gt;</th><th scope=col>&lt;dbl&gt;</th><th scope=col>&lt;dbl&gt;</th><th scope=col>&lt;dbl&gt;</th><th scope=col>&lt;dbl&gt;</th><th scope=col>&lt;dbl&gt;</th><th scope=col>&lt;dbl&gt;</th><th scope=col>&lt;dbl&gt;</th><th scope=col>&lt;dbl&gt;</th><th scope=col>&lt;dbl&gt;</th><th scope=col>&lt;dbl&gt;</th><th scope=col>&lt;dbl&gt;</th><th scope=col>&lt;dbl&gt;</th><th scope=col>&lt;dbl&gt;</th></tr>\n",
       "</thead>\n",
       "<tbody>\n",
       "\t<tr><td>Afghanistan</td><td>AFG</td><td>1960</td><td>  59.77319</td><td>NA</td><td>NA</td><td>NA</td><td>NA</td><td>NA</td><td>NA</td><td>NA</td><td>NA</td><td>NA</td><td>NA</td><td>NA</td><td>NA</td></tr>\n",
       "\t<tr><td>Australia  </td><td>AUS</td><td>1960</td><td>1807.78571</td><td>NA</td><td>NA</td><td>NA</td><td>NA</td><td>NA</td><td>NA</td><td>NA</td><td>NA</td><td>NA</td><td>NA</td><td>NA</td><td>NA</td></tr>\n",
       "\t<tr><td>Austria    </td><td>AUT</td><td>1960</td><td> 935.46043</td><td>NA</td><td>NA</td><td>NA</td><td>NA</td><td>NA</td><td>NA</td><td>NA</td><td>NA</td><td>NA</td><td>NA</td><td>NA</td><td>NA</td></tr>\n",
       "\t<tr><td>Burundi    </td><td>BDI</td><td>1960</td><td>  70.05173</td><td>NA</td><td>NA</td><td>NA</td><td>NA</td><td>NA</td><td>NA</td><td>NA</td><td>NA</td><td>NA</td><td>NA</td><td>NA</td><td>NA</td></tr>\n",
       "\t<tr><td>Belgium    </td><td>BEL</td><td>1960</td><td>1273.69166</td><td>NA</td><td>NA</td><td>NA</td><td>NA</td><td>NA</td><td>NA</td><td>NA</td><td>NA</td><td>NA</td><td>NA</td><td>NA</td><td>NA</td></tr>\n",
       "\t<tr><td>Benin      </td><td>BEN</td><td>1960</td><td>  93.02251</td><td>NA</td><td>NA</td><td>NA</td><td>NA</td><td>NA</td><td>NA</td><td>NA</td><td>NA</td><td>NA</td><td>NA</td><td>NA</td><td>NA</td></tr>\n",
       "</tbody>\n",
       "</table>\n"
      ],
      "text/latex": [
       "A data.frame: 6 × 16\n",
       "\\begin{tabular}{r|llllllllllllllll}\n",
       " Country & Code & Year & gdpPerCap & literacy & popDensity & under\\_slum & below\\_poverty & Import & Export & Corruption & GovEff & PolSta & adult\\_mortality & Male & Female\\\\\n",
       " <chr> & <chr> & <dbl> & <dbl> & <dbl> & <dbl> & <dbl> & <dbl> & <dbl> & <dbl> & <dbl> & <dbl> & <dbl> & <dbl> & <dbl> & <dbl>\\\\\n",
       "\\hline\n",
       "\t Afghanistan & AFG & 1960 &   59.77319 & NA & NA & NA & NA & NA & NA & NA & NA & NA & NA & NA & NA\\\\\n",
       "\t Australia   & AUS & 1960 & 1807.78571 & NA & NA & NA & NA & NA & NA & NA & NA & NA & NA & NA & NA\\\\\n",
       "\t Austria     & AUT & 1960 &  935.46043 & NA & NA & NA & NA & NA & NA & NA & NA & NA & NA & NA & NA\\\\\n",
       "\t Burundi     & BDI & 1960 &   70.05173 & NA & NA & NA & NA & NA & NA & NA & NA & NA & NA & NA & NA\\\\\n",
       "\t Belgium     & BEL & 1960 & 1273.69166 & NA & NA & NA & NA & NA & NA & NA & NA & NA & NA & NA & NA\\\\\n",
       "\t Benin       & BEN & 1960 &   93.02251 & NA & NA & NA & NA & NA & NA & NA & NA & NA & NA & NA & NA\\\\\n",
       "\\end{tabular}\n"
      ],
      "text/markdown": [
       "\n",
       "A data.frame: 6 × 16\n",
       "\n",
       "| Country &lt;chr&gt; | Code &lt;chr&gt; | Year &lt;dbl&gt; | gdpPerCap &lt;dbl&gt; | literacy &lt;dbl&gt; | popDensity &lt;dbl&gt; | under_slum &lt;dbl&gt; | below_poverty &lt;dbl&gt; | Import &lt;dbl&gt; | Export &lt;dbl&gt; | Corruption &lt;dbl&gt; | GovEff &lt;dbl&gt; | PolSta &lt;dbl&gt; | adult_mortality &lt;dbl&gt; | Male &lt;dbl&gt; | Female &lt;dbl&gt; |\n",
       "|---|---|---|---|---|---|---|---|---|---|---|---|---|---|---|---|\n",
       "| Afghanistan | AFG | 1960 |   59.77319 | NA | NA | NA | NA | NA | NA | NA | NA | NA | NA | NA | NA |\n",
       "| Australia   | AUS | 1960 | 1807.78571 | NA | NA | NA | NA | NA | NA | NA | NA | NA | NA | NA | NA |\n",
       "| Austria     | AUT | 1960 |  935.46043 | NA | NA | NA | NA | NA | NA | NA | NA | NA | NA | NA | NA |\n",
       "| Burundi     | BDI | 1960 |   70.05173 | NA | NA | NA | NA | NA | NA | NA | NA | NA | NA | NA | NA |\n",
       "| Belgium     | BEL | 1960 | 1273.69166 | NA | NA | NA | NA | NA | NA | NA | NA | NA | NA | NA | NA |\n",
       "| Benin       | BEN | 1960 |   93.02251 | NA | NA | NA | NA | NA | NA | NA | NA | NA | NA | NA | NA |\n",
       "\n"
      ],
      "text/plain": [
       "  Country     Code Year gdpPerCap  literacy popDensity under_slum below_poverty\n",
       "1 Afghanistan AFG  1960   59.77319 NA       NA         NA         NA           \n",
       "2 Australia   AUS  1960 1807.78571 NA       NA         NA         NA           \n",
       "3 Austria     AUT  1960  935.46043 NA       NA         NA         NA           \n",
       "4 Burundi     BDI  1960   70.05173 NA       NA         NA         NA           \n",
       "5 Belgium     BEL  1960 1273.69166 NA       NA         NA         NA           \n",
       "6 Benin       BEN  1960   93.02251 NA       NA         NA         NA           \n",
       "  Import Export Corruption GovEff PolSta adult_mortality Male Female\n",
       "1 NA     NA     NA         NA     NA     NA              NA   NA    \n",
       "2 NA     NA     NA         NA     NA     NA              NA   NA    \n",
       "3 NA     NA     NA         NA     NA     NA              NA   NA    \n",
       "4 NA     NA     NA         NA     NA     NA              NA   NA    \n",
       "5 NA     NA     NA         NA     NA     NA              NA   NA    \n",
       "6 NA     NA     NA         NA     NA     NA              NA   NA    "
      ]
     },
     "metadata": {},
     "output_type": "display_data"
    }
   ],
   "source": [
    "all_data %>% head()"
   ]
  },
  {
   "cell_type": "code",
   "execution_count": 25,
   "metadata": {},
   "outputs": [],
   "source": [
    "write_csv(all_data,'Data/clean/all_data.csv')"
   ]
  },
  {
   "cell_type": "code",
   "execution_count": 26,
   "metadata": {},
   "outputs": [
    {
     "data": {
      "text/html": [
       "32"
      ],
      "text/latex": [
       "32"
      ],
      "text/markdown": [
       "32"
      ],
      "text/plain": [
       "[1] 32"
      ]
     },
     "metadata": {},
     "output_type": "display_data"
    }
   ],
   "source": [
    "# Calculating number of non null rows in the main dataframe\n",
    "all_clean_data <- drop_na(all_data)\n",
    "all_clean_data %>% nrow()"
   ]
  },
  {
   "cell_type": "code",
   "execution_count": 27,
   "metadata": {},
   "outputs": [],
   "source": [
    "#' Returns correlation matrix of the input list of columns of the main dataframe\n",
    "#'and prints number of non null rows for the given set of columns\n",
    "#'\n",
    "#' @param ... Comma separated columns whose correlation matrix needs to be calculated\n",
    "#'\n",
    "#' @result Correlation matrix of the input row\n",
    "#'\n",
    "#' @example\n",
    "#' calc_cor(literacy,gdpPerCapita)\n",
    "calc_cor <- function(...){\n",
    "    filt_data <- all_data %>%\n",
    "        select(...) %>%\n",
    "        drop_na()\n",
    "    print(paste(\"no. of rows = \",nrow(filt_data)))\n",
    "    cor(filt_data)\n",
    "}\n",
    "\n",
    "\n",
    "#' Returns a vector of number of non null row, the correlation of the input \n",
    "#' columns and the nale of the second column\n",
    "#'\n",
    "#' @param ... Comma separated columns. The function is meant to run only for two inputs\n",
    "#'\n",
    "#' @result Vector of number of non null row, their correlation and the name of second column whose correlation needs to be calulated\n",
    "#'\n",
    "#' @example\n",
    "#' calc_rows(lgdpPerCapita,iteracy)\n",
    "cor_rows <- function(...){\n",
    "    filt_data <- all_data %>%\n",
    "        select(...) %>%\n",
    "        drop_na()\n",
    "    rows <- nrow(filt_data)\n",
    "    cor_mat <- cor(filt_data)\n",
    "    col <- colnames(filt_data)[2]\n",
    "    c(rows,cor_mat[1,2], col)\n",
    "}"
   ]
  },
  {
   "cell_type": "markdown",
   "metadata": {},
   "source": [
    "## Social Factors impacting GDP per Capita\n",
    "\n",
    "We will be investigating the following social factors and try to find out which factors impact GDP per Capita the most:\n",
    "\n",
    "1. Literacy\n",
    "2. Percentage of urban population under slum\n",
    "3. Percentage of people earning less than $1.3 per day\n",
    "4. Corruption\n",
    "5. Government Effectiveness\n",
    "6. Political Stability\n",
    "7. Adult Mortality"
   ]
  },
  {
   "cell_type": "code",
   "execution_count": 28,
   "metadata": {},
   "outputs": [
    {
     "data": {
      "text/html": [
       "<table>\n",
       "<caption>A data.frame: 6 × 11</caption>\n",
       "<thead>\n",
       "\t<tr><th></th><th scope=col>Country</th><th scope=col>Code</th><th scope=col>Year</th><th scope=col>gdpPerCap</th><th scope=col>literacy</th><th scope=col>under_slum</th><th scope=col>below_poverty</th><th scope=col>Corruption</th><th scope=col>GovEff</th><th scope=col>PolSta</th><th scope=col>adult_mortality</th></tr>\n",
       "\t<tr><th></th><th scope=col>&lt;chr&gt;</th><th scope=col>&lt;chr&gt;</th><th scope=col>&lt;dbl&gt;</th><th scope=col>&lt;dbl&gt;</th><th scope=col>&lt;dbl&gt;</th><th scope=col>&lt;dbl&gt;</th><th scope=col>&lt;dbl&gt;</th><th scope=col>&lt;dbl&gt;</th><th scope=col>&lt;dbl&gt;</th><th scope=col>&lt;dbl&gt;</th><th scope=col>&lt;dbl&gt;</th></tr>\n",
       "</thead>\n",
       "<tbody>\n",
       "\t<tr><th scope=row>7462</th><td>Mexico     </td><td>MEX</td><td>2000</td><td>7157.8145</td><td>90.53562</td><td>19.9</td><td>21.4</td><td>-0.2456290</td><td> 0.2423703</td><td>-0.1981652</td><td>138</td></tr>\n",
       "\t<tr><th scope=row>7493</th><td>Philippines</td><td>PHL</td><td>2000</td><td>1038.9085</td><td>92.60006</td><td>47.2</td><td>38.1</td><td>-0.5104946</td><td>-0.1756712</td><td>-1.3889300</td><td>213</td></tr>\n",
       "\t<tr><th scope=row>7508</th><td>Rwanda     </td><td>RWA</td><td>2000</td><td> 218.6802</td><td>64.88860</td><td>79.7</td><td>90.2</td><td>-0.6028345</td><td>-0.6453785</td><td>-1.6928210</td><td>451</td></tr>\n",
       "\t<tr><th scope=row>8599</th><td>Colombia   </td><td>COL</td><td>2005</td><td>3404.1902</td><td>92.84866</td><td>17.9</td><td>23.4</td><td>-0.1322573</td><td>-0.1780718</td><td>-2.0561070</td><td>144</td></tr>\n",
       "\t<tr><th scope=row>8703</th><td>Mexico     </td><td>MEX</td><td>2005</td><td>8277.6713</td><td>91.63027</td><td>14.4</td><td>16.1</td><td>-0.2710108</td><td> 0.0681568</td><td>-0.4479379</td><td>134</td></tr>\n",
       "\t<tr><th scope=row>8721</th><td>Niger      </td><td>NER</td><td>2005</td><td> 249.9279</td><td>28.67242</td><td>82.1</td><td>90.7</td><td>-0.7178950</td><td>-0.7724570</td><td>-0.4883650</td><td>285</td></tr>\n",
       "</tbody>\n",
       "</table>\n"
      ],
      "text/latex": [
       "A data.frame: 6 × 11\n",
       "\\begin{tabular}{r|lllllllllll}\n",
       "  & Country & Code & Year & gdpPerCap & literacy & under\\_slum & below\\_poverty & Corruption & GovEff & PolSta & adult\\_mortality\\\\\n",
       "  & <chr> & <chr> & <dbl> & <dbl> & <dbl> & <dbl> & <dbl> & <dbl> & <dbl> & <dbl> & <dbl>\\\\\n",
       "\\hline\n",
       "\t7462 & Mexico      & MEX & 2000 & 7157.8145 & 90.53562 & 19.9 & 21.4 & -0.2456290 &  0.2423703 & -0.1981652 & 138\\\\\n",
       "\t7493 & Philippines & PHL & 2000 & 1038.9085 & 92.60006 & 47.2 & 38.1 & -0.5104946 & -0.1756712 & -1.3889300 & 213\\\\\n",
       "\t7508 & Rwanda      & RWA & 2000 &  218.6802 & 64.88860 & 79.7 & 90.2 & -0.6028345 & -0.6453785 & -1.6928210 & 451\\\\\n",
       "\t8599 & Colombia    & COL & 2005 & 3404.1902 & 92.84866 & 17.9 & 23.4 & -0.1322573 & -0.1780718 & -2.0561070 & 144\\\\\n",
       "\t8703 & Mexico      & MEX & 2005 & 8277.6713 & 91.63027 & 14.4 & 16.1 & -0.2710108 &  0.0681568 & -0.4479379 & 134\\\\\n",
       "\t8721 & Niger       & NER & 2005 &  249.9279 & 28.67242 & 82.1 & 90.7 & -0.7178950 & -0.7724570 & -0.4883650 & 285\\\\\n",
       "\\end{tabular}\n"
      ],
      "text/markdown": [
       "\n",
       "A data.frame: 6 × 11\n",
       "\n",
       "| <!--/--> | Country &lt;chr&gt; | Code &lt;chr&gt; | Year &lt;dbl&gt; | gdpPerCap &lt;dbl&gt; | literacy &lt;dbl&gt; | under_slum &lt;dbl&gt; | below_poverty &lt;dbl&gt; | Corruption &lt;dbl&gt; | GovEff &lt;dbl&gt; | PolSta &lt;dbl&gt; | adult_mortality &lt;dbl&gt; |\n",
       "|---|---|---|---|---|---|---|---|---|---|---|---|\n",
       "| 7462 | Mexico      | MEX | 2000 | 7157.8145 | 90.53562 | 19.9 | 21.4 | -0.2456290 |  0.2423703 | -0.1981652 | 138 |\n",
       "| 7493 | Philippines | PHL | 2000 | 1038.9085 | 92.60006 | 47.2 | 38.1 | -0.5104946 | -0.1756712 | -1.3889300 | 213 |\n",
       "| 7508 | Rwanda      | RWA | 2000 |  218.6802 | 64.88860 | 79.7 | 90.2 | -0.6028345 | -0.6453785 | -1.6928210 | 451 |\n",
       "| 8599 | Colombia    | COL | 2005 | 3404.1902 | 92.84866 | 17.9 | 23.4 | -0.1322573 | -0.1780718 | -2.0561070 | 144 |\n",
       "| 8703 | Mexico      | MEX | 2005 | 8277.6713 | 91.63027 | 14.4 | 16.1 | -0.2710108 |  0.0681568 | -0.4479379 | 134 |\n",
       "| 8721 | Niger       | NER | 2005 |  249.9279 | 28.67242 | 82.1 | 90.7 | -0.7178950 | -0.7724570 | -0.4883650 | 285 |\n",
       "\n"
      ],
      "text/plain": [
       "     Country     Code Year gdpPerCap literacy under_slum below_poverty\n",
       "7462 Mexico      MEX  2000 7157.8145 90.53562 19.9       21.4         \n",
       "7493 Philippines PHL  2000 1038.9085 92.60006 47.2       38.1         \n",
       "7508 Rwanda      RWA  2000  218.6802 64.88860 79.7       90.2         \n",
       "8599 Colombia    COL  2005 3404.1902 92.84866 17.9       23.4         \n",
       "8703 Mexico      MEX  2005 8277.6713 91.63027 14.4       16.1         \n",
       "8721 Niger       NER  2005  249.9279 28.67242 82.1       90.7         \n",
       "     Corruption GovEff     PolSta     adult_mortality\n",
       "7462 -0.2456290  0.2423703 -0.1981652 138            \n",
       "7493 -0.5104946 -0.1756712 -1.3889300 213            \n",
       "7508 -0.6028345 -0.6453785 -1.6928210 451            \n",
       "8599 -0.1322573 -0.1780718 -2.0561070 144            \n",
       "8703 -0.2710108  0.0681568 -0.4479379 134            \n",
       "8721 -0.7178950 -0.7724570 -0.4883650 285            "
      ]
     },
     "metadata": {},
     "output_type": "display_data"
    }
   ],
   "source": [
    "head(all_data[c(1,2,3,4,5,7,8,11,12,13,14)] %>% drop_na())"
   ]
  },
  {
   "cell_type": "markdown",
   "metadata": {},
   "source": [
    "We will check individual correlation of each explanatory variable with GDP per capita and also see how many rows are contributing in the calculation of correlation."
   ]
  },
  {
   "cell_type": "code",
   "execution_count": 29,
   "metadata": {},
   "outputs": [
    {
     "data": {
      "text/html": [
       "<table>\n",
       "<caption>A tibble: 7 × 3</caption>\n",
       "<thead>\n",
       "\t<tr><th scope=col>columns</th><th scope=col>cor_with_gdpPerCap</th><th scope=col>num_rows</th></tr>\n",
       "\t<tr><th scope=col>&lt;chr&gt;</th><th scope=col>&lt;chr&gt;</th><th scope=col>&lt;chr&gt;</th></tr>\n",
       "</thead>\n",
       "<tbody>\n",
       "\t<tr><td>literacy       </td><td>0.434958240154401 </td><td>2321</td></tr>\n",
       "\t<tr><td>under_slum     </td><td>-0.584522550997509</td><td>613 </td></tr>\n",
       "\t<tr><td>below_poverty  </td><td>-0.489023240364821</td><td>1650</td></tr>\n",
       "\t<tr><td>Corruption     </td><td>0.709422647163046 </td><td>3879</td></tr>\n",
       "\t<tr><td>GovEff         </td><td>0.715701377557888 </td><td>3866</td></tr>\n",
       "\t<tr><td>PolSta         </td><td>0.490245513522648 </td><td>3888</td></tr>\n",
       "\t<tr><td>adult_mortality</td><td>-0.506846999888662</td><td>2630</td></tr>\n",
       "</tbody>\n",
       "</table>\n"
      ],
      "text/latex": [
       "A tibble: 7 × 3\n",
       "\\begin{tabular}{r|lll}\n",
       " columns & cor\\_with\\_gdpPerCap & num\\_rows\\\\\n",
       " <chr> & <chr> & <chr>\\\\\n",
       "\\hline\n",
       "\t literacy        & 0.434958240154401  & 2321\\\\\n",
       "\t under\\_slum      & -0.584522550997509 & 613 \\\\\n",
       "\t below\\_poverty   & -0.489023240364821 & 1650\\\\\n",
       "\t Corruption      & 0.709422647163046  & 3879\\\\\n",
       "\t GovEff          & 0.715701377557888  & 3866\\\\\n",
       "\t PolSta          & 0.490245513522648  & 3888\\\\\n",
       "\t adult\\_mortality & -0.506846999888662 & 2630\\\\\n",
       "\\end{tabular}\n"
      ],
      "text/markdown": [
       "\n",
       "A tibble: 7 × 3\n",
       "\n",
       "| columns &lt;chr&gt; | cor_with_gdpPerCap &lt;chr&gt; | num_rows &lt;chr&gt; |\n",
       "|---|---|---|\n",
       "| literacy        | 0.434958240154401  | 2321 |\n",
       "| under_slum      | -0.584522550997509 | 613  |\n",
       "| below_poverty   | -0.489023240364821 | 1650 |\n",
       "| Corruption      | 0.709422647163046  | 3879 |\n",
       "| GovEff          | 0.715701377557888  | 3866 |\n",
       "| PolSta          | 0.490245513522648  | 3888 |\n",
       "| adult_mortality | -0.506846999888662 | 2630 |\n",
       "\n"
      ],
      "text/plain": [
       "  columns         cor_with_gdpPerCap num_rows\n",
       "1 literacy        0.434958240154401  2321    \n",
       "2 under_slum      -0.584522550997509 613     \n",
       "3 below_poverty   -0.489023240364821 1650    \n",
       "4 Corruption      0.709422647163046  3879    \n",
       "5 GovEff          0.715701377557888  3866    \n",
       "6 PolSta          0.490245513522648  3888    \n",
       "7 adult_mortality -0.506846999888662 2630    "
      ]
     },
     "metadata": {},
     "output_type": "display_data"
    }
   ],
   "source": [
    "# Calculating individual correlation of each variable to GDP per Capita\n",
    "cols = c(5,7,8,11,12,13,14)\n",
    "i = 1\n",
    "num_rows = vector(\"double\",length(cols))\n",
    "cor = vector(\"double\",length(cols))\n",
    "col_name = vector(\"character\",length(cols))\n",
    "for(col in cols){\n",
    "    out <- cor_rows(gdpPerCap,col)\n",
    "    num_rows[i] <- out[1]\n",
    "    cor[i] <- out[2]\n",
    "    col_name[i] <- out[3]\n",
    "    i = i + 1\n",
    "}\n",
    "\n",
    "cor_df = tibble(columns = col_name, cor_with_gdpPerCap = cor, num_rows = num_rows)\n",
    "cor_df"
   ]
  },
  {
   "cell_type": "code",
   "execution_count": 30,
   "metadata": {},
   "outputs": [
    {
     "name": "stdout",
     "output_type": "stream",
     "text": [
      "[1] \"no. of rows =  33\"\n"
     ]
    },
    {
     "data": {
      "text/html": [
       "<table>\n",
       "<caption>A matrix: 8 × 8 of type dbl</caption>\n",
       "<thead>\n",
       "\t<tr><th></th><th scope=col>gdpPerCap</th><th scope=col>literacy</th><th scope=col>under_slum</th><th scope=col>below_poverty</th><th scope=col>Corruption</th><th scope=col>GovEff</th><th scope=col>PolSta</th><th scope=col>adult_mortality</th></tr>\n",
       "</thead>\n",
       "<tbody>\n",
       "\t<tr><th scope=row>gdpPerCap</th><td> 1.0000000</td><td> 0.6139620</td><td>-0.7323959</td><td>-0.8031005</td><td> 0.49250822</td><td> 0.71533006</td><td> 0.33672158</td><td>-0.6102630</td></tr>\n",
       "\t<tr><th scope=row>literacy</th><td> 0.6139620</td><td> 1.0000000</td><td>-0.8196033</td><td>-0.8144164</td><td> 0.34875600</td><td> 0.49943838</td><td> 0.18417907</td><td>-0.5773224</td></tr>\n",
       "\t<tr><th scope=row>under_slum</th><td>-0.7323959</td><td>-0.8196033</td><td> 1.0000000</td><td> 0.8556470</td><td>-0.38377983</td><td>-0.63305809</td><td>-0.17286795</td><td> 0.7145471</td></tr>\n",
       "\t<tr><th scope=row>below_poverty</th><td>-0.8031005</td><td>-0.8144164</td><td> 0.8556470</td><td> 1.0000000</td><td>-0.42322369</td><td>-0.49753401</td><td>-0.31063888</td><td> 0.8180963</td></tr>\n",
       "\t<tr><th scope=row>Corruption</th><td> 0.4925082</td><td> 0.3487560</td><td>-0.3837798</td><td>-0.4232237</td><td> 1.00000000</td><td> 0.67938944</td><td>-0.06933345</td><td>-0.3374632</td></tr>\n",
       "\t<tr><th scope=row>GovEff</th><td> 0.7153301</td><td> 0.4994384</td><td>-0.6330581</td><td>-0.4975340</td><td> 0.67938944</td><td> 1.00000000</td><td>-0.03142046</td><td>-0.4063070</td></tr>\n",
       "\t<tr><th scope=row>PolSta</th><td> 0.3367216</td><td> 0.1841791</td><td>-0.1728679</td><td>-0.3106389</td><td>-0.06933345</td><td>-0.03142046</td><td> 1.00000000</td><td>-0.1257701</td></tr>\n",
       "\t<tr><th scope=row>adult_mortality</th><td>-0.6102630</td><td>-0.5773224</td><td> 0.7145471</td><td> 0.8180963</td><td>-0.33746322</td><td>-0.40630696</td><td>-0.12577007</td><td> 1.0000000</td></tr>\n",
       "</tbody>\n",
       "</table>\n"
      ],
      "text/latex": [
       "A matrix: 8 × 8 of type dbl\n",
       "\\begin{tabular}{r|llllllll}\n",
       "  & gdpPerCap & literacy & under\\_slum & below\\_poverty & Corruption & GovEff & PolSta & adult\\_mortality\\\\\n",
       "\\hline\n",
       "\tgdpPerCap &  1.0000000 &  0.6139620 & -0.7323959 & -0.8031005 &  0.49250822 &  0.71533006 &  0.33672158 & -0.6102630\\\\\n",
       "\tliteracy &  0.6139620 &  1.0000000 & -0.8196033 & -0.8144164 &  0.34875600 &  0.49943838 &  0.18417907 & -0.5773224\\\\\n",
       "\tunder\\_slum & -0.7323959 & -0.8196033 &  1.0000000 &  0.8556470 & -0.38377983 & -0.63305809 & -0.17286795 &  0.7145471\\\\\n",
       "\tbelow\\_poverty & -0.8031005 & -0.8144164 &  0.8556470 &  1.0000000 & -0.42322369 & -0.49753401 & -0.31063888 &  0.8180963\\\\\n",
       "\tCorruption &  0.4925082 &  0.3487560 & -0.3837798 & -0.4232237 &  1.00000000 &  0.67938944 & -0.06933345 & -0.3374632\\\\\n",
       "\tGovEff &  0.7153301 &  0.4994384 & -0.6330581 & -0.4975340 &  0.67938944 &  1.00000000 & -0.03142046 & -0.4063070\\\\\n",
       "\tPolSta &  0.3367216 &  0.1841791 & -0.1728679 & -0.3106389 & -0.06933345 & -0.03142046 &  1.00000000 & -0.1257701\\\\\n",
       "\tadult\\_mortality & -0.6102630 & -0.5773224 &  0.7145471 &  0.8180963 & -0.33746322 & -0.40630696 & -0.12577007 &  1.0000000\\\\\n",
       "\\end{tabular}\n"
      ],
      "text/markdown": [
       "\n",
       "A matrix: 8 × 8 of type dbl\n",
       "\n",
       "| <!--/--> | gdpPerCap | literacy | under_slum | below_poverty | Corruption | GovEff | PolSta | adult_mortality |\n",
       "|---|---|---|---|---|---|---|---|---|\n",
       "| gdpPerCap |  1.0000000 |  0.6139620 | -0.7323959 | -0.8031005 |  0.49250822 |  0.71533006 |  0.33672158 | -0.6102630 |\n",
       "| literacy |  0.6139620 |  1.0000000 | -0.8196033 | -0.8144164 |  0.34875600 |  0.49943838 |  0.18417907 | -0.5773224 |\n",
       "| under_slum | -0.7323959 | -0.8196033 |  1.0000000 |  0.8556470 | -0.38377983 | -0.63305809 | -0.17286795 |  0.7145471 |\n",
       "| below_poverty | -0.8031005 | -0.8144164 |  0.8556470 |  1.0000000 | -0.42322369 | -0.49753401 | -0.31063888 |  0.8180963 |\n",
       "| Corruption |  0.4925082 |  0.3487560 | -0.3837798 | -0.4232237 |  1.00000000 |  0.67938944 | -0.06933345 | -0.3374632 |\n",
       "| GovEff |  0.7153301 |  0.4994384 | -0.6330581 | -0.4975340 |  0.67938944 |  1.00000000 | -0.03142046 | -0.4063070 |\n",
       "| PolSta |  0.3367216 |  0.1841791 | -0.1728679 | -0.3106389 | -0.06933345 | -0.03142046 |  1.00000000 | -0.1257701 |\n",
       "| adult_mortality | -0.6102630 | -0.5773224 |  0.7145471 |  0.8180963 | -0.33746322 | -0.40630696 | -0.12577007 |  1.0000000 |\n",
       "\n"
      ],
      "text/plain": [
       "                gdpPerCap  literacy   under_slum below_poverty Corruption \n",
       "gdpPerCap        1.0000000  0.6139620 -0.7323959 -0.8031005     0.49250822\n",
       "literacy         0.6139620  1.0000000 -0.8196033 -0.8144164     0.34875600\n",
       "under_slum      -0.7323959 -0.8196033  1.0000000  0.8556470    -0.38377983\n",
       "below_poverty   -0.8031005 -0.8144164  0.8556470  1.0000000    -0.42322369\n",
       "Corruption       0.4925082  0.3487560 -0.3837798 -0.4232237     1.00000000\n",
       "GovEff           0.7153301  0.4994384 -0.6330581 -0.4975340     0.67938944\n",
       "PolSta           0.3367216  0.1841791 -0.1728679 -0.3106389    -0.06933345\n",
       "adult_mortality -0.6102630 -0.5773224  0.7145471  0.8180963    -0.33746322\n",
       "                GovEff      PolSta      adult_mortality\n",
       "gdpPerCap        0.71533006  0.33672158 -0.6102630     \n",
       "literacy         0.49943838  0.18417907 -0.5773224     \n",
       "under_slum      -0.63305809 -0.17286795  0.7145471     \n",
       "below_poverty   -0.49753401 -0.31063888  0.8180963     \n",
       "Corruption       0.67938944 -0.06933345 -0.3374632     \n",
       "GovEff           1.00000000 -0.03142046 -0.4063070     \n",
       "PolSta          -0.03142046  1.00000000 -0.1257701     \n",
       "adult_mortality -0.40630696 -0.12577007  1.0000000     "
      ]
     },
     "metadata": {},
     "output_type": "display_data"
    }
   ],
   "source": [
    "# Overall correlation matrix for all the 7 social factors and the dependent variable GDP per Capita\n",
    "calc_cor(4,5,7,8,11,12,13,14) "
   ]
  },
  {
   "cell_type": "markdown",
   "metadata": {},
   "source": [
    "* If we combine all the factors we only have 33 non null rows and there are 7 explanatory variables. This will cause curse of dimensionality and we will not get significant results.\n",
    "* We need to identify the explanatory variables which can introduce collinearity or the ones which are highly correlated.\n",
    "* In the above matrix we can observe `literacy` has very high correlation with `under_slum`,`below_poverty`.\n",
    "* Let us try to analyze `literacy`,`under_slum` and `below_poverty` to see if any factor can be eliminated among these 3."
   ]
  },
  {
   "cell_type": "code",
   "execution_count": 31,
   "metadata": {},
   "outputs": [
    {
     "name": "stdout",
     "output_type": "stream",
     "text": [
      "[1] \"no. of rows =  61\"\n"
     ]
    },
    {
     "data": {
      "text/html": [
       "<table>\n",
       "<caption>A matrix: 4 × 4 of type dbl</caption>\n",
       "<thead>\n",
       "\t<tr><th></th><th scope=col>gdpPerCap</th><th scope=col>literacy</th><th scope=col>under_slum</th><th scope=col>below_poverty</th></tr>\n",
       "</thead>\n",
       "<tbody>\n",
       "\t<tr><th scope=row>gdpPerCap</th><td> 1.0000000</td><td> 0.6666279</td><td>-0.7760916</td><td>-0.7855305</td></tr>\n",
       "\t<tr><th scope=row>literacy</th><td> 0.6666279</td><td> 1.0000000</td><td>-0.8294281</td><td>-0.7706087</td></tr>\n",
       "\t<tr><th scope=row>under_slum</th><td>-0.7760916</td><td>-0.8294281</td><td> 1.0000000</td><td> 0.8293973</td></tr>\n",
       "\t<tr><th scope=row>below_poverty</th><td>-0.7855305</td><td>-0.7706087</td><td> 0.8293973</td><td> 1.0000000</td></tr>\n",
       "</tbody>\n",
       "</table>\n"
      ],
      "text/latex": [
       "A matrix: 4 × 4 of type dbl\n",
       "\\begin{tabular}{r|llll}\n",
       "  & gdpPerCap & literacy & under\\_slum & below\\_poverty\\\\\n",
       "\\hline\n",
       "\tgdpPerCap &  1.0000000 &  0.6666279 & -0.7760916 & -0.7855305\\\\\n",
       "\tliteracy &  0.6666279 &  1.0000000 & -0.8294281 & -0.7706087\\\\\n",
       "\tunder\\_slum & -0.7760916 & -0.8294281 &  1.0000000 &  0.8293973\\\\\n",
       "\tbelow\\_poverty & -0.7855305 & -0.7706087 &  0.8293973 &  1.0000000\\\\\n",
       "\\end{tabular}\n"
      ],
      "text/markdown": [
       "\n",
       "A matrix: 4 × 4 of type dbl\n",
       "\n",
       "| <!--/--> | gdpPerCap | literacy | under_slum | below_poverty |\n",
       "|---|---|---|---|---|\n",
       "| gdpPerCap |  1.0000000 |  0.6666279 | -0.7760916 | -0.7855305 |\n",
       "| literacy |  0.6666279 |  1.0000000 | -0.8294281 | -0.7706087 |\n",
       "| under_slum | -0.7760916 | -0.8294281 |  1.0000000 |  0.8293973 |\n",
       "| below_poverty | -0.7855305 | -0.7706087 |  0.8293973 |  1.0000000 |\n",
       "\n"
      ],
      "text/plain": [
       "              gdpPerCap  literacy   under_slum below_poverty\n",
       "gdpPerCap      1.0000000  0.6666279 -0.7760916 -0.7855305   \n",
       "literacy       0.6666279  1.0000000 -0.8294281 -0.7706087   \n",
       "under_slum    -0.7760916 -0.8294281  1.0000000  0.8293973   \n",
       "below_poverty -0.7855305 -0.7706087  0.8293973  1.0000000   "
      ]
     },
     "metadata": {},
     "output_type": "display_data"
    }
   ],
   "source": [
    "calc_cor(4,5,7,8)"
   ]
  },
  {
   "cell_type": "markdown",
   "metadata": {},
   "source": [
    "* When analyzing only `literacy`,`under_slum` and `below_poverty` separately we have 61 data points and 3 explanatory variables.\n",
    "* `under_slum` has very high correlation with `literacy`. This might lead to collinearity. Now we will develop a linear model based on only these three variable to check which variable can cause collinearity so that we can eliminate that variable."
   ]
  },
  {
   "cell_type": "code",
   "execution_count": 32,
   "metadata": {},
   "outputs": [
    {
     "data": {
      "text/html": [
       "<table>\n",
       "<caption>A tibble: 4 × 5</caption>\n",
       "<thead>\n",
       "\t<tr><th scope=col>term</th><th scope=col>estimate</th><th scope=col>std.error</th><th scope=col>statistic</th><th scope=col>p.value</th></tr>\n",
       "\t<tr><th scope=col>&lt;chr&gt;</th><th scope=col>&lt;dbl&gt;</th><th scope=col>&lt;dbl&gt;</th><th scope=col>&lt;dbl&gt;</th><th scope=col>&lt;dbl&gt;</th></tr>\n",
       "</thead>\n",
       "<tbody>\n",
       "\t<tr><td>(Intercept)  </td><td>10019.71844</td><td>3109.50454</td><td> 3.2222878</td><td>0.002104083</td></tr>\n",
       "\t<tr><td>literacy     </td><td>  -10.22192</td><td>  28.68082</td><td>-0.3564026</td><td>0.722855006</td></tr>\n",
       "\t<tr><td>under_slum   </td><td>  -79.77100</td><td>  30.00933</td><td>-2.6582063</td><td>0.010177199</td></tr>\n",
       "\t<tr><td>below_poverty</td><td>  -57.07975</td><td>  17.29669</td><td>-3.3000391</td><td>0.001670675</td></tr>\n",
       "</tbody>\n",
       "</table>\n"
      ],
      "text/latex": [
       "A tibble: 4 × 5\n",
       "\\begin{tabular}{r|lllll}\n",
       " term & estimate & std.error & statistic & p.value\\\\\n",
       " <chr> & <dbl> & <dbl> & <dbl> & <dbl>\\\\\n",
       "\\hline\n",
       "\t (Intercept)   & 10019.71844 & 3109.50454 &  3.2222878 & 0.002104083\\\\\n",
       "\t literacy      &   -10.22192 &   28.68082 & -0.3564026 & 0.722855006\\\\\n",
       "\t under\\_slum    &   -79.77100 &   30.00933 & -2.6582063 & 0.010177199\\\\\n",
       "\t below\\_poverty &   -57.07975 &   17.29669 & -3.3000391 & 0.001670675\\\\\n",
       "\\end{tabular}\n"
      ],
      "text/markdown": [
       "\n",
       "A tibble: 4 × 5\n",
       "\n",
       "| term &lt;chr&gt; | estimate &lt;dbl&gt; | std.error &lt;dbl&gt; | statistic &lt;dbl&gt; | p.value &lt;dbl&gt; |\n",
       "|---|---|---|---|---|\n",
       "| (Intercept)   | 10019.71844 | 3109.50454 |  3.2222878 | 0.002104083 |\n",
       "| literacy      |   -10.22192 |   28.68082 | -0.3564026 | 0.722855006 |\n",
       "| under_slum    |   -79.77100 |   30.00933 | -2.6582063 | 0.010177199 |\n",
       "| below_poverty |   -57.07975 |   17.29669 | -3.3000391 | 0.001670675 |\n",
       "\n"
      ],
      "text/plain": [
       "  term          estimate    std.error  statistic  p.value    \n",
       "1 (Intercept)   10019.71844 3109.50454  3.2222878 0.002104083\n",
       "2 literacy        -10.22192   28.68082 -0.3564026 0.722855006\n",
       "3 under_slum      -79.77100   30.00933 -2.6582063 0.010177199\n",
       "4 below_poverty   -57.07975   17.29669 -3.3000391 0.001670675"
      ]
     },
     "metadata": {},
     "output_type": "display_data"
    }
   ],
   "source": [
    "data_lub <- all_data[c(4,5,7,8)] %>% drop_na()\n",
    "model_lub <- lm(gdpPerCap~.,data_lub)\n",
    "tidy(model_lub)"
   ]
  },
  {
   "cell_type": "markdown",
   "metadata": {},
   "source": [
    "* The correlation of `literacy` with `gdpPerCap` is positive but the coefficient of `literacy` is coming as negative. Also the p value is large as compared to zero.\n",
    "* This indicates that there is collinearity.\n",
    "* Now we will check the VIF score and drop the column contributing to collinearity."
   ]
  },
  {
   "cell_type": "code",
   "execution_count": 33,
   "metadata": {},
   "outputs": [
    {
     "data": {
      "text/html": [
       "<dl class=dl-horizontal>\n",
       "\t<dt>literacy</dt>\n",
       "\t\t<dd>3.44656364923045</dd>\n",
       "\t<dt>under_slum</dt>\n",
       "\t\t<dd>4.48530424591407</dd>\n",
       "\t<dt>below_poverty</dt>\n",
       "\t\t<dd>3.44599880849525</dd>\n",
       "</dl>\n"
      ],
      "text/latex": [
       "\\begin{description*}\n",
       "\\item[literacy] 3.44656364923045\n",
       "\\item[under\\textbackslash{}\\_slum] 4.48530424591407\n",
       "\\item[below\\textbackslash{}\\_poverty] 3.44599880849525\n",
       "\\end{description*}\n"
      ],
      "text/markdown": [
       "literacy\n",
       ":   3.44656364923045under_slum\n",
       ":   4.48530424591407below_poverty\n",
       ":   3.44599880849525\n",
       "\n"
      ],
      "text/plain": [
       "     literacy    under_slum below_poverty \n",
       "     3.446564      4.485304      3.445999 "
      ]
     },
     "metadata": {},
     "output_type": "display_data"
    }
   ],
   "source": [
    "car::vif(model_lub)"
   ]
  },
  {
   "cell_type": "markdown",
   "metadata": {},
   "source": [
    "The VIF of `under_slum` is maximum among the three explanatory variable. So we will drop this variable from our model."
   ]
  },
  {
   "cell_type": "code",
   "execution_count": 34,
   "metadata": {},
   "outputs": [
    {
     "data": {
      "text/html": [
       "<table>\n",
       "<caption>A tibble: 3 × 5</caption>\n",
       "<thead>\n",
       "\t<tr><th scope=col>term</th><th scope=col>estimate</th><th scope=col>std.error</th><th scope=col>statistic</th><th scope=col>p.value</th></tr>\n",
       "\t<tr><th scope=col>&lt;chr&gt;</th><th scope=col>&lt;dbl&gt;</th><th scope=col>&lt;dbl&gt;</th><th scope=col>&lt;dbl&gt;</th><th scope=col>&lt;dbl&gt;</th></tr>\n",
       "</thead>\n",
       "<tbody>\n",
       "\t<tr><td>(Intercept)  </td><td>5066.05725</td><td>2435.48889</td><td> 2.080099</td><td>3.807684e-02</td></tr>\n",
       "\t<tr><td>literacy     </td><td>  56.44996</td><td>  24.66407</td><td> 2.288752</td><td>2.255223e-02</td></tr>\n",
       "\t<tr><td>below_poverty</td><td>-116.97599</td><td>  14.77064</td><td>-7.919496</td><td>1.851383e-14</td></tr>\n",
       "</tbody>\n",
       "</table>\n"
      ],
      "text/latex": [
       "A tibble: 3 × 5\n",
       "\\begin{tabular}{r|lllll}\n",
       " term & estimate & std.error & statistic & p.value\\\\\n",
       " <chr> & <dbl> & <dbl> & <dbl> & <dbl>\\\\\n",
       "\\hline\n",
       "\t (Intercept)   & 5066.05725 & 2435.48889 &  2.080099 & 3.807684e-02\\\\\n",
       "\t literacy      &   56.44996 &   24.66407 &  2.288752 & 2.255223e-02\\\\\n",
       "\t below\\_poverty & -116.97599 &   14.77064 & -7.919496 & 1.851383e-14\\\\\n",
       "\\end{tabular}\n"
      ],
      "text/markdown": [
       "\n",
       "A tibble: 3 × 5\n",
       "\n",
       "| term &lt;chr&gt; | estimate &lt;dbl&gt; | std.error &lt;dbl&gt; | statistic &lt;dbl&gt; | p.value &lt;dbl&gt; |\n",
       "|---|---|---|---|---|\n",
       "| (Intercept)   | 5066.05725 | 2435.48889 |  2.080099 | 3.807684e-02 |\n",
       "| literacy      |   56.44996 |   24.66407 |  2.288752 | 2.255223e-02 |\n",
       "| below_poverty | -116.97599 |   14.77064 | -7.919496 | 1.851383e-14 |\n",
       "\n"
      ],
      "text/plain": [
       "  term          estimate   std.error  statistic p.value     \n",
       "1 (Intercept)   5066.05725 2435.48889  2.080099 3.807684e-02\n",
       "2 literacy        56.44996   24.66407  2.288752 2.255223e-02\n",
       "3 below_poverty -116.97599   14.77064 -7.919496 1.851383e-14"
      ]
     },
     "metadata": {},
     "output_type": "display_data"
    }
   ],
   "source": [
    "data_lb <- all_data[c(4,5,8)] %>% drop_na()\n",
    "model_lb <- lm(gdpPerCap~.,data_lb)\n",
    "tidy(model_lb)"
   ]
  },
  {
   "cell_type": "code",
   "execution_count": 35,
   "metadata": {},
   "outputs": [
    {
     "data": {
      "text/html": [
       "<dl class=dl-horizontal>\n",
       "\t<dt>literacy</dt>\n",
       "\t\t<dd>2.77201064604645</dd>\n",
       "\t<dt>below_poverty</dt>\n",
       "\t\t<dd>2.77201064604645</dd>\n",
       "</dl>\n"
      ],
      "text/latex": [
       "\\begin{description*}\n",
       "\\item[literacy] 2.77201064604645\n",
       "\\item[below\\textbackslash{}\\_poverty] 2.77201064604645\n",
       "\\end{description*}\n"
      ],
      "text/markdown": [
       "literacy\n",
       ":   2.77201064604645below_poverty\n",
       ":   2.77201064604645\n",
       "\n"
      ],
      "text/plain": [
       "     literacy below_poverty \n",
       "     2.772011      2.772011 "
      ]
     },
     "metadata": {},
     "output_type": "display_data"
    }
   ],
   "source": [
    "car::vif(model_lb)"
   ]
  },
  {
   "cell_type": "markdown",
   "metadata": {},
   "source": [
    "Now we can see the coefficient of `literacy` has become positive and it has become significant at the significance level of 5%. Also the VIF value is less."
   ]
  },
  {
   "cell_type": "code",
   "execution_count": 36,
   "metadata": {},
   "outputs": [
    {
     "data": {
      "text/html": [
       "<table>\n",
       "<caption>A data.frame: 6 × 7</caption>\n",
       "<thead>\n",
       "\t<tr><th scope=col>gdpPerCap</th><th scope=col>literacy</th><th scope=col>below_poverty</th><th scope=col>Corruption</th><th scope=col>GovEff</th><th scope=col>PolSta</th><th scope=col>adult_mortality</th></tr>\n",
       "\t<tr><th scope=col>&lt;dbl&gt;</th><th scope=col>&lt;dbl&gt;</th><th scope=col>&lt;dbl&gt;</th><th scope=col>&lt;dbl&gt;</th><th scope=col>&lt;dbl&gt;</th><th scope=col>&lt;dbl&gt;</th><th scope=col>&lt;dbl&gt;</th></tr>\n",
       "</thead>\n",
       "<tbody>\n",
       "\t<tr><td>  59.77319</td><td>NA</td><td>NA</td><td>NA</td><td>NA</td><td>NA</td><td>NA</td></tr>\n",
       "\t<tr><td>1807.78571</td><td>NA</td><td>NA</td><td>NA</td><td>NA</td><td>NA</td><td>NA</td></tr>\n",
       "\t<tr><td> 935.46043</td><td>NA</td><td>NA</td><td>NA</td><td>NA</td><td>NA</td><td>NA</td></tr>\n",
       "\t<tr><td>  70.05173</td><td>NA</td><td>NA</td><td>NA</td><td>NA</td><td>NA</td><td>NA</td></tr>\n",
       "\t<tr><td>1273.69166</td><td>NA</td><td>NA</td><td>NA</td><td>NA</td><td>NA</td><td>NA</td></tr>\n",
       "\t<tr><td>  93.02251</td><td>NA</td><td>NA</td><td>NA</td><td>NA</td><td>NA</td><td>NA</td></tr>\n",
       "</tbody>\n",
       "</table>\n"
      ],
      "text/latex": [
       "A data.frame: 6 × 7\n",
       "\\begin{tabular}{r|lllllll}\n",
       " gdpPerCap & literacy & below\\_poverty & Corruption & GovEff & PolSta & adult\\_mortality\\\\\n",
       " <dbl> & <dbl> & <dbl> & <dbl> & <dbl> & <dbl> & <dbl>\\\\\n",
       "\\hline\n",
       "\t   59.77319 & NA & NA & NA & NA & NA & NA\\\\\n",
       "\t 1807.78571 & NA & NA & NA & NA & NA & NA\\\\\n",
       "\t  935.46043 & NA & NA & NA & NA & NA & NA\\\\\n",
       "\t   70.05173 & NA & NA & NA & NA & NA & NA\\\\\n",
       "\t 1273.69166 & NA & NA & NA & NA & NA & NA\\\\\n",
       "\t   93.02251 & NA & NA & NA & NA & NA & NA\\\\\n",
       "\\end{tabular}\n"
      ],
      "text/markdown": [
       "\n",
       "A data.frame: 6 × 7\n",
       "\n",
       "| gdpPerCap &lt;dbl&gt; | literacy &lt;dbl&gt; | below_poverty &lt;dbl&gt; | Corruption &lt;dbl&gt; | GovEff &lt;dbl&gt; | PolSta &lt;dbl&gt; | adult_mortality &lt;dbl&gt; |\n",
       "|---|---|---|---|---|---|---|\n",
       "|   59.77319 | NA | NA | NA | NA | NA | NA |\n",
       "| 1807.78571 | NA | NA | NA | NA | NA | NA |\n",
       "|  935.46043 | NA | NA | NA | NA | NA | NA |\n",
       "|   70.05173 | NA | NA | NA | NA | NA | NA |\n",
       "| 1273.69166 | NA | NA | NA | NA | NA | NA |\n",
       "|   93.02251 | NA | NA | NA | NA | NA | NA |\n",
       "\n"
      ],
      "text/plain": [
       "  gdpPerCap  literacy below_poverty Corruption GovEff PolSta adult_mortality\n",
       "1   59.77319 NA       NA            NA         NA     NA     NA             \n",
       "2 1807.78571 NA       NA            NA         NA     NA     NA             \n",
       "3  935.46043 NA       NA            NA         NA     NA     NA             \n",
       "4   70.05173 NA       NA            NA         NA     NA     NA             \n",
       "5 1273.69166 NA       NA            NA         NA     NA     NA             \n",
       "6   93.02251 NA       NA            NA         NA     NA     NA             "
      ]
     },
     "metadata": {},
     "output_type": "display_data"
    }
   ],
   "source": [
    "all_data[c(4,5,8,11,12,13,14)] %>% head()"
   ]
  },
  {
   "cell_type": "code",
   "execution_count": 37,
   "metadata": {},
   "outputs": [
    {
     "name": "stdout",
     "output_type": "stream",
     "text": [
      "[1] \"no. of rows =  223\"\n"
     ]
    },
    {
     "data": {
      "text/html": [
       "<table>\n",
       "<caption>A matrix: 7 × 7 of type dbl</caption>\n",
       "<thead>\n",
       "\t<tr><th></th><th scope=col>gdpPerCap</th><th scope=col>literacy</th><th scope=col>below_poverty</th><th scope=col>Corruption</th><th scope=col>GovEff</th><th scope=col>PolSta</th><th scope=col>adult_mortality</th></tr>\n",
       "</thead>\n",
       "<tbody>\n",
       "\t<tr><th scope=row>gdpPerCap</th><td> 1.0000000</td><td> 0.4491850</td><td>-0.5663066</td><td> 0.6753172</td><td> 0.7579853</td><td> 0.3908574</td><td>-0.5527659</td></tr>\n",
       "\t<tr><th scope=row>literacy</th><td> 0.4491850</td><td> 1.0000000</td><td>-0.7820910</td><td> 0.3107160</td><td> 0.4491640</td><td> 0.2819792</td><td>-0.5658814</td></tr>\n",
       "\t<tr><th scope=row>below_poverty</th><td>-0.5663066</td><td>-0.7820910</td><td> 1.0000000</td><td>-0.4326988</td><td>-0.5552846</td><td>-0.3937494</td><td> 0.7287900</td></tr>\n",
       "\t<tr><th scope=row>Corruption</th><td> 0.6753172</td><td> 0.3107160</td><td>-0.4326988</td><td> 1.0000000</td><td> 0.8500096</td><td> 0.5217687</td><td>-0.4346788</td></tr>\n",
       "\t<tr><th scope=row>GovEff</th><td> 0.7579853</td><td> 0.4491640</td><td>-0.5552846</td><td> 0.8500096</td><td> 1.0000000</td><td> 0.4192170</td><td>-0.5184319</td></tr>\n",
       "\t<tr><th scope=row>PolSta</th><td> 0.3908574</td><td> 0.2819792</td><td>-0.3937494</td><td> 0.5217687</td><td> 0.4192170</td><td> 1.0000000</td><td>-0.1856831</td></tr>\n",
       "\t<tr><th scope=row>adult_mortality</th><td>-0.5527659</td><td>-0.5658814</td><td> 0.7287900</td><td>-0.4346788</td><td>-0.5184319</td><td>-0.1856831</td><td> 1.0000000</td></tr>\n",
       "</tbody>\n",
       "</table>\n"
      ],
      "text/latex": [
       "A matrix: 7 × 7 of type dbl\n",
       "\\begin{tabular}{r|lllllll}\n",
       "  & gdpPerCap & literacy & below\\_poverty & Corruption & GovEff & PolSta & adult\\_mortality\\\\\n",
       "\\hline\n",
       "\tgdpPerCap &  1.0000000 &  0.4491850 & -0.5663066 &  0.6753172 &  0.7579853 &  0.3908574 & -0.5527659\\\\\n",
       "\tliteracy &  0.4491850 &  1.0000000 & -0.7820910 &  0.3107160 &  0.4491640 &  0.2819792 & -0.5658814\\\\\n",
       "\tbelow\\_poverty & -0.5663066 & -0.7820910 &  1.0000000 & -0.4326988 & -0.5552846 & -0.3937494 &  0.7287900\\\\\n",
       "\tCorruption &  0.6753172 &  0.3107160 & -0.4326988 &  1.0000000 &  0.8500096 &  0.5217687 & -0.4346788\\\\\n",
       "\tGovEff &  0.7579853 &  0.4491640 & -0.5552846 &  0.8500096 &  1.0000000 &  0.4192170 & -0.5184319\\\\\n",
       "\tPolSta &  0.3908574 &  0.2819792 & -0.3937494 &  0.5217687 &  0.4192170 &  1.0000000 & -0.1856831\\\\\n",
       "\tadult\\_mortality & -0.5527659 & -0.5658814 &  0.7287900 & -0.4346788 & -0.5184319 & -0.1856831 &  1.0000000\\\\\n",
       "\\end{tabular}\n"
      ],
      "text/markdown": [
       "\n",
       "A matrix: 7 × 7 of type dbl\n",
       "\n",
       "| <!--/--> | gdpPerCap | literacy | below_poverty | Corruption | GovEff | PolSta | adult_mortality |\n",
       "|---|---|---|---|---|---|---|---|\n",
       "| gdpPerCap |  1.0000000 |  0.4491850 | -0.5663066 |  0.6753172 |  0.7579853 |  0.3908574 | -0.5527659 |\n",
       "| literacy |  0.4491850 |  1.0000000 | -0.7820910 |  0.3107160 |  0.4491640 |  0.2819792 | -0.5658814 |\n",
       "| below_poverty | -0.5663066 | -0.7820910 |  1.0000000 | -0.4326988 | -0.5552846 | -0.3937494 |  0.7287900 |\n",
       "| Corruption |  0.6753172 |  0.3107160 | -0.4326988 |  1.0000000 |  0.8500096 |  0.5217687 | -0.4346788 |\n",
       "| GovEff |  0.7579853 |  0.4491640 | -0.5552846 |  0.8500096 |  1.0000000 |  0.4192170 | -0.5184319 |\n",
       "| PolSta |  0.3908574 |  0.2819792 | -0.3937494 |  0.5217687 |  0.4192170 |  1.0000000 | -0.1856831 |\n",
       "| adult_mortality | -0.5527659 | -0.5658814 |  0.7287900 | -0.4346788 | -0.5184319 | -0.1856831 |  1.0000000 |\n",
       "\n"
      ],
      "text/plain": [
       "                gdpPerCap  literacy   below_poverty Corruption GovEff    \n",
       "gdpPerCap        1.0000000  0.4491850 -0.5663066     0.6753172  0.7579853\n",
       "literacy         0.4491850  1.0000000 -0.7820910     0.3107160  0.4491640\n",
       "below_poverty   -0.5663066 -0.7820910  1.0000000    -0.4326988 -0.5552846\n",
       "Corruption       0.6753172  0.3107160 -0.4326988     1.0000000  0.8500096\n",
       "GovEff           0.7579853  0.4491640 -0.5552846     0.8500096  1.0000000\n",
       "PolSta           0.3908574  0.2819792 -0.3937494     0.5217687  0.4192170\n",
       "adult_mortality -0.5527659 -0.5658814  0.7287900    -0.4346788 -0.5184319\n",
       "                PolSta     adult_mortality\n",
       "gdpPerCap        0.3908574 -0.5527659     \n",
       "literacy         0.2819792 -0.5658814     \n",
       "below_poverty   -0.3937494  0.7287900     \n",
       "Corruption       0.5217687 -0.4346788     \n",
       "GovEff           0.4192170 -0.5184319     \n",
       "PolSta           1.0000000 -0.1856831     \n",
       "adult_mortality -0.1856831  1.0000000     "
      ]
     },
     "metadata": {},
     "output_type": "display_data"
    }
   ],
   "source": [
    "calc_cor(4,5,8,11,12,13,14)"
   ]
  },
  {
   "cell_type": "markdown",
   "metadata": {},
   "source": [
    "* In the correlation matrix we can see there is very high correlation between `GovEff` and `Corruption`. The correlation value is 0.85. This might lead to collinearity. So we will build a model using the rest 6 explanatory variables to check whether the model suffers from collinearity or not."
   ]
  },
  {
   "cell_type": "code",
   "execution_count": 38,
   "metadata": {},
   "outputs": [
    {
     "data": {
      "text/html": [
       "<table>\n",
       "<caption>A tibble: 7 × 5</caption>\n",
       "<thead>\n",
       "\t<tr><th scope=col>term</th><th scope=col>estimate</th><th scope=col>std.error</th><th scope=col>statistic</th><th scope=col>p.value</th></tr>\n",
       "\t<tr><th scope=col>&lt;chr&gt;</th><th scope=col>&lt;dbl&gt;</th><th scope=col>&lt;dbl&gt;</th><th scope=col>&lt;dbl&gt;</th><th scope=col>&lt;dbl&gt;</th></tr>\n",
       "</thead>\n",
       "<tbody>\n",
       "\t<tr><td>(Intercept)    </td><td>11724.790140</td><td>3663.005827</td><td> 3.200866</td><td>1.576562e-03</td></tr>\n",
       "\t<tr><td>literacy       </td><td>    4.830157</td><td>  36.581857</td><td> 0.132037</td><td>8.950780e-01</td></tr>\n",
       "\t<tr><td>below_poverty  </td><td>  -29.867834</td><td>  27.978194</td><td>-1.067540</td><td>2.869198e-01</td></tr>\n",
       "\t<tr><td>Corruption     </td><td> 1107.635056</td><td> 998.866482</td><td> 1.108892</td><td>2.687099e-01</td></tr>\n",
       "\t<tr><td>GovEff         </td><td> 6484.413571</td><td>1115.484104</td><td> 5.813094</td><td>2.183663e-08</td></tr>\n",
       "\t<tr><td>PolSta         </td><td>  584.890654</td><td> 548.159260</td><td> 1.067009</td><td>2.871591e-01</td></tr>\n",
       "\t<tr><td>adult_mortality</td><td>  -15.087502</td><td>   6.036822</td><td>-2.499246</td><td>1.319021e-02</td></tr>\n",
       "</tbody>\n",
       "</table>\n"
      ],
      "text/latex": [
       "A tibble: 7 × 5\n",
       "\\begin{tabular}{r|lllll}\n",
       " term & estimate & std.error & statistic & p.value\\\\\n",
       " <chr> & <dbl> & <dbl> & <dbl> & <dbl>\\\\\n",
       "\\hline\n",
       "\t (Intercept)     & 11724.790140 & 3663.005827 &  3.200866 & 1.576562e-03\\\\\n",
       "\t literacy        &     4.830157 &   36.581857 &  0.132037 & 8.950780e-01\\\\\n",
       "\t below\\_poverty   &   -29.867834 &   27.978194 & -1.067540 & 2.869198e-01\\\\\n",
       "\t Corruption      &  1107.635056 &  998.866482 &  1.108892 & 2.687099e-01\\\\\n",
       "\t GovEff          &  6484.413571 & 1115.484104 &  5.813094 & 2.183663e-08\\\\\n",
       "\t PolSta          &   584.890654 &  548.159260 &  1.067009 & 2.871591e-01\\\\\n",
       "\t adult\\_mortality &   -15.087502 &    6.036822 & -2.499246 & 1.319021e-02\\\\\n",
       "\\end{tabular}\n"
      ],
      "text/markdown": [
       "\n",
       "A tibble: 7 × 5\n",
       "\n",
       "| term &lt;chr&gt; | estimate &lt;dbl&gt; | std.error &lt;dbl&gt; | statistic &lt;dbl&gt; | p.value &lt;dbl&gt; |\n",
       "|---|---|---|---|---|\n",
       "| (Intercept)     | 11724.790140 | 3663.005827 |  3.200866 | 1.576562e-03 |\n",
       "| literacy        |     4.830157 |   36.581857 |  0.132037 | 8.950780e-01 |\n",
       "| below_poverty   |   -29.867834 |   27.978194 | -1.067540 | 2.869198e-01 |\n",
       "| Corruption      |  1107.635056 |  998.866482 |  1.108892 | 2.687099e-01 |\n",
       "| GovEff          |  6484.413571 | 1115.484104 |  5.813094 | 2.183663e-08 |\n",
       "| PolSta          |   584.890654 |  548.159260 |  1.067009 | 2.871591e-01 |\n",
       "| adult_mortality |   -15.087502 |    6.036822 | -2.499246 | 1.319021e-02 |\n",
       "\n"
      ],
      "text/plain": [
       "  term            estimate     std.error   statistic p.value     \n",
       "1 (Intercept)     11724.790140 3663.005827  3.200866 1.576562e-03\n",
       "2 literacy            4.830157   36.581857  0.132037 8.950780e-01\n",
       "3 below_poverty     -29.867834   27.978194 -1.067540 2.869198e-01\n",
       "4 Corruption       1107.635056  998.866482  1.108892 2.687099e-01\n",
       "5 GovEff           6484.413571 1115.484104  5.813094 2.183663e-08\n",
       "6 PolSta            584.890654  548.159260  1.067009 2.871591e-01\n",
       "7 adult_mortality   -15.087502    6.036822 -2.499246 1.319021e-02"
      ]
     },
     "metadata": {},
     "output_type": "display_data"
    }
   ],
   "source": [
    "model_lbcgpa <- lm(all_data[c(4,5,8,11,12,13,14)] %>% drop_na())\n",
    "tidy(model_lbcgpa)"
   ]
  },
  {
   "cell_type": "code",
   "execution_count": 39,
   "metadata": {},
   "outputs": [
    {
     "data": {
      "text/html": [
       "<dl class=dl-horizontal>\n",
       "\t<dt>literacy</dt>\n",
       "\t\t<dd>2.61861481580798</dd>\n",
       "\t<dt>below_poverty</dt>\n",
       "\t\t<dd>4.2954219035997</dd>\n",
       "\t<dt>Corruption</dt>\n",
       "\t\t<dd>4.38298165627486</dd>\n",
       "\t<dt>GovEff</dt>\n",
       "\t\t<dd>4.44092976581096</dd>\n",
       "\t<dt>PolSta</dt>\n",
       "\t\t<dd>1.59166837577275</dd>\n",
       "\t<dt>adult_mortality</dt>\n",
       "\t\t<dd>2.39749616534702</dd>\n",
       "</dl>\n"
      ],
      "text/latex": [
       "\\begin{description*}\n",
       "\\item[literacy] 2.61861481580798\n",
       "\\item[below\\textbackslash{}\\_poverty] 4.2954219035997\n",
       "\\item[Corruption] 4.38298165627486\n",
       "\\item[GovEff] 4.44092976581096\n",
       "\\item[PolSta] 1.59166837577275\n",
       "\\item[adult\\textbackslash{}\\_mortality] 2.39749616534702\n",
       "\\end{description*}\n"
      ],
      "text/markdown": [
       "literacy\n",
       ":   2.61861481580798below_poverty\n",
       ":   4.2954219035997Corruption\n",
       ":   4.38298165627486GovEff\n",
       ":   4.44092976581096PolSta\n",
       ":   1.59166837577275adult_mortality\n",
       ":   2.39749616534702\n",
       "\n"
      ],
      "text/plain": [
       "       literacy   below_poverty      Corruption          GovEff          PolSta \n",
       "       2.618615        4.295422        4.382982        4.440930        1.591668 \n",
       "adult_mortality \n",
       "       2.397496 "
      ]
     },
     "metadata": {},
     "output_type": "display_data"
    }
   ],
   "source": [
    "car::vif(model_lbcgpa)"
   ]
  },
  {
   "cell_type": "code",
   "execution_count": 40,
   "metadata": {},
   "outputs": [
    {
     "data": {
      "text/html": [
       "<table>\n",
       "<caption>A tibble: 1 × 11</caption>\n",
       "<thead>\n",
       "\t<tr><th scope=col>r.squared</th><th scope=col>adj.r.squared</th><th scope=col>sigma</th><th scope=col>statistic</th><th scope=col>p.value</th><th scope=col>df</th><th scope=col>logLik</th><th scope=col>AIC</th><th scope=col>BIC</th><th scope=col>deviance</th><th scope=col>df.residual</th></tr>\n",
       "\t<tr><th scope=col>&lt;dbl&gt;</th><th scope=col>&lt;dbl&gt;</th><th scope=col>&lt;dbl&gt;</th><th scope=col>&lt;dbl&gt;</th><th scope=col>&lt;dbl&gt;</th><th scope=col>&lt;int&gt;</th><th scope=col>&lt;dbl&gt;</th><th scope=col>&lt;dbl&gt;</th><th scope=col>&lt;dbl&gt;</th><th scope=col>&lt;dbl&gt;</th><th scope=col>&lt;int&gt;</th></tr>\n",
       "</thead>\n",
       "<tbody>\n",
       "\t<tr><td>0.6219725</td><td>0.6114718</td><td>4880.627</td><td>59.23117</td><td>5.529667e-43</td><td>7</td><td>-2206.813</td><td>4429.625</td><td>4456.883</td><td>5145232833</td><td>216</td></tr>\n",
       "</tbody>\n",
       "</table>\n"
      ],
      "text/latex": [
       "A tibble: 1 × 11\n",
       "\\begin{tabular}{r|lllllllllll}\n",
       " r.squared & adj.r.squared & sigma & statistic & p.value & df & logLik & AIC & BIC & deviance & df.residual\\\\\n",
       " <dbl> & <dbl> & <dbl> & <dbl> & <dbl> & <int> & <dbl> & <dbl> & <dbl> & <dbl> & <int>\\\\\n",
       "\\hline\n",
       "\t 0.6219725 & 0.6114718 & 4880.627 & 59.23117 & 5.529667e-43 & 7 & -2206.813 & 4429.625 & 4456.883 & 5145232833 & 216\\\\\n",
       "\\end{tabular}\n"
      ],
      "text/markdown": [
       "\n",
       "A tibble: 1 × 11\n",
       "\n",
       "| r.squared &lt;dbl&gt; | adj.r.squared &lt;dbl&gt; | sigma &lt;dbl&gt; | statistic &lt;dbl&gt; | p.value &lt;dbl&gt; | df &lt;int&gt; | logLik &lt;dbl&gt; | AIC &lt;dbl&gt; | BIC &lt;dbl&gt; | deviance &lt;dbl&gt; | df.residual &lt;int&gt; |\n",
       "|---|---|---|---|---|---|---|---|---|---|---|\n",
       "| 0.6219725 | 0.6114718 | 4880.627 | 59.23117 | 5.529667e-43 | 7 | -2206.813 | 4429.625 | 4456.883 | 5145232833 | 216 |\n",
       "\n"
      ],
      "text/plain": [
       "  r.squared adj.r.squared sigma    statistic p.value      df logLik    AIC     \n",
       "1 0.6219725 0.6114718     4880.627 59.23117  5.529667e-43 7  -2206.813 4429.625\n",
       "  BIC      deviance   df.residual\n",
       "1 4456.883 5145232833 216        "
      ]
     },
     "metadata": {},
     "output_type": "display_data"
    }
   ],
   "source": [
    "glance(model_lbcgpa)"
   ]
  },
  {
   "cell_type": "markdown",
   "metadata": {},
   "source": [
    "Here we can see that except `GovEff` and `adult_mortality` all estimates are not significant at 5% significance level. As expected we can see that `Corruption` here has very high VIF. In fact both `Corruption` and `GovEff` have similar VIF. But we will drop `Corruption` as `GovEff` has higher correlation with `gdpPerCap` as compared to `Corruption`. Also the p value for `GovEff` is the smallest in the above model."
   ]
  },
  {
   "cell_type": "code",
   "execution_count": 41,
   "metadata": {},
   "outputs": [
    {
     "data": {
      "text/html": [
       "<table>\n",
       "<caption>A tibble: 6 × 5</caption>\n",
       "<thead>\n",
       "\t<tr><th scope=col>term</th><th scope=col>estimate</th><th scope=col>std.error</th><th scope=col>statistic</th><th scope=col>p.value</th></tr>\n",
       "\t<tr><th scope=col>&lt;chr&gt;</th><th scope=col>&lt;dbl&gt;</th><th scope=col>&lt;dbl&gt;</th><th scope=col>&lt;dbl&gt;</th><th scope=col>&lt;dbl&gt;</th></tr>\n",
       "</thead>\n",
       "<tbody>\n",
       "\t<tr><td>(Intercept)    </td><td>12142.3147276</td><td>3645.530210</td><td> 3.3307404</td><td>1.017876e-03</td></tr>\n",
       "\t<tr><td>literacy       </td><td>    0.3830039</td><td>  36.380596</td><td> 0.0105277</td><td>9.916099e-01</td></tr>\n",
       "\t<tr><td>below_poverty  </td><td>  -26.1608017</td><td>  27.792449</td><td>-0.9412917</td><td>3.476021e-01</td></tr>\n",
       "\t<tr><td>GovEff         </td><td> 7462.6085081</td><td> 683.104650</td><td>10.9245465</td><td>2.015003e-22</td></tr>\n",
       "\t<tr><td>PolSta         </td><td>  824.6889249</td><td> 503.967122</td><td> 1.6363943</td><td>1.032066e-01</td></tr>\n",
       "\t<tr><td>adult_mortality</td><td>  -16.1013228</td><td>   5.970345</td><td>-2.6968832</td><td>7.548710e-03</td></tr>\n",
       "</tbody>\n",
       "</table>\n"
      ],
      "text/latex": [
       "A tibble: 6 × 5\n",
       "\\begin{tabular}{r|lllll}\n",
       " term & estimate & std.error & statistic & p.value\\\\\n",
       " <chr> & <dbl> & <dbl> & <dbl> & <dbl>\\\\\n",
       "\\hline\n",
       "\t (Intercept)     & 12142.3147276 & 3645.530210 &  3.3307404 & 1.017876e-03\\\\\n",
       "\t literacy        &     0.3830039 &   36.380596 &  0.0105277 & 9.916099e-01\\\\\n",
       "\t below\\_poverty   &   -26.1608017 &   27.792449 & -0.9412917 & 3.476021e-01\\\\\n",
       "\t GovEff          &  7462.6085081 &  683.104650 & 10.9245465 & 2.015003e-22\\\\\n",
       "\t PolSta          &   824.6889249 &  503.967122 &  1.6363943 & 1.032066e-01\\\\\n",
       "\t adult\\_mortality &   -16.1013228 &    5.970345 & -2.6968832 & 7.548710e-03\\\\\n",
       "\\end{tabular}\n"
      ],
      "text/markdown": [
       "\n",
       "A tibble: 6 × 5\n",
       "\n",
       "| term &lt;chr&gt; | estimate &lt;dbl&gt; | std.error &lt;dbl&gt; | statistic &lt;dbl&gt; | p.value &lt;dbl&gt; |\n",
       "|---|---|---|---|---|\n",
       "| (Intercept)     | 12142.3147276 | 3645.530210 |  3.3307404 | 1.017876e-03 |\n",
       "| literacy        |     0.3830039 |   36.380596 |  0.0105277 | 9.916099e-01 |\n",
       "| below_poverty   |   -26.1608017 |   27.792449 | -0.9412917 | 3.476021e-01 |\n",
       "| GovEff          |  7462.6085081 |  683.104650 | 10.9245465 | 2.015003e-22 |\n",
       "| PolSta          |   824.6889249 |  503.967122 |  1.6363943 | 1.032066e-01 |\n",
       "| adult_mortality |   -16.1013228 |    5.970345 | -2.6968832 | 7.548710e-03 |\n",
       "\n"
      ],
      "text/plain": [
       "  term            estimate      std.error   statistic  p.value     \n",
       "1 (Intercept)     12142.3147276 3645.530210  3.3307404 1.017876e-03\n",
       "2 literacy            0.3830039   36.380596  0.0105277 9.916099e-01\n",
       "3 below_poverty     -26.1608017   27.792449 -0.9412917 3.476021e-01\n",
       "4 GovEff           7462.6085081  683.104650 10.9245465 2.015003e-22\n",
       "5 PolSta            824.6889249  503.967122  1.6363943 1.032066e-01\n",
       "6 adult_mortality   -16.1013228    5.970345 -2.6968832 7.548710e-03"
      ]
     },
     "metadata": {},
     "output_type": "display_data"
    }
   ],
   "source": [
    "model_lbgpa <- lm(all_data[c(4,5,8,12,13,14)] %>% drop_na())\n",
    "tidy(model_lbgpa)"
   ]
  },
  {
   "cell_type": "code",
   "execution_count": 42,
   "metadata": {},
   "outputs": [
    {
     "name": "stdout",
     "output_type": "stream",
     "text": [
      "[1] \"no. of rows =  223\"\n"
     ]
    },
    {
     "data": {
      "text/html": [
       "<table>\n",
       "<caption>A matrix: 6 × 6 of type dbl</caption>\n",
       "<thead>\n",
       "\t<tr><th></th><th scope=col>gdpPerCap</th><th scope=col>literacy</th><th scope=col>below_poverty</th><th scope=col>GovEff</th><th scope=col>PolSta</th><th scope=col>adult_mortality</th></tr>\n",
       "</thead>\n",
       "<tbody>\n",
       "\t<tr><th scope=row>gdpPerCap</th><td> 1.0000000</td><td> 0.4491850</td><td>-0.5663066</td><td> 0.7579853</td><td> 0.3908574</td><td>-0.5527659</td></tr>\n",
       "\t<tr><th scope=row>literacy</th><td> 0.4491850</td><td> 1.0000000</td><td>-0.7820910</td><td> 0.4491640</td><td> 0.2819792</td><td>-0.5658814</td></tr>\n",
       "\t<tr><th scope=row>below_poverty</th><td>-0.5663066</td><td>-0.7820910</td><td> 1.0000000</td><td>-0.5552846</td><td>-0.3937494</td><td> 0.7287900</td></tr>\n",
       "\t<tr><th scope=row>GovEff</th><td> 0.7579853</td><td> 0.4491640</td><td>-0.5552846</td><td> 1.0000000</td><td> 0.4192170</td><td>-0.5184319</td></tr>\n",
       "\t<tr><th scope=row>PolSta</th><td> 0.3908574</td><td> 0.2819792</td><td>-0.3937494</td><td> 0.4192170</td><td> 1.0000000</td><td>-0.1856831</td></tr>\n",
       "\t<tr><th scope=row>adult_mortality</th><td>-0.5527659</td><td>-0.5658814</td><td> 0.7287900</td><td>-0.5184319</td><td>-0.1856831</td><td> 1.0000000</td></tr>\n",
       "</tbody>\n",
       "</table>\n"
      ],
      "text/latex": [
       "A matrix: 6 × 6 of type dbl\n",
       "\\begin{tabular}{r|llllll}\n",
       "  & gdpPerCap & literacy & below\\_poverty & GovEff & PolSta & adult\\_mortality\\\\\n",
       "\\hline\n",
       "\tgdpPerCap &  1.0000000 &  0.4491850 & -0.5663066 &  0.7579853 &  0.3908574 & -0.5527659\\\\\n",
       "\tliteracy &  0.4491850 &  1.0000000 & -0.7820910 &  0.4491640 &  0.2819792 & -0.5658814\\\\\n",
       "\tbelow\\_poverty & -0.5663066 & -0.7820910 &  1.0000000 & -0.5552846 & -0.3937494 &  0.7287900\\\\\n",
       "\tGovEff &  0.7579853 &  0.4491640 & -0.5552846 &  1.0000000 &  0.4192170 & -0.5184319\\\\\n",
       "\tPolSta &  0.3908574 &  0.2819792 & -0.3937494 &  0.4192170 &  1.0000000 & -0.1856831\\\\\n",
       "\tadult\\_mortality & -0.5527659 & -0.5658814 &  0.7287900 & -0.5184319 & -0.1856831 &  1.0000000\\\\\n",
       "\\end{tabular}\n"
      ],
      "text/markdown": [
       "\n",
       "A matrix: 6 × 6 of type dbl\n",
       "\n",
       "| <!--/--> | gdpPerCap | literacy | below_poverty | GovEff | PolSta | adult_mortality |\n",
       "|---|---|---|---|---|---|---|\n",
       "| gdpPerCap |  1.0000000 |  0.4491850 | -0.5663066 |  0.7579853 |  0.3908574 | -0.5527659 |\n",
       "| literacy |  0.4491850 |  1.0000000 | -0.7820910 |  0.4491640 |  0.2819792 | -0.5658814 |\n",
       "| below_poverty | -0.5663066 | -0.7820910 |  1.0000000 | -0.5552846 | -0.3937494 |  0.7287900 |\n",
       "| GovEff |  0.7579853 |  0.4491640 | -0.5552846 |  1.0000000 |  0.4192170 | -0.5184319 |\n",
       "| PolSta |  0.3908574 |  0.2819792 | -0.3937494 |  0.4192170 |  1.0000000 | -0.1856831 |\n",
       "| adult_mortality | -0.5527659 | -0.5658814 |  0.7287900 | -0.5184319 | -0.1856831 |  1.0000000 |\n",
       "\n"
      ],
      "text/plain": [
       "                gdpPerCap  literacy   below_poverty GovEff     PolSta    \n",
       "gdpPerCap        1.0000000  0.4491850 -0.5663066     0.7579853  0.3908574\n",
       "literacy         0.4491850  1.0000000 -0.7820910     0.4491640  0.2819792\n",
       "below_poverty   -0.5663066 -0.7820910  1.0000000    -0.5552846 -0.3937494\n",
       "GovEff           0.7579853  0.4491640 -0.5552846     1.0000000  0.4192170\n",
       "PolSta           0.3908574  0.2819792 -0.3937494     0.4192170  1.0000000\n",
       "adult_mortality -0.5527659 -0.5658814  0.7287900    -0.5184319 -0.1856831\n",
       "                adult_mortality\n",
       "gdpPerCap       -0.5527659     \n",
       "literacy        -0.5658814     \n",
       "below_poverty    0.7287900     \n",
       "GovEff          -0.5184319     \n",
       "PolSta          -0.1856831     \n",
       "adult_mortality  1.0000000     "
      ]
     },
     "metadata": {},
     "output_type": "display_data"
    }
   ],
   "source": [
    "calc_cor(4,5,8,12,13,14) "
   ]
  },
  {
   "cell_type": "code",
   "execution_count": 43,
   "metadata": {},
   "outputs": [
    {
     "data": {
      "text/html": [
       "<dl class=dl-horizontal>\n",
       "\t<dt>literacy</dt>\n",
       "\t\t<dd>2.58714270884173</dd>\n",
       "\t<dt>below_poverty</dt>\n",
       "\t\t<dd>4.23409644515633</dd>\n",
       "\t<dt>GovEff</dt>\n",
       "\t\t<dd>1.66365115095913</dd>\n",
       "\t<dt>PolSta</dt>\n",
       "\t\t<dd>1.34395316869449</dd>\n",
       "\t<dt>adult_mortality</dt>\n",
       "\t\t<dd>2.34250599277888</dd>\n",
       "</dl>\n"
      ],
      "text/latex": [
       "\\begin{description*}\n",
       "\\item[literacy] 2.58714270884173\n",
       "\\item[below\\textbackslash{}\\_poverty] 4.23409644515633\n",
       "\\item[GovEff] 1.66365115095913\n",
       "\\item[PolSta] 1.34395316869449\n",
       "\\item[adult\\textbackslash{}\\_mortality] 2.34250599277888\n",
       "\\end{description*}\n"
      ],
      "text/markdown": [
       "literacy\n",
       ":   2.58714270884173below_poverty\n",
       ":   4.23409644515633GovEff\n",
       ":   1.66365115095913PolSta\n",
       ":   1.34395316869449adult_mortality\n",
       ":   2.34250599277888\n",
       "\n"
      ],
      "text/plain": [
       "       literacy   below_poverty          GovEff          PolSta adult_mortality \n",
       "       2.587143        4.234096        1.663651        1.343953        2.342506 "
      ]
     },
     "metadata": {},
     "output_type": "display_data"
    }
   ],
   "source": [
    "car::vif(model_lbgpa)"
   ]
  },
  {
   "cell_type": "code",
   "execution_count": 44,
   "metadata": {},
   "outputs": [
    {
     "data": {
      "text/html": [
       "<table>\n",
       "<caption>A tibble: 1 × 11</caption>\n",
       "<thead>\n",
       "\t<tr><th scope=col>r.squared</th><th scope=col>adj.r.squared</th><th scope=col>sigma</th><th scope=col>statistic</th><th scope=col>p.value</th><th scope=col>df</th><th scope=col>logLik</th><th scope=col>AIC</th><th scope=col>BIC</th><th scope=col>deviance</th><th scope=col>df.residual</th></tr>\n",
       "\t<tr><th scope=col>&lt;dbl&gt;</th><th scope=col>&lt;dbl&gt;</th><th scope=col>&lt;dbl&gt;</th><th scope=col>&lt;dbl&gt;</th><th scope=col>&lt;dbl&gt;</th><th scope=col>&lt;int&gt;</th><th scope=col>&lt;dbl&gt;</th><th scope=col>&lt;dbl&gt;</th><th scope=col>&lt;dbl&gt;</th><th scope=col>&lt;dbl&gt;</th><th scope=col>&lt;int&gt;</th></tr>\n",
       "</thead>\n",
       "<tbody>\n",
       "\t<tr><td>0.6198205</td><td>0.6110606</td><td>4883.209</td><td>70.7566</td><td>1.142314e-43</td><td>6</td><td>-2207.446</td><td>4428.891</td><td>4452.741</td><td>5174523535</td><td>217</td></tr>\n",
       "</tbody>\n",
       "</table>\n"
      ],
      "text/latex": [
       "A tibble: 1 × 11\n",
       "\\begin{tabular}{r|lllllllllll}\n",
       " r.squared & adj.r.squared & sigma & statistic & p.value & df & logLik & AIC & BIC & deviance & df.residual\\\\\n",
       " <dbl> & <dbl> & <dbl> & <dbl> & <dbl> & <int> & <dbl> & <dbl> & <dbl> & <dbl> & <int>\\\\\n",
       "\\hline\n",
       "\t 0.6198205 & 0.6110606 & 4883.209 & 70.7566 & 1.142314e-43 & 6 & -2207.446 & 4428.891 & 4452.741 & 5174523535 & 217\\\\\n",
       "\\end{tabular}\n"
      ],
      "text/markdown": [
       "\n",
       "A tibble: 1 × 11\n",
       "\n",
       "| r.squared &lt;dbl&gt; | adj.r.squared &lt;dbl&gt; | sigma &lt;dbl&gt; | statistic &lt;dbl&gt; | p.value &lt;dbl&gt; | df &lt;int&gt; | logLik &lt;dbl&gt; | AIC &lt;dbl&gt; | BIC &lt;dbl&gt; | deviance &lt;dbl&gt; | df.residual &lt;int&gt; |\n",
       "|---|---|---|---|---|---|---|---|---|---|---|\n",
       "| 0.6198205 | 0.6110606 | 4883.209 | 70.7566 | 1.142314e-43 | 6 | -2207.446 | 4428.891 | 4452.741 | 5174523535 | 217 |\n",
       "\n"
      ],
      "text/plain": [
       "  r.squared adj.r.squared sigma    statistic p.value      df logLik    AIC     \n",
       "1 0.6198205 0.6110606     4883.209 70.7566   1.142314e-43 6  -2207.446 4428.891\n",
       "  BIC      deviance   df.residual\n",
       "1 4452.741 5174523535 217        "
      ]
     },
     "metadata": {},
     "output_type": "display_data"
    }
   ],
   "source": [
    "glance(model_lbgpa)"
   ]
  },
  {
   "cell_type": "markdown",
   "metadata": {},
   "source": [
    "Still we can see that the significance of the estimates hasn't changed. Also the coefficient of determination hasn't changed and is almost the same which confirms the fact that the variable `Corruption` was redundant. We can see that there is high correlation between `literacy` and `below_poverty`. Also we can see that the variable `below_poverty` has VIF higher than 4 which might lead to collinearity, so we will remove this variable from our analysis."
   ]
  },
  {
   "cell_type": "code",
   "execution_count": 45,
   "metadata": {},
   "outputs": [
    {
     "data": {
      "text/html": [
       "<table>\n",
       "<caption>A tibble: 5 × 5</caption>\n",
       "<thead>\n",
       "\t<tr><th scope=col>term</th><th scope=col>estimate</th><th scope=col>std.error</th><th scope=col>statistic</th><th scope=col>p.value</th></tr>\n",
       "\t<tr><th scope=col>&lt;chr&gt;</th><th scope=col>&lt;dbl&gt;</th><th scope=col>&lt;dbl&gt;</th><th scope=col>&lt;dbl&gt;</th><th scope=col>&lt;dbl&gt;</th></tr>\n",
       "</thead>\n",
       "<tbody>\n",
       "\t<tr><td>(Intercept)    </td><td>17839.03412</td><td>2973.886290</td><td> 5.9985596</td><td>3.938248e-09</td></tr>\n",
       "\t<tr><td>literacy       </td><td>  -25.52050</td><td>  28.396572</td><td>-0.8987176</td><td>3.692565e-01</td></tr>\n",
       "\t<tr><td>GovEff         </td><td> 7716.89907</td><td> 837.272363</td><td> 9.2167130</td><td>9.815631e-19</td></tr>\n",
       "\t<tr><td>PolSta         </td><td> 2653.92727</td><td> 619.755411</td><td> 4.2822172</td><td>2.238372e-05</td></tr>\n",
       "\t<tr><td>adult_mortality</td><td>  -28.21069</td><td>   5.403036</td><td>-5.2212661</td><td>2.658114e-07</td></tr>\n",
       "</tbody>\n",
       "</table>\n"
      ],
      "text/latex": [
       "A tibble: 5 × 5\n",
       "\\begin{tabular}{r|lllll}\n",
       " term & estimate & std.error & statistic & p.value\\\\\n",
       " <chr> & <dbl> & <dbl> & <dbl> & <dbl>\\\\\n",
       "\\hline\n",
       "\t (Intercept)     & 17839.03412 & 2973.886290 &  5.9985596 & 3.938248e-09\\\\\n",
       "\t literacy        &   -25.52050 &   28.396572 & -0.8987176 & 3.692565e-01\\\\\n",
       "\t GovEff          &  7716.89907 &  837.272363 &  9.2167130 & 9.815631e-19\\\\\n",
       "\t PolSta          &  2653.92727 &  619.755411 &  4.2822172 & 2.238372e-05\\\\\n",
       "\t adult\\_mortality &   -28.21069 &    5.403036 & -5.2212661 & 2.658114e-07\\\\\n",
       "\\end{tabular}\n"
      ],
      "text/markdown": [
       "\n",
       "A tibble: 5 × 5\n",
       "\n",
       "| term &lt;chr&gt; | estimate &lt;dbl&gt; | std.error &lt;dbl&gt; | statistic &lt;dbl&gt; | p.value &lt;dbl&gt; |\n",
       "|---|---|---|---|---|\n",
       "| (Intercept)     | 17839.03412 | 2973.886290 |  5.9985596 | 3.938248e-09 |\n",
       "| literacy        |   -25.52050 |   28.396572 | -0.8987176 | 3.692565e-01 |\n",
       "| GovEff          |  7716.89907 |  837.272363 |  9.2167130 | 9.815631e-19 |\n",
       "| PolSta          |  2653.92727 |  619.755411 |  4.2822172 | 2.238372e-05 |\n",
       "| adult_mortality |   -28.21069 |    5.403036 | -5.2212661 | 2.658114e-07 |\n",
       "\n"
      ],
      "text/plain": [
       "  term            estimate    std.error   statistic  p.value     \n",
       "1 (Intercept)     17839.03412 2973.886290  5.9985596 3.938248e-09\n",
       "2 literacy          -25.52050   28.396572 -0.8987176 3.692565e-01\n",
       "3 GovEff           7716.89907  837.272363  9.2167130 9.815631e-19\n",
       "4 PolSta           2653.92727  619.755411  4.2822172 2.238372e-05\n",
       "5 adult_mortality   -28.21069    5.403036 -5.2212661 2.658114e-07"
      ]
     },
     "metadata": {},
     "output_type": "display_data"
    }
   ],
   "source": [
    "model_lgpa <- lm(all_data[c(4,5,12,13,14)] %>% drop_na())\n",
    "tidy(model_lgpa)"
   ]
  },
  {
   "cell_type": "code",
   "execution_count": 46,
   "metadata": {},
   "outputs": [
    {
     "data": {
      "text/html": [
       "<dl class=dl-horizontal>\n",
       "\t<dt>literacy</dt>\n",
       "\t\t<dd>1.65996879847755</dd>\n",
       "\t<dt>GovEff</dt>\n",
       "\t\t<dd>1.88025839796805</dd>\n",
       "\t<dt>PolSta</dt>\n",
       "\t\t<dd>1.45040218404862</dd>\n",
       "\t<dt>adult_mortality</dt>\n",
       "\t\t<dd>1.6249977427526</dd>\n",
       "</dl>\n"
      ],
      "text/latex": [
       "\\begin{description*}\n",
       "\\item[literacy] 1.65996879847755\n",
       "\\item[GovEff] 1.88025839796805\n",
       "\\item[PolSta] 1.45040218404862\n",
       "\\item[adult\\textbackslash{}\\_mortality] 1.6249977427526\n",
       "\\end{description*}\n"
      ],
      "text/markdown": [
       "literacy\n",
       ":   1.65996879847755GovEff\n",
       ":   1.88025839796805PolSta\n",
       ":   1.45040218404862adult_mortality\n",
       ":   1.6249977427526\n",
       "\n"
      ],
      "text/plain": [
       "       literacy          GovEff          PolSta adult_mortality \n",
       "       1.659969        1.880258        1.450402        1.624998 "
      ]
     },
     "metadata": {},
     "output_type": "display_data"
    }
   ],
   "source": [
    "car::vif(model_lgpa)"
   ]
  },
  {
   "cell_type": "code",
   "execution_count": 47,
   "metadata": {},
   "outputs": [
    {
     "name": "stdout",
     "output_type": "stream",
     "text": [
      "[1] \"no. of rows =  482\"\n"
     ]
    },
    {
     "data": {
      "text/html": [
       "<table>\n",
       "<caption>A matrix: 5 × 5 of type dbl</caption>\n",
       "<thead>\n",
       "\t<tr><th></th><th scope=col>gdpPerCap</th><th scope=col>literacy</th><th scope=col>GovEff</th><th scope=col>PolSta</th><th scope=col>adult_mortality</th></tr>\n",
       "</thead>\n",
       "<tbody>\n",
       "\t<tr><th scope=row>gdpPerCap</th><td> 1.0000000</td><td> 0.3700010</td><td> 0.6221847</td><td> 0.4477796</td><td>-0.4595897</td></tr>\n",
       "\t<tr><th scope=row>literacy</th><td> 0.3700010</td><td> 1.0000000</td><td> 0.5075622</td><td> 0.3475635</td><td>-0.5619562</td></tr>\n",
       "\t<tr><th scope=row>GovEff</th><td> 0.6221847</td><td> 0.5075622</td><td> 1.0000000</td><td> 0.5415220</td><td>-0.4958274</td></tr>\n",
       "\t<tr><th scope=row>PolSta</th><td> 0.4477796</td><td> 0.3475635</td><td> 0.5415220</td><td> 1.0000000</td><td>-0.2192027</td></tr>\n",
       "\t<tr><th scope=row>adult_mortality</th><td>-0.4595897</td><td>-0.5619562</td><td>-0.4958274</td><td>-0.2192027</td><td> 1.0000000</td></tr>\n",
       "</tbody>\n",
       "</table>\n"
      ],
      "text/latex": [
       "A matrix: 5 × 5 of type dbl\n",
       "\\begin{tabular}{r|lllll}\n",
       "  & gdpPerCap & literacy & GovEff & PolSta & adult\\_mortality\\\\\n",
       "\\hline\n",
       "\tgdpPerCap &  1.0000000 &  0.3700010 &  0.6221847 &  0.4477796 & -0.4595897\\\\\n",
       "\tliteracy &  0.3700010 &  1.0000000 &  0.5075622 &  0.3475635 & -0.5619562\\\\\n",
       "\tGovEff &  0.6221847 &  0.5075622 &  1.0000000 &  0.5415220 & -0.4958274\\\\\n",
       "\tPolSta &  0.4477796 &  0.3475635 &  0.5415220 &  1.0000000 & -0.2192027\\\\\n",
       "\tadult\\_mortality & -0.4595897 & -0.5619562 & -0.4958274 & -0.2192027 &  1.0000000\\\\\n",
       "\\end{tabular}\n"
      ],
      "text/markdown": [
       "\n",
       "A matrix: 5 × 5 of type dbl\n",
       "\n",
       "| <!--/--> | gdpPerCap | literacy | GovEff | PolSta | adult_mortality |\n",
       "|---|---|---|---|---|---|\n",
       "| gdpPerCap |  1.0000000 |  0.3700010 |  0.6221847 |  0.4477796 | -0.4595897 |\n",
       "| literacy |  0.3700010 |  1.0000000 |  0.5075622 |  0.3475635 | -0.5619562 |\n",
       "| GovEff |  0.6221847 |  0.5075622 |  1.0000000 |  0.5415220 | -0.4958274 |\n",
       "| PolSta |  0.4477796 |  0.3475635 |  0.5415220 |  1.0000000 | -0.2192027 |\n",
       "| adult_mortality | -0.4595897 | -0.5619562 | -0.4958274 | -0.2192027 |  1.0000000 |\n",
       "\n"
      ],
      "text/plain": [
       "                gdpPerCap  literacy   GovEff     PolSta     adult_mortality\n",
       "gdpPerCap        1.0000000  0.3700010  0.6221847  0.4477796 -0.4595897     \n",
       "literacy         0.3700010  1.0000000  0.5075622  0.3475635 -0.5619562     \n",
       "GovEff           0.6221847  0.5075622  1.0000000  0.5415220 -0.4958274     \n",
       "PolSta           0.4477796  0.3475635  0.5415220  1.0000000 -0.2192027     \n",
       "adult_mortality -0.4595897 -0.5619562 -0.4958274 -0.2192027  1.0000000     "
      ]
     },
     "metadata": {},
     "output_type": "display_data"
    }
   ],
   "source": [
    "calc_cor(4,5,12,13,14)"
   ]
  },
  {
   "cell_type": "markdown",
   "metadata": {},
   "source": [
    "Now we can see that the VIF value for all the variables are low implying the model does not have collinearity. Here based on 482 data points except literacy, all other estimates are significant. Now we need to determine the importance of each variable, so we need to normalize the variables so that each of them have 0 mean and 1 standard deviation."
   ]
  },
  {
   "cell_type": "code",
   "execution_count": 48,
   "metadata": {},
   "outputs": [
    {
     "data": {
      "text/html": [
       "<table>\n",
       "<caption>A data.frame: 6 × 5</caption>\n",
       "<thead>\n",
       "\t<tr><th></th><th scope=col>gdpPerCap</th><th scope=col>literacy</th><th scope=col>GovEff</th><th scope=col>PolSta</th><th scope=col>adult_mortality</th></tr>\n",
       "\t<tr><th></th><th scope=col>&lt;dbl&gt;</th><th scope=col>&lt;dbl&gt;</th><th scope=col>&lt;dbl&gt;</th><th scope=col>&lt;dbl&gt;</th><th scope=col>&lt;dbl&gt;</th></tr>\n",
       "</thead>\n",
       "<tbody>\n",
       "\t<tr><th scope=row>7332</th><td> 136.4640</td><td>-1.1698690</td><td>-1.70043132</td><td>-2.05736877</td><td> 1.81835304</td></tr>\n",
       "\t<tr><th scope=row>7340</th><td>1467.7765</td><td> 0.7173944</td><td>-0.93597972</td><td>-0.30145492</td><td>-0.53259268</td></tr>\n",
       "\t<tr><th scope=row>7345</th><td>3749.7532</td><td> 0.1973177</td><td> 0.36832359</td><td> 0.53973426</td><td> 0.01142782</td></tr>\n",
       "\t<tr><th scope=row>7350</th><td> 251.2069</td><td>-1.6072620</td><td>-1.61690340</td><td>-1.00278202</td><td> 3.38241196</td></tr>\n",
       "\t<tr><th scope=row>7356</th><td> 959.3725</td><td> 0.4272847</td><td> 0.08416409</td><td> 0.07304369</td><td>-0.70745641</td></tr>\n",
       "\t<tr><th scope=row>7358</th><td> 649.9918</td><td>-0.7098907</td><td>-0.81352254</td><td>-0.34436866</td><td> 2.22636841</td></tr>\n",
       "</tbody>\n",
       "</table>\n"
      ],
      "text/latex": [
       "A data.frame: 6 × 5\n",
       "\\begin{tabular}{r|lllll}\n",
       "  & gdpPerCap & literacy & GovEff & PolSta & adult\\_mortality\\\\\n",
       "  & <dbl> & <dbl> & <dbl> & <dbl> & <dbl>\\\\\n",
       "\\hline\n",
       "\t7332 &  136.4640 & -1.1698690 & -1.70043132 & -2.05736877 &  1.81835304\\\\\n",
       "\t7340 & 1467.7765 &  0.7173944 & -0.93597972 & -0.30145492 & -0.53259268\\\\\n",
       "\t7345 & 3749.7532 &  0.1973177 &  0.36832359 &  0.53973426 &  0.01142782\\\\\n",
       "\t7350 &  251.2069 & -1.6072620 & -1.61690340 & -1.00278202 &  3.38241196\\\\\n",
       "\t7356 &  959.3725 &  0.4272847 &  0.08416409 &  0.07304369 & -0.70745641\\\\\n",
       "\t7358 &  649.9918 & -0.7098907 & -0.81352254 & -0.34436866 &  2.22636841\\\\\n",
       "\\end{tabular}\n"
      ],
      "text/markdown": [
       "\n",
       "A data.frame: 6 × 5\n",
       "\n",
       "| <!--/--> | gdpPerCap &lt;dbl&gt; | literacy &lt;dbl&gt; | GovEff &lt;dbl&gt; | PolSta &lt;dbl&gt; | adult_mortality &lt;dbl&gt; |\n",
       "|---|---|---|---|---|---|\n",
       "| 7332 |  136.4640 | -1.1698690 | -1.70043132 | -2.05736877 |  1.81835304 |\n",
       "| 7340 | 1467.7765 |  0.7173944 | -0.93597972 | -0.30145492 | -0.53259268 |\n",
       "| 7345 | 3749.7532 |  0.1973177 |  0.36832359 |  0.53973426 |  0.01142782 |\n",
       "| 7350 |  251.2069 | -1.6072620 | -1.61690340 | -1.00278202 |  3.38241196 |\n",
       "| 7356 |  959.3725 |  0.4272847 |  0.08416409 |  0.07304369 | -0.70745641 |\n",
       "| 7358 |  649.9918 | -0.7098907 | -0.81352254 | -0.34436866 |  2.22636841 |\n",
       "\n"
      ],
      "text/plain": [
       "     gdpPerCap literacy   GovEff      PolSta      adult_mortality\n",
       "7332  136.4640 -1.1698690 -1.70043132 -2.05736877  1.81835304    \n",
       "7340 1467.7765  0.7173944 -0.93597972 -0.30145492 -0.53259268    \n",
       "7345 3749.7532  0.1973177  0.36832359  0.53973426  0.01142782    \n",
       "7350  251.2069 -1.6072620 -1.61690340 -1.00278202  3.38241196    \n",
       "7356  959.3725  0.4272847  0.08416409  0.07304369 -0.70745641    \n",
       "7358  649.9918 -0.7098907 -0.81352254 -0.34436866  2.22636841    "
      ]
     },
     "metadata": {},
     "output_type": "display_data"
    }
   ],
   "source": [
    "scaled_data <- all_data %>%\n",
    "    select(4,5,12,13,14)%>%\n",
    "    drop_na()\n",
    "scaled_data[c(2:5)] <- scale(scaled_data[c(2:5)])\n",
    "scaled_data %>% head()"
   ]
  },
  {
   "cell_type": "code",
   "execution_count": 49,
   "metadata": {},
   "outputs": [
    {
     "name": "stdout",
     "output_type": "stream",
     "text": [
      "[1] \"The number of data points in the model are : 482\"\n"
     ]
    }
   ],
   "source": [
    "print(paste('The number of data points in the model are :',nrow(scaled_data)))"
   ]
  },
  {
   "cell_type": "code",
   "execution_count": 50,
   "metadata": {},
   "outputs": [
    {
     "data": {
      "text/html": [
       "<table>\n",
       "<caption>A tibble: 5 × 5</caption>\n",
       "<thead>\n",
       "\t<tr><th scope=col>term</th><th scope=col>estimate</th><th scope=col>std.error</th><th scope=col>statistic</th><th scope=col>p.value</th></tr>\n",
       "\t<tr><th scope=col>&lt;chr&gt;</th><th scope=col>&lt;dbl&gt;</th><th scope=col>&lt;dbl&gt;</th><th scope=col>&lt;dbl&gt;</th><th scope=col>&lt;dbl&gt;</th></tr>\n",
       "</thead>\n",
       "<tbody>\n",
       "\t<tr><td>(Intercept)    </td><td> 8553.1958</td><td>435.8462</td><td>19.6243435</td><td>2.695720e-63</td></tr>\n",
       "\t<tr><td>literacy       </td><td> -505.1932</td><td>562.1267</td><td>-0.8987176</td><td>3.692565e-01</td></tr>\n",
       "\t<tr><td>GovEff         </td><td> 5514.0296</td><td>598.2642</td><td> 9.2167130</td><td>9.815631e-19</td></tr>\n",
       "\t<tr><td>PolSta         </td><td> 2250.0759</td><td>525.4465</td><td> 4.2822172</td><td>2.238372e-05</td></tr>\n",
       "\t<tr><td>adult_mortality</td><td>-2903.9322</td><td>556.1739</td><td>-5.2212661</td><td>2.658114e-07</td></tr>\n",
       "</tbody>\n",
       "</table>\n"
      ],
      "text/latex": [
       "A tibble: 5 × 5\n",
       "\\begin{tabular}{r|lllll}\n",
       " term & estimate & std.error & statistic & p.value\\\\\n",
       " <chr> & <dbl> & <dbl> & <dbl> & <dbl>\\\\\n",
       "\\hline\n",
       "\t (Intercept)     &  8553.1958 & 435.8462 & 19.6243435 & 2.695720e-63\\\\\n",
       "\t literacy        &  -505.1932 & 562.1267 & -0.8987176 & 3.692565e-01\\\\\n",
       "\t GovEff          &  5514.0296 & 598.2642 &  9.2167130 & 9.815631e-19\\\\\n",
       "\t PolSta          &  2250.0759 & 525.4465 &  4.2822172 & 2.238372e-05\\\\\n",
       "\t adult\\_mortality & -2903.9322 & 556.1739 & -5.2212661 & 2.658114e-07\\\\\n",
       "\\end{tabular}\n"
      ],
      "text/markdown": [
       "\n",
       "A tibble: 5 × 5\n",
       "\n",
       "| term &lt;chr&gt; | estimate &lt;dbl&gt; | std.error &lt;dbl&gt; | statistic &lt;dbl&gt; | p.value &lt;dbl&gt; |\n",
       "|---|---|---|---|---|\n",
       "| (Intercept)     |  8553.1958 | 435.8462 | 19.6243435 | 2.695720e-63 |\n",
       "| literacy        |  -505.1932 | 562.1267 | -0.8987176 | 3.692565e-01 |\n",
       "| GovEff          |  5514.0296 | 598.2642 |  9.2167130 | 9.815631e-19 |\n",
       "| PolSta          |  2250.0759 | 525.4465 |  4.2822172 | 2.238372e-05 |\n",
       "| adult_mortality | -2903.9322 | 556.1739 | -5.2212661 | 2.658114e-07 |\n",
       "\n"
      ],
      "text/plain": [
       "  term            estimate   std.error statistic  p.value     \n",
       "1 (Intercept)      8553.1958 435.8462  19.6243435 2.695720e-63\n",
       "2 literacy         -505.1932 562.1267  -0.8987176 3.692565e-01\n",
       "3 GovEff           5514.0296 598.2642   9.2167130 9.815631e-19\n",
       "4 PolSta           2250.0759 525.4465   4.2822172 2.238372e-05\n",
       "5 adult_mortality -2903.9322 556.1739  -5.2212661 2.658114e-07"
      ]
     },
     "metadata": {},
     "output_type": "display_data"
    }
   ],
   "source": [
    "model <- lm(scaled_data)\n",
    "tidy(model)"
   ]
  },
  {
   "cell_type": "code",
   "execution_count": 51,
   "metadata": {},
   "outputs": [
    {
     "data": {
      "text/html": [
       "<dl class=dl-horizontal>\n",
       "\t<dt>literacy</dt>\n",
       "\t\t<dd>1.65996879847755</dd>\n",
       "\t<dt>GovEff</dt>\n",
       "\t\t<dd>1.88025839796805</dd>\n",
       "\t<dt>PolSta</dt>\n",
       "\t\t<dd>1.45040218404862</dd>\n",
       "\t<dt>adult_mortality</dt>\n",
       "\t\t<dd>1.6249977427526</dd>\n",
       "</dl>\n"
      ],
      "text/latex": [
       "\\begin{description*}\n",
       "\\item[literacy] 1.65996879847755\n",
       "\\item[GovEff] 1.88025839796805\n",
       "\\item[PolSta] 1.45040218404862\n",
       "\\item[adult\\textbackslash{}\\_mortality] 1.6249977427526\n",
       "\\end{description*}\n"
      ],
      "text/markdown": [
       "literacy\n",
       ":   1.65996879847755GovEff\n",
       ":   1.88025839796805PolSta\n",
       ":   1.45040218404862adult_mortality\n",
       ":   1.6249977427526\n",
       "\n"
      ],
      "text/plain": [
       "       literacy          GovEff          PolSta adult_mortality \n",
       "       1.659969        1.880258        1.450402        1.624998 "
      ]
     },
     "metadata": {},
     "output_type": "display_data"
    }
   ],
   "source": [
    "car::vif(model)"
   ]
  },
  {
   "cell_type": "code",
   "execution_count": 52,
   "metadata": {},
   "outputs": [
    {
     "data": {
      "text/html": [
       "<table>\n",
       "<caption>A tibble: 1 × 11</caption>\n",
       "<thead>\n",
       "\t<tr><th scope=col>r.squared</th><th scope=col>adj.r.squared</th><th scope=col>sigma</th><th scope=col>statistic</th><th scope=col>p.value</th><th scope=col>df</th><th scope=col>logLik</th><th scope=col>AIC</th><th scope=col>BIC</th><th scope=col>deviance</th><th scope=col>df.residual</th></tr>\n",
       "\t<tr><th scope=col>&lt;dbl&gt;</th><th scope=col>&lt;dbl&gt;</th><th scope=col>&lt;dbl&gt;</th><th scope=col>&lt;dbl&gt;</th><th scope=col>&lt;dbl&gt;</th><th scope=col>&lt;int&gt;</th><th scope=col>&lt;dbl&gt;</th><th scope=col>&lt;dbl&gt;</th><th scope=col>&lt;dbl&gt;</th><th scope=col>&lt;dbl&gt;</th><th scope=col>&lt;int&gt;</th></tr>\n",
       "</thead>\n",
       "<tbody>\n",
       "\t<tr><td>0.4390528</td><td>0.4343489</td><td>9568.785</td><td>93.33687</td><td>1.386818e-58</td><td>5</td><td>-5099.553</td><td>10211.11</td><td>10236.17</td><td>43674905600</td><td>477</td></tr>\n",
       "</tbody>\n",
       "</table>\n"
      ],
      "text/latex": [
       "A tibble: 1 × 11\n",
       "\\begin{tabular}{r|lllllllllll}\n",
       " r.squared & adj.r.squared & sigma & statistic & p.value & df & logLik & AIC & BIC & deviance & df.residual\\\\\n",
       " <dbl> & <dbl> & <dbl> & <dbl> & <dbl> & <int> & <dbl> & <dbl> & <dbl> & <dbl> & <int>\\\\\n",
       "\\hline\n",
       "\t 0.4390528 & 0.4343489 & 9568.785 & 93.33687 & 1.386818e-58 & 5 & -5099.553 & 10211.11 & 10236.17 & 43674905600 & 477\\\\\n",
       "\\end{tabular}\n"
      ],
      "text/markdown": [
       "\n",
       "A tibble: 1 × 11\n",
       "\n",
       "| r.squared &lt;dbl&gt; | adj.r.squared &lt;dbl&gt; | sigma &lt;dbl&gt; | statistic &lt;dbl&gt; | p.value &lt;dbl&gt; | df &lt;int&gt; | logLik &lt;dbl&gt; | AIC &lt;dbl&gt; | BIC &lt;dbl&gt; | deviance &lt;dbl&gt; | df.residual &lt;int&gt; |\n",
       "|---|---|---|---|---|---|---|---|---|---|---|\n",
       "| 0.4390528 | 0.4343489 | 9568.785 | 93.33687 | 1.386818e-58 | 5 | -5099.553 | 10211.11 | 10236.17 | 43674905600 | 477 |\n",
       "\n"
      ],
      "text/plain": [
       "  r.squared adj.r.squared sigma    statistic p.value      df logLik    AIC     \n",
       "1 0.4390528 0.4343489     9568.785 93.33687  1.386818e-58 5  -5099.553 10211.11\n",
       "  BIC      deviance    df.residual\n",
       "1 10236.17 43674905600 477        "
      ]
     },
     "metadata": {},
     "output_type": "display_data"
    }
   ],
   "source": [
    "glance(model)"
   ]
  },
  {
   "cell_type": "markdown",
   "metadata": {},
   "source": [
    "## Conclusion:\n",
    "\n",
    "* We started with 7 variables\n",
    "    1. Literacy\n",
    "    2. Percentage of people under slum\n",
    "    3. Percentage of people earning less than $1.3 per day\n",
    "    4. Corruption\n",
    "    5. Government Effectiveness\n",
    "    6. Political Stability\n",
    "    7. Adult Mortality  \n",
    "* Out of which we developed model on 4 variables. \n",
    "    1. Government Effectiveness\n",
    "    2. Adult Mortality\n",
    "    3. Political Stability\n",
    "    4. Literacy\n",
    "* The other 3 variables were left because they are highly related to the model's 4 variables and can be changed by impacting these 4 variables.\n",
    "* The model was created based on 482 data points.\n",
    "* From the model's t statistic we could make out that `GovEff` is the most important parameter determining GDP Per Capita. As effectiveness of the government increases the GDP per capita of the country increases.\n",
    "* The second most important variable determining GDP per capita is `adult_mortality`. If adult mortality increases the GDP per Capita of the country decreases.\n",
    "* Third most important factor contributing to GDP per capita is `PolSta`. The more the country is politically stable, the more will be its GDP per Capita.\n",
    "* The most interesting observation was that `litercacy` has no significant impact on GDP per capita. This is shocking as theoretically literacy is always associated with development. This is an interesting observation which needs to be further investigated.\n",
    "* Also we see that the coefficient of determination is around 0.44 which means our model does not explain the data well. "
   ]
  },
  {
   "cell_type": "code",
   "execution_count": 71,
   "metadata": {},
   "outputs": [],
   "source": [
    "plot <- function(x,y,x_label){\n",
    "    p <- all_data %>%\n",
    "        ggplot(aes(x = {{x}},y={{y}}))+\n",
    "        geom_point(alpha = 0.2)+\n",
    "        ylab('GDP per Capita(in USD)')+\n",
    "        xlab(x_label)+\n",
    "        scale_y_continuous(labels=scales::comma)\n",
    "    return(p)\n",
    "}\n",
    "library(ggplot2); theme_set(theme_bw())"
   ]
  },
  {
   "cell_type": "code",
   "execution_count": 72,
   "metadata": {},
   "outputs": [
    {
     "name": "stderr",
     "output_type": "stream",
     "text": [
      "Warning message:\n",
      "“Removed 9736 rows containing missing values (geom_point).”Warning message:\n",
      "“Removed 8191 rows containing missing values (geom_point).”Warning message:\n",
      "“Removed 8169 rows containing missing values (geom_point).”Warning message:\n",
      "“Removed 9427 rows containing missing values (geom_point).”"
     ]
    },
    {
     "data": {
      "image/png": "[encoded data removed]",
      "text/plain": [
       "plot without title"
      ]
     },
     "metadata": {},
     "output_type": "display_data"
    }
   ],
   "source": [
    "p1 <- plot(literacy,gdpPerCap,'Literacy(in %)')\n",
    "p2 <- plot(GovEff,gdpPerCap,'Government Effectiveness Score')\n",
    "p3 <- plot(PolSta,gdpPerCap,'Political Stability Score')\n",
    "p4 <- plot(adult_mortality/10,gdpPerCap,'Adult Mortality rate(in %)')\n",
    "grid.arrange(p1,p2,p3,p4, ncol=2,nrow = 2, top = textGrob(\"GDP per Capita vs individual explanatory variables\",gp=gpar(fontsize=10,font=3)))"
   ]
  },
  {
   "cell_type": "markdown",
   "metadata": {},
   "source": [
    "If we examine the graphs, the data doesn't seem to be linear. The data needs to be transformed in some way so that it becomes linear and then only we can fit our model on it. Since the variation in GDP per capita is very high as compared to the independent variable, we try taking log of `gdpPerCapita`."
   ]
  },
  {
   "cell_type": "code",
   "execution_count": 55,
   "metadata": {},
   "outputs": [
    {
     "name": "stderr",
     "output_type": "stream",
     "text": [
      "Warning message:\n",
      "“Removed 9736 rows containing missing values (geom_point).”Warning message:\n",
      "“Removed 8191 rows containing missing values (geom_point).”Warning message:\n",
      "“Removed 8169 rows containing missing values (geom_point).”Warning message:\n",
      "“Removed 9427 rows containing missing values (geom_point).”"
     ]
    },
    {
     "data": {
      "image/png": "[encoded data removed]",
      "text/plain": [
       "plot without title"
      ]
     },
     "metadata": {},
     "output_type": "display_data"
    }
   ],
   "source": [
    "p1 <- plot(literacy,log(gdpPerCap),'Literacy(in %)')\n",
    "p2 <- plot(GovEff,log(gdpPerCap),'Government Effectiveness Score')\n",
    "p3 <- plot(PolSta,log(gdpPerCap),'Political Stability Score')\n",
    "p4 <- plot(adult_mortality/10,log(gdpPerCap),'Adult Mortality rate(in %)') \n",
    "options(repr.plot.height = 5, repr.plot.width = 8)\n",
    "grid.arrange(p1,p2,p3,p4, ncol=2,nrow = 2,top = textGrob(\"log(GDP per Capita) vs individual explanatory variables\",gp=gpar(fontsize=10,font=3)))"
   ]
  },
  {
   "cell_type": "markdown",
   "metadata": {},
   "source": [
    "Now we can see that the data plot looks linear and now we will try to develop our model with `log(gdpPerCapita)` as dependent variable and analyze the coefficients. First we will check the correlation of each variable with `log(gdpPerCapita)`. "
   ]
  },
  {
   "cell_type": "code",
   "execution_count": 56,
   "metadata": {},
   "outputs": [
    {
     "data": {
      "text/html": [
       "<table>\n",
       "<caption>A matrix: 5 × 5 of type dbl</caption>\n",
       "<thead>\n",
       "\t<tr><th></th><th scope=col>gdpPerCap</th><th scope=col>literacy</th><th scope=col>GovEff</th><th scope=col>PolSta</th><th scope=col>adult_mortality</th></tr>\n",
       "</thead>\n",
       "<tbody>\n",
       "\t<tr><th scope=row>gdpPerCap</th><td> 1.0000000</td><td> 0.7212151</td><td> 0.7081368</td><td> 0.4886789</td><td>-0.6799315</td></tr>\n",
       "\t<tr><th scope=row>literacy</th><td> 0.7212151</td><td> 1.0000000</td><td> 0.5075622</td><td> 0.3475635</td><td>-0.5619562</td></tr>\n",
       "\t<tr><th scope=row>GovEff</th><td> 0.7081368</td><td> 0.5075622</td><td> 1.0000000</td><td> 0.5415220</td><td>-0.4958274</td></tr>\n",
       "\t<tr><th scope=row>PolSta</th><td> 0.4886789</td><td> 0.3475635</td><td> 0.5415220</td><td> 1.0000000</td><td>-0.2192027</td></tr>\n",
       "\t<tr><th scope=row>adult_mortality</th><td>-0.6799315</td><td>-0.5619562</td><td>-0.4958274</td><td>-0.2192027</td><td> 1.0000000</td></tr>\n",
       "</tbody>\n",
       "</table>\n"
      ],
      "text/latex": [
       "A matrix: 5 × 5 of type dbl\n",
       "\\begin{tabular}{r|lllll}\n",
       "  & gdpPerCap & literacy & GovEff & PolSta & adult\\_mortality\\\\\n",
       "\\hline\n",
       "\tgdpPerCap &  1.0000000 &  0.7212151 &  0.7081368 &  0.4886789 & -0.6799315\\\\\n",
       "\tliteracy &  0.7212151 &  1.0000000 &  0.5075622 &  0.3475635 & -0.5619562\\\\\n",
       "\tGovEff &  0.7081368 &  0.5075622 &  1.0000000 &  0.5415220 & -0.4958274\\\\\n",
       "\tPolSta &  0.4886789 &  0.3475635 &  0.5415220 &  1.0000000 & -0.2192027\\\\\n",
       "\tadult\\_mortality & -0.6799315 & -0.5619562 & -0.4958274 & -0.2192027 &  1.0000000\\\\\n",
       "\\end{tabular}\n"
      ],
      "text/markdown": [
       "\n",
       "A matrix: 5 × 5 of type dbl\n",
       "\n",
       "| <!--/--> | gdpPerCap | literacy | GovEff | PolSta | adult_mortality |\n",
       "|---|---|---|---|---|---|\n",
       "| gdpPerCap |  1.0000000 |  0.7212151 |  0.7081368 |  0.4886789 | -0.6799315 |\n",
       "| literacy |  0.7212151 |  1.0000000 |  0.5075622 |  0.3475635 | -0.5619562 |\n",
       "| GovEff |  0.7081368 |  0.5075622 |  1.0000000 |  0.5415220 | -0.4958274 |\n",
       "| PolSta |  0.4886789 |  0.3475635 |  0.5415220 |  1.0000000 | -0.2192027 |\n",
       "| adult_mortality | -0.6799315 | -0.5619562 | -0.4958274 | -0.2192027 |  1.0000000 |\n",
       "\n"
      ],
      "text/plain": [
       "                gdpPerCap  literacy   GovEff     PolSta     adult_mortality\n",
       "gdpPerCap        1.0000000  0.7212151  0.7081368  0.4886789 -0.6799315     \n",
       "literacy         0.7212151  1.0000000  0.5075622  0.3475635 -0.5619562     \n",
       "GovEff           0.7081368  0.5075622  1.0000000  0.5415220 -0.4958274     \n",
       "PolSta           0.4886789  0.3475635  0.5415220  1.0000000 -0.2192027     \n",
       "adult_mortality -0.6799315 -0.5619562 -0.4958274 -0.2192027  1.0000000     "
      ]
     },
     "metadata": {},
     "output_type": "display_data"
    }
   ],
   "source": [
    "cor_log_data <- all_data %>%\n",
    "    mutate(gdpPerCap = log(gdpPerCap)) %>%\n",
    "    select(4,5,12,13,14) %>%\n",
    "    drop_na()\n",
    "cor(cor_log_data)"
   ]
  },
  {
   "cell_type": "markdown",
   "metadata": {},
   "source": [
    "* If we check the correlation matrix we find that the correlation of each variable has increased when we take log.\n",
    "* Here we will not perform the entire elimination analysis of the 3 explanatory variable that we have already excluded as the VIF is not impacted by taking log of dependent variable.\n",
    "* Now we will rebuild the model by just taking the log of the dependent variable."
   ]
  },
  {
   "cell_type": "code",
   "execution_count": 57,
   "metadata": {},
   "outputs": [
    {
     "data": {
      "text/html": [
       "<table>\n",
       "<caption>A data.frame: 6 × 5</caption>\n",
       "<thead>\n",
       "\t<tr><th></th><th scope=col>gdpPerCap</th><th scope=col>literacy</th><th scope=col>GovEff</th><th scope=col>PolSta</th><th scope=col>adult_mortality</th></tr>\n",
       "\t<tr><th></th><th scope=col>&lt;dbl&gt;</th><th scope=col>&lt;dbl&gt;</th><th scope=col>&lt;dbl&gt;</th><th scope=col>&lt;dbl&gt;</th><th scope=col>&lt;dbl&gt;</th></tr>\n",
       "</thead>\n",
       "<tbody>\n",
       "\t<tr><th scope=row>7332</th><td>4.916061</td><td>-1.1698690</td><td>-1.70043132</td><td>-2.05736877</td><td> 1.81835304</td></tr>\n",
       "\t<tr><th scope=row>7340</th><td>7.291504</td><td> 0.7173944</td><td>-0.93597972</td><td>-0.30145492</td><td>-0.53259268</td></tr>\n",
       "\t<tr><th scope=row>7345</th><td>8.229445</td><td> 0.1973177</td><td> 0.36832359</td><td> 0.53973426</td><td> 0.01142782</td></tr>\n",
       "\t<tr><th scope=row>7350</th><td>5.526277</td><td>-1.6072620</td><td>-1.61690340</td><td>-1.00278202</td><td> 3.38241196</td></tr>\n",
       "\t<tr><th scope=row>7356</th><td>6.866279</td><td> 0.4272847</td><td> 0.08416409</td><td> 0.07304369</td><td>-0.70745641</td></tr>\n",
       "\t<tr><th scope=row>7358</th><td>6.476960</td><td>-0.7098907</td><td>-0.81352254</td><td>-0.34436866</td><td> 2.22636841</td></tr>\n",
       "</tbody>\n",
       "</table>\n"
      ],
      "text/latex": [
       "A data.frame: 6 × 5\n",
       "\\begin{tabular}{r|lllll}\n",
       "  & gdpPerCap & literacy & GovEff & PolSta & adult\\_mortality\\\\\n",
       "  & <dbl> & <dbl> & <dbl> & <dbl> & <dbl>\\\\\n",
       "\\hline\n",
       "\t7332 & 4.916061 & -1.1698690 & -1.70043132 & -2.05736877 &  1.81835304\\\\\n",
       "\t7340 & 7.291504 &  0.7173944 & -0.93597972 & -0.30145492 & -0.53259268\\\\\n",
       "\t7345 & 8.229445 &  0.1973177 &  0.36832359 &  0.53973426 &  0.01142782\\\\\n",
       "\t7350 & 5.526277 & -1.6072620 & -1.61690340 & -1.00278202 &  3.38241196\\\\\n",
       "\t7356 & 6.866279 &  0.4272847 &  0.08416409 &  0.07304369 & -0.70745641\\\\\n",
       "\t7358 & 6.476960 & -0.7098907 & -0.81352254 & -0.34436866 &  2.22636841\\\\\n",
       "\\end{tabular}\n"
      ],
      "text/markdown": [
       "\n",
       "A data.frame: 6 × 5\n",
       "\n",
       "| <!--/--> | gdpPerCap &lt;dbl&gt; | literacy &lt;dbl&gt; | GovEff &lt;dbl&gt; | PolSta &lt;dbl&gt; | adult_mortality &lt;dbl&gt; |\n",
       "|---|---|---|---|---|---|\n",
       "| 7332 | 4.916061 | -1.1698690 | -1.70043132 | -2.05736877 |  1.81835304 |\n",
       "| 7340 | 7.291504 |  0.7173944 | -0.93597972 | -0.30145492 | -0.53259268 |\n",
       "| 7345 | 8.229445 |  0.1973177 |  0.36832359 |  0.53973426 |  0.01142782 |\n",
       "| 7350 | 5.526277 | -1.6072620 | -1.61690340 | -1.00278202 |  3.38241196 |\n",
       "| 7356 | 6.866279 |  0.4272847 |  0.08416409 |  0.07304369 | -0.70745641 |\n",
       "| 7358 | 6.476960 | -0.7098907 | -0.81352254 | -0.34436866 |  2.22636841 |\n",
       "\n"
      ],
      "text/plain": [
       "     gdpPerCap literacy   GovEff      PolSta      adult_mortality\n",
       "7332 4.916061  -1.1698690 -1.70043132 -2.05736877  1.81835304    \n",
       "7340 7.291504   0.7173944 -0.93597972 -0.30145492 -0.53259268    \n",
       "7345 8.229445   0.1973177  0.36832359  0.53973426  0.01142782    \n",
       "7350 5.526277  -1.6072620 -1.61690340 -1.00278202  3.38241196    \n",
       "7356 6.866279   0.4272847  0.08416409  0.07304369 -0.70745641    \n",
       "7358 6.476960  -0.7098907 -0.81352254 -0.34436866  2.22636841    "
      ]
     },
     "metadata": {},
     "output_type": "display_data"
    },
    {
     "name": "stdout",
     "output_type": "stream",
     "text": [
      "[1] \"Total number of data points considered are : 482\"\n"
     ]
    }
   ],
   "source": [
    "scaled_data_log <- all_data %>%\n",
    "    mutate(gdpPerCap = log(gdpPerCap)) %>%\n",
    "    select(4,5,12,13,14)%>%\n",
    "    drop_na()\n",
    "scaled_data_log[c(2:5)] <- scale(scaled_data_log[c(2:5)])#,adult_mortality = log(adult_mortality+0.01))\n",
    "scaled_data_log %>% head()\n",
    "print(paste(\"Total number of data points considered are :\", nrow(scaled_data_log)))"
   ]
  },
  {
   "cell_type": "code",
   "execution_count": 58,
   "metadata": {},
   "outputs": [
    {
     "data": {
      "text/html": [
       "<table>\n",
       "<caption>A tibble: 5 × 7</caption>\n",
       "<thead>\n",
       "\t<tr><th scope=col>term</th><th scope=col>estimate</th><th scope=col>std.error</th><th scope=col>statistic</th><th scope=col>p.value</th><th scope=col>conf.low</th><th scope=col>conf.high</th></tr>\n",
       "\t<tr><th scope=col>&lt;chr&gt;</th><th scope=col>&lt;dbl&gt;</th><th scope=col>&lt;dbl&gt;</th><th scope=col>&lt;dbl&gt;</th><th scope=col>&lt;dbl&gt;</th><th scope=col>&lt;dbl&gt;</th><th scope=col>&lt;dbl&gt;</th></tr>\n",
       "</thead>\n",
       "<tbody>\n",
       "\t<tr><td>(Intercept)    </td><td> 8.2199705</td><td>0.03207236</td><td>256.294528</td><td>0.000000e+00</td><td> 8.1569499</td><td> 8.2829911</td></tr>\n",
       "\t<tr><td>literacy       </td><td> 0.4794363</td><td>0.04136489</td><td> 11.590418</td><td>1.537768e-27</td><td> 0.3981564</td><td> 0.5607163</td></tr>\n",
       "\t<tr><td>GovEff         </td><td> 0.4259060</td><td>0.04402412</td><td>  9.674378</td><td>2.472628e-20</td><td> 0.3394008</td><td> 0.5124112</td></tr>\n",
       "\t<tr><td>PolSta         </td><td> 0.1846111</td><td>0.03866572</td><td>  4.774540</td><td>2.399794e-06</td><td> 0.1086349</td><td> 0.2605873</td></tr>\n",
       "\t<tr><td>adult_mortality</td><td>-0.4151709</td><td>0.04092685</td><td>-10.144218</td><td>5.009579e-22</td><td>-0.4955901</td><td>-0.3347517</td></tr>\n",
       "</tbody>\n",
       "</table>\n"
      ],
      "text/latex": [
       "A tibble: 5 × 7\n",
       "\\begin{tabular}{r|lllllll}\n",
       " term & estimate & std.error & statistic & p.value & conf.low & conf.high\\\\\n",
       " <chr> & <dbl> & <dbl> & <dbl> & <dbl> & <dbl> & <dbl>\\\\\n",
       "\\hline\n",
       "\t (Intercept)     &  8.2199705 & 0.03207236 & 256.294528 & 0.000000e+00 &  8.1569499 &  8.2829911\\\\\n",
       "\t literacy        &  0.4794363 & 0.04136489 &  11.590418 & 1.537768e-27 &  0.3981564 &  0.5607163\\\\\n",
       "\t GovEff          &  0.4259060 & 0.04402412 &   9.674378 & 2.472628e-20 &  0.3394008 &  0.5124112\\\\\n",
       "\t PolSta          &  0.1846111 & 0.03866572 &   4.774540 & 2.399794e-06 &  0.1086349 &  0.2605873\\\\\n",
       "\t adult\\_mortality & -0.4151709 & 0.04092685 & -10.144218 & 5.009579e-22 & -0.4955901 & -0.3347517\\\\\n",
       "\\end{tabular}\n"
      ],
      "text/markdown": [
       "\n",
       "A tibble: 5 × 7\n",
       "\n",
       "| term &lt;chr&gt; | estimate &lt;dbl&gt; | std.error &lt;dbl&gt; | statistic &lt;dbl&gt; | p.value &lt;dbl&gt; | conf.low &lt;dbl&gt; | conf.high &lt;dbl&gt; |\n",
       "|---|---|---|---|---|---|---|\n",
       "| (Intercept)     |  8.2199705 | 0.03207236 | 256.294528 | 0.000000e+00 |  8.1569499 |  8.2829911 |\n",
       "| literacy        |  0.4794363 | 0.04136489 |  11.590418 | 1.537768e-27 |  0.3981564 |  0.5607163 |\n",
       "| GovEff          |  0.4259060 | 0.04402412 |   9.674378 | 2.472628e-20 |  0.3394008 |  0.5124112 |\n",
       "| PolSta          |  0.1846111 | 0.03866572 |   4.774540 | 2.399794e-06 |  0.1086349 |  0.2605873 |\n",
       "| adult_mortality | -0.4151709 | 0.04092685 | -10.144218 | 5.009579e-22 | -0.4955901 | -0.3347517 |\n",
       "\n"
      ],
      "text/plain": [
       "  term            estimate   std.error  statistic  p.value      conf.low  \n",
       "1 (Intercept)      8.2199705 0.03207236 256.294528 0.000000e+00  8.1569499\n",
       "2 literacy         0.4794363 0.04136489  11.590418 1.537768e-27  0.3981564\n",
       "3 GovEff           0.4259060 0.04402412   9.674378 2.472628e-20  0.3394008\n",
       "4 PolSta           0.1846111 0.03866572   4.774540 2.399794e-06  0.1086349\n",
       "5 adult_mortality -0.4151709 0.04092685 -10.144218 5.009579e-22 -0.4955901\n",
       "  conf.high \n",
       "1  8.2829911\n",
       "2  0.5607163\n",
       "3  0.5124112\n",
       "4  0.2605873\n",
       "5 -0.3347517"
      ]
     },
     "metadata": {},
     "output_type": "display_data"
    }
   ],
   "source": [
    "model_log <- lm(scaled_data_log)\n",
    "tidy(model_log,conf.int = TRUE )"
   ]
  },
  {
   "cell_type": "code",
   "execution_count": 59,
   "metadata": {},
   "outputs": [
    {
     "data": {
      "text/html": [
       "<dl class=dl-horizontal>\n",
       "\t<dt>literacy</dt>\n",
       "\t\t<dd>1.65996879847755</dd>\n",
       "\t<dt>GovEff</dt>\n",
       "\t\t<dd>1.88025839796805</dd>\n",
       "\t<dt>PolSta</dt>\n",
       "\t\t<dd>1.45040218404862</dd>\n",
       "\t<dt>adult_mortality</dt>\n",
       "\t\t<dd>1.6249977427526</dd>\n",
       "</dl>\n"
      ],
      "text/latex": [
       "\\begin{description*}\n",
       "\\item[literacy] 1.65996879847755\n",
       "\\item[GovEff] 1.88025839796805\n",
       "\\item[PolSta] 1.45040218404862\n",
       "\\item[adult\\textbackslash{}\\_mortality] 1.6249977427526\n",
       "\\end{description*}\n"
      ],
      "text/markdown": [
       "literacy\n",
       ":   1.65996879847755GovEff\n",
       ":   1.88025839796805PolSta\n",
       ":   1.45040218404862adult_mortality\n",
       ":   1.6249977427526\n",
       "\n"
      ],
      "text/plain": [
       "       literacy          GovEff          PolSta adult_mortality \n",
       "       1.659969        1.880258        1.450402        1.624998 "
      ]
     },
     "metadata": {},
     "output_type": "display_data"
    }
   ],
   "source": [
    "car::vif(model_log)"
   ]
  },
  {
   "cell_type": "code",
   "execution_count": 60,
   "metadata": {},
   "outputs": [
    {
     "data": {
      "text/html": [
       "<table>\n",
       "<caption>A tibble: 1 × 11</caption>\n",
       "<thead>\n",
       "\t<tr><th scope=col>r.squared</th><th scope=col>adj.r.squared</th><th scope=col>sigma</th><th scope=col>statistic</th><th scope=col>p.value</th><th scope=col>df</th><th scope=col>logLik</th><th scope=col>AIC</th><th scope=col>BIC</th><th scope=col>deviance</th><th scope=col>df.residual</th></tr>\n",
       "\t<tr><th scope=col>&lt;dbl&gt;</th><th scope=col>&lt;dbl&gt;</th><th scope=col>&lt;dbl&gt;</th><th scope=col>&lt;dbl&gt;</th><th scope=col>&lt;dbl&gt;</th><th scope=col>&lt;int&gt;</th><th scope=col>&lt;dbl&gt;</th><th scope=col>&lt;dbl&gt;</th><th scope=col>&lt;dbl&gt;</th><th scope=col>&lt;dbl&gt;</th><th scope=col>&lt;int&gt;</th></tr>\n",
       "</thead>\n",
       "<tbody>\n",
       "\t<tr><td>0.7406767</td><td>0.738502</td><td>0.7041326</td><td>340.6006</td><td>2.823517e-138</td><td>5</td><td>-512.3352</td><td>1036.67</td><td>1061.738</td><td>236.4979</td><td>477</td></tr>\n",
       "</tbody>\n",
       "</table>\n"
      ],
      "text/latex": [
       "A tibble: 1 × 11\n",
       "\\begin{tabular}{r|lllllllllll}\n",
       " r.squared & adj.r.squared & sigma & statistic & p.value & df & logLik & AIC & BIC & deviance & df.residual\\\\\n",
       " <dbl> & <dbl> & <dbl> & <dbl> & <dbl> & <int> & <dbl> & <dbl> & <dbl> & <dbl> & <int>\\\\\n",
       "\\hline\n",
       "\t 0.7406767 & 0.738502 & 0.7041326 & 340.6006 & 2.823517e-138 & 5 & -512.3352 & 1036.67 & 1061.738 & 236.4979 & 477\\\\\n",
       "\\end{tabular}\n"
      ],
      "text/markdown": [
       "\n",
       "A tibble: 1 × 11\n",
       "\n",
       "| r.squared &lt;dbl&gt; | adj.r.squared &lt;dbl&gt; | sigma &lt;dbl&gt; | statistic &lt;dbl&gt; | p.value &lt;dbl&gt; | df &lt;int&gt; | logLik &lt;dbl&gt; | AIC &lt;dbl&gt; | BIC &lt;dbl&gt; | deviance &lt;dbl&gt; | df.residual &lt;int&gt; |\n",
       "|---|---|---|---|---|---|---|---|---|---|---|\n",
       "| 0.7406767 | 0.738502 | 0.7041326 | 340.6006 | 2.823517e-138 | 5 | -512.3352 | 1036.67 | 1061.738 | 236.4979 | 477 |\n",
       "\n"
      ],
      "text/plain": [
       "  r.squared adj.r.squared sigma     statistic p.value       df logLik   \n",
       "1 0.7406767 0.738502      0.7041326 340.6006  2.823517e-138 5  -512.3352\n",
       "  AIC     BIC      deviance df.residual\n",
       "1 1036.67 1061.738 236.4979 477        "
      ]
     },
     "metadata": {},
     "output_type": "display_data"
    }
   ],
   "source": [
    "glance(model_log)"
   ]
  },
  {
   "cell_type": "markdown",
   "metadata": {},
   "source": [
    "## Final Conclusion:\n",
    "\n",
    "* Taking log of `gdpPerCap` has increased the coefficient of determination from 0.44 to 0.74 which is a big improvement. So we can say the log model  better fits the data as compared to the simple model.\n",
    "* The significance of all the coefficient has increased by a good margin and the standard error has decreased drastically.\n",
    "* There has been complete reversal in the result about the importance of the variable. Literacy which was insignificant in the earlier model, has become the most important feature impacting GDP per capita of a country. The positive coefficient indicates that as the literacy increases the GDP per capita of a country increases.\n",
    "* The next most important variable is adult mortality. The negative coefficient indicates that as the adult mortality increases GDP per capita decreases.\n",
    "* Just slightly below adult mortality is government effectiveness. The effectiveness of the government will lead to increase in the GDP per capita of the country.\n",
    "* Out of these 4 important variables, political stability ranks the lowest. As the political stability of a country will increase, GDP per capita will increase.\n",
    "* The ranking of the features according to their impact on GDP per capita of the country is:\n",
    "    1. Literacy (1st)\n",
    "    2. Adult mortality (2nd)\n",
    "    3. Government Effectiveness (3rd)\n",
    "    4. Political Stability (4th)"
   ]
  },
  {
   "cell_type": "markdown",
   "metadata": {},
   "source": [
    "## Questions for Gaby\n",
    "1. Do I need to consider heteroscadicity. What are the problems associated with this?\n",
    "2. Am I missing any analysis\n",
    "3. Error term normal distribution\n",
    "4. Is it right to see the t statistic to interpret importance\n",
    "5. Do I need to also consider the confidence interval "
   ]
  },
  {
   "cell_type": "code",
   "execution_count": 61,
   "metadata": {},
   "outputs": [
    {
     "data": {
      "text/html": [
       "<table>\n",
       "<caption>A data.frame: 6 × 5</caption>\n",
       "<thead>\n",
       "\t<tr><th></th><th scope=col>gdpPerCap</th><th scope=col>literacy</th><th scope=col>GovEff</th><th scope=col>PolSta</th><th scope=col>adult_mortality</th></tr>\n",
       "\t<tr><th></th><th scope=col>&lt;dbl&gt;</th><th scope=col>&lt;dbl&gt;</th><th scope=col>&lt;dbl&gt;</th><th scope=col>&lt;dbl&gt;</th><th scope=col>&lt;dbl&gt;</th></tr>\n",
       "</thead>\n",
       "<tbody>\n",
       "\t<tr><th scope=row>7332</th><td>4.916061</td><td>-1.1698690</td><td>-1.70043132</td><td>-2.05736877</td><td> 1.81835304</td></tr>\n",
       "\t<tr><th scope=row>7340</th><td>7.291504</td><td> 0.7173944</td><td>-0.93597972</td><td>-0.30145492</td><td>-0.53259268</td></tr>\n",
       "\t<tr><th scope=row>7345</th><td>8.229445</td><td> 0.1973177</td><td> 0.36832359</td><td> 0.53973426</td><td> 0.01142782</td></tr>\n",
       "\t<tr><th scope=row>7350</th><td>5.526277</td><td>-1.6072620</td><td>-1.61690340</td><td>-1.00278202</td><td> 3.38241196</td></tr>\n",
       "\t<tr><th scope=row>7356</th><td>6.866279</td><td> 0.4272847</td><td> 0.08416409</td><td> 0.07304369</td><td>-0.70745641</td></tr>\n",
       "\t<tr><th scope=row>7358</th><td>6.476960</td><td>-0.7098907</td><td>-0.81352254</td><td>-0.34436866</td><td> 2.22636841</td></tr>\n",
       "</tbody>\n",
       "</table>\n"
      ],
      "text/latex": [
       "A data.frame: 6 × 5\n",
       "\\begin{tabular}{r|lllll}\n",
       "  & gdpPerCap & literacy & GovEff & PolSta & adult\\_mortality\\\\\n",
       "  & <dbl> & <dbl> & <dbl> & <dbl> & <dbl>\\\\\n",
       "\\hline\n",
       "\t7332 & 4.916061 & -1.1698690 & -1.70043132 & -2.05736877 &  1.81835304\\\\\n",
       "\t7340 & 7.291504 &  0.7173944 & -0.93597972 & -0.30145492 & -0.53259268\\\\\n",
       "\t7345 & 8.229445 &  0.1973177 &  0.36832359 &  0.53973426 &  0.01142782\\\\\n",
       "\t7350 & 5.526277 & -1.6072620 & -1.61690340 & -1.00278202 &  3.38241196\\\\\n",
       "\t7356 & 6.866279 &  0.4272847 &  0.08416409 &  0.07304369 & -0.70745641\\\\\n",
       "\t7358 & 6.476960 & -0.7098907 & -0.81352254 & -0.34436866 &  2.22636841\\\\\n",
       "\\end{tabular}\n"
      ],
      "text/markdown": [
       "\n",
       "A data.frame: 6 × 5\n",
       "\n",
       "| <!--/--> | gdpPerCap &lt;dbl&gt; | literacy &lt;dbl&gt; | GovEff &lt;dbl&gt; | PolSta &lt;dbl&gt; | adult_mortality &lt;dbl&gt; |\n",
       "|---|---|---|---|---|---|\n",
       "| 7332 | 4.916061 | -1.1698690 | -1.70043132 | -2.05736877 |  1.81835304 |\n",
       "| 7340 | 7.291504 |  0.7173944 | -0.93597972 | -0.30145492 | -0.53259268 |\n",
       "| 7345 | 8.229445 |  0.1973177 |  0.36832359 |  0.53973426 |  0.01142782 |\n",
       "| 7350 | 5.526277 | -1.6072620 | -1.61690340 | -1.00278202 |  3.38241196 |\n",
       "| 7356 | 6.866279 |  0.4272847 |  0.08416409 |  0.07304369 | -0.70745641 |\n",
       "| 7358 | 6.476960 | -0.7098907 | -0.81352254 | -0.34436866 |  2.22636841 |\n",
       "\n"
      ],
      "text/plain": [
       "     gdpPerCap literacy   GovEff      PolSta      adult_mortality\n",
       "7332 4.916061  -1.1698690 -1.70043132 -2.05736877  1.81835304    \n",
       "7340 7.291504   0.7173944 -0.93597972 -0.30145492 -0.53259268    \n",
       "7345 8.229445   0.1973177  0.36832359  0.53973426  0.01142782    \n",
       "7350 5.526277  -1.6072620 -1.61690340 -1.00278202  3.38241196    \n",
       "7356 6.866279   0.4272847  0.08416409  0.07304369 -0.70745641    \n",
       "7358 6.476960  -0.7098907 -0.81352254 -0.34436866  2.22636841    "
      ]
     },
     "metadata": {},
     "output_type": "display_data"
    }
   ],
   "source": [
    "scaled_data_log %>% head()"
   ]
  },
  {
   "cell_type": "code",
   "execution_count": 78,
   "metadata": {},
   "outputs": [
    {
     "data": {
      "image/png": "[encoded data removed]",
      "text/plain": [
       "plot without title"
      ]
     },
     "metadata": {},
     "output_type": "display_data"
    }
   ],
   "source": [
    "all_data %>% ggplot()+\n",
    "    geom_density(aes(x = gdpPerCap))+\n",
    "    xlab('GDP per Capita(in USD)')+\n",
    "    ylab('Density')+\n",
    "    scale_x_continuous(labels=scales::comma)+\n",
    "    ggtitle('Density functon of GDP per Capita')+theme_bw()"
   ]
  },
  {
   "cell_type": "code",
   "execution_count": 79,
   "metadata": {},
   "outputs": [
    {
     "data": {
      "image/png": "[encoded data removed]",
      "text/plain": [
       "plot without title"
      ]
     },
     "metadata": {},
     "output_type": "display_data"
    }
   ],
   "source": [
    "all_data %>% ggplot()+\n",
    "    geom_density(aes(x = log(gdpPerCap)))"
   ]
  },
  {
   "cell_type": "code",
   "execution_count": 80,
   "metadata": {},
   "outputs": [],
   "source": [
    "glm_model = glm(gdpPerCap~.,data = scaled_data,family = Gamma(link='log') )"
   ]
  },
  {
   "cell_type": "code",
   "execution_count": 81,
   "metadata": {},
   "outputs": [
    {
     "data": {
      "text/html": [
       "<table>\n",
       "<caption>A tibble: 5 × 5</caption>\n",
       "<thead>\n",
       "\t<tr><th scope=col>term</th><th scope=col>estimate</th><th scope=col>std.error</th><th scope=col>statistic</th><th scope=col>p.value</th></tr>\n",
       "\t<tr><th scope=col>&lt;chr&gt;</th><th scope=col>&lt;dbl&gt;</th><th scope=col>&lt;dbl&gt;</th><th scope=col>&lt;dbl&gt;</th><th scope=col>&lt;dbl&gt;</th></tr>\n",
       "</thead>\n",
       "<tbody>\n",
       "\t<tr><td>(Intercept)    </td><td> 8.4817210</td><td>0.04240629</td><td>200.010903</td><td>0.000000e+00</td></tr>\n",
       "\t<tr><td>literacy       </td><td> 0.5140057</td><td>0.05469294</td><td>  9.398026</td><td>2.315787e-19</td></tr>\n",
       "\t<tr><td>GovEff         </td><td> 0.3043761</td><td>0.05820899</td><td>  5.229022</td><td>2.554803e-07</td></tr>\n",
       "\t<tr><td>PolSta         </td><td> 0.2402574</td><td>0.05112408</td><td>  4.699496</td><td>3.417333e-06</td></tr>\n",
       "\t<tr><td>adult_mortality</td><td>-0.3911398</td><td>0.05411375</td><td> -7.228104</td><td>1.957676e-12</td></tr>\n",
       "</tbody>\n",
       "</table>\n"
      ],
      "text/latex": [
       "A tibble: 5 × 5\n",
       "\\begin{tabular}{r|lllll}\n",
       " term & estimate & std.error & statistic & p.value\\\\\n",
       " <chr> & <dbl> & <dbl> & <dbl> & <dbl>\\\\\n",
       "\\hline\n",
       "\t (Intercept)     &  8.4817210 & 0.04240629 & 200.010903 & 0.000000e+00\\\\\n",
       "\t literacy        &  0.5140057 & 0.05469294 &   9.398026 & 2.315787e-19\\\\\n",
       "\t GovEff          &  0.3043761 & 0.05820899 &   5.229022 & 2.554803e-07\\\\\n",
       "\t PolSta          &  0.2402574 & 0.05112408 &   4.699496 & 3.417333e-06\\\\\n",
       "\t adult\\_mortality & -0.3911398 & 0.05411375 &  -7.228104 & 1.957676e-12\\\\\n",
       "\\end{tabular}\n"
      ],
      "text/markdown": [
       "\n",
       "A tibble: 5 × 5\n",
       "\n",
       "| term &lt;chr&gt; | estimate &lt;dbl&gt; | std.error &lt;dbl&gt; | statistic &lt;dbl&gt; | p.value &lt;dbl&gt; |\n",
       "|---|---|---|---|---|\n",
       "| (Intercept)     |  8.4817210 | 0.04240629 | 200.010903 | 0.000000e+00 |\n",
       "| literacy        |  0.5140057 | 0.05469294 |   9.398026 | 2.315787e-19 |\n",
       "| GovEff          |  0.3043761 | 0.05820899 |   5.229022 | 2.554803e-07 |\n",
       "| PolSta          |  0.2402574 | 0.05112408 |   4.699496 | 3.417333e-06 |\n",
       "| adult_mortality | -0.3911398 | 0.05411375 |  -7.228104 | 1.957676e-12 |\n",
       "\n"
      ],
      "text/plain": [
       "  term            estimate   std.error  statistic  p.value     \n",
       "1 (Intercept)      8.4817210 0.04240629 200.010903 0.000000e+00\n",
       "2 literacy         0.5140057 0.05469294   9.398026 2.315787e-19\n",
       "3 GovEff           0.3043761 0.05820899   5.229022 2.554803e-07\n",
       "4 PolSta           0.2402574 0.05112408   4.699496 3.417333e-06\n",
       "5 adult_mortality -0.3911398 0.05411375  -7.228104 1.957676e-12"
      ]
     },
     "metadata": {},
     "output_type": "display_data"
    }
   ],
   "source": [
    "tidy(glm_model)"
   ]
  },
  {
   "cell_type": "code",
   "execution_count": 82,
   "metadata": {},
   "outputs": [
    {
     "data": {
      "text/html": [
       "<table>\n",
       "<caption>A tibble: 1 × 7</caption>\n",
       "<thead>\n",
       "\t<tr><th scope=col>null.deviance</th><th scope=col>df.null</th><th scope=col>logLik</th><th scope=col>AIC</th><th scope=col>BIC</th><th scope=col>deviance</th><th scope=col>df.residual</th></tr>\n",
       "\t<tr><th scope=col>&lt;dbl&gt;</th><th scope=col>&lt;int&gt;</th><th scope=col>&lt;dbl&gt;</th><th scope=col>&lt;dbl&gt;</th><th scope=col>&lt;dbl&gt;</th><th scope=col>&lt;dbl&gt;</th><th scope=col>&lt;int&gt;</th></tr>\n",
       "</thead>\n",
       "<tbody>\n",
       "\t<tr><td>804.0626</td><td>481</td><td>-4510.823</td><td>9033.646</td><td>9058.713</td><td>252.3275</td><td>477</td></tr>\n",
       "</tbody>\n",
       "</table>\n"
      ],
      "text/latex": [
       "A tibble: 1 × 7\n",
       "\\begin{tabular}{r|lllllll}\n",
       " null.deviance & df.null & logLik & AIC & BIC & deviance & df.residual\\\\\n",
       " <dbl> & <int> & <dbl> & <dbl> & <dbl> & <dbl> & <int>\\\\\n",
       "\\hline\n",
       "\t 804.0626 & 481 & -4510.823 & 9033.646 & 9058.713 & 252.3275 & 477\\\\\n",
       "\\end{tabular}\n"
      ],
      "text/markdown": [
       "\n",
       "A tibble: 1 × 7\n",
       "\n",
       "| null.deviance &lt;dbl&gt; | df.null &lt;int&gt; | logLik &lt;dbl&gt; | AIC &lt;dbl&gt; | BIC &lt;dbl&gt; | deviance &lt;dbl&gt; | df.residual &lt;int&gt; |\n",
       "|---|---|---|---|---|---|---|\n",
       "| 804.0626 | 481 | -4510.823 | 9033.646 | 9058.713 | 252.3275 | 477 |\n",
       "\n"
      ],
      "text/plain": [
       "  null.deviance df.null logLik    AIC      BIC      deviance df.residual\n",
       "1 804.0626      481     -4510.823 9033.646 9058.713 252.3275 477        "
      ]
     },
     "metadata": {},
     "output_type": "display_data"
    }
   ],
   "source": [
    "glance(glm_model)"
   ]
  },
  {
   "cell_type": "code",
   "execution_count": 83,
   "metadata": {},
   "outputs": [
    {
     "data": {
      "text/html": [
       "<table>\n",
       "<caption>A tibble: 1 × 11</caption>\n",
       "<thead>\n",
       "\t<tr><th scope=col>r.squared</th><th scope=col>adj.r.squared</th><th scope=col>sigma</th><th scope=col>statistic</th><th scope=col>p.value</th><th scope=col>df</th><th scope=col>logLik</th><th scope=col>AIC</th><th scope=col>BIC</th><th scope=col>deviance</th><th scope=col>df.residual</th></tr>\n",
       "\t<tr><th scope=col>&lt;dbl&gt;</th><th scope=col>&lt;dbl&gt;</th><th scope=col>&lt;dbl&gt;</th><th scope=col>&lt;dbl&gt;</th><th scope=col>&lt;dbl&gt;</th><th scope=col>&lt;int&gt;</th><th scope=col>&lt;dbl&gt;</th><th scope=col>&lt;dbl&gt;</th><th scope=col>&lt;dbl&gt;</th><th scope=col>&lt;dbl&gt;</th><th scope=col>&lt;int&gt;</th></tr>\n",
       "</thead>\n",
       "<tbody>\n",
       "\t<tr><td>0.7406767</td><td>0.738502</td><td>0.7041326</td><td>340.6006</td><td>2.823517e-138</td><td>5</td><td>-512.3352</td><td>1036.67</td><td>1061.738</td><td>236.4979</td><td>477</td></tr>\n",
       "</tbody>\n",
       "</table>\n"
      ],
      "text/latex": [
       "A tibble: 1 × 11\n",
       "\\begin{tabular}{r|lllllllllll}\n",
       " r.squared & adj.r.squared & sigma & statistic & p.value & df & logLik & AIC & BIC & deviance & df.residual\\\\\n",
       " <dbl> & <dbl> & <dbl> & <dbl> & <dbl> & <int> & <dbl> & <dbl> & <dbl> & <dbl> & <int>\\\\\n",
       "\\hline\n",
       "\t 0.7406767 & 0.738502 & 0.7041326 & 340.6006 & 2.823517e-138 & 5 & -512.3352 & 1036.67 & 1061.738 & 236.4979 & 477\\\\\n",
       "\\end{tabular}\n"
      ],
      "text/markdown": [
       "\n",
       "A tibble: 1 × 11\n",
       "\n",
       "| r.squared &lt;dbl&gt; | adj.r.squared &lt;dbl&gt; | sigma &lt;dbl&gt; | statistic &lt;dbl&gt; | p.value &lt;dbl&gt; | df &lt;int&gt; | logLik &lt;dbl&gt; | AIC &lt;dbl&gt; | BIC &lt;dbl&gt; | deviance &lt;dbl&gt; | df.residual &lt;int&gt; |\n",
       "|---|---|---|---|---|---|---|---|---|---|---|\n",
       "| 0.7406767 | 0.738502 | 0.7041326 | 340.6006 | 2.823517e-138 | 5 | -512.3352 | 1036.67 | 1061.738 | 236.4979 | 477 |\n",
       "\n"
      ],
      "text/plain": [
       "  r.squared adj.r.squared sigma     statistic p.value       df logLik   \n",
       "1 0.7406767 0.738502      0.7041326 340.6006  2.823517e-138 5  -512.3352\n",
       "  AIC     BIC      deviance df.residual\n",
       "1 1036.67 1061.738 236.4979 477        "
      ]
     },
     "metadata": {},
     "output_type": "display_data"
    }
   ],
   "source": [
    "glance(model_log)"
   ]
  },
  {
   "cell_type": "code",
   "execution_count": 84,
   "metadata": {},
   "outputs": [
    {
     "data": {
      "text/html": [
       "<ol class=list-inline>\n",
       "\t<li>(Intercept)</li>\n",
       "\t<li>literacy</li>\n",
       "\t<li>GovEff</li>\n",
       "\t<li>PolSta</li>\n",
       "\t<li>adult_mortality</li>\n",
       "</ol>\n",
       "\n",
       "<details>\n",
       "\t<summary style=display:list-item;cursor:pointer>\n",
       "\t\t<strong>Levels</strong>:\n",
       "\t</summary>\n",
       "\t<ol class=list-inline>\n",
       "\t\t<li>'PolSta'</li>\n",
       "\t\t<li>'GovEff'</li>\n",
       "\t\t<li>'adult_mortality'</li>\n",
       "\t\t<li>'literacy'</li>\n",
       "\t\t<li>'(Intercept)'</li>\n",
       "\t</ol>\n",
       "</details>"
      ],
      "text/latex": [
       "\\begin{enumerate*}\n",
       "\\item (Intercept)\n",
       "\\item literacy\n",
       "\\item GovEff\n",
       "\\item PolSta\n",
       "\\item adult\\_mortality\n",
       "\\end{enumerate*}\n",
       "\n",
       "\\emph{Levels}: \\begin{enumerate*}\n",
       "\\item 'PolSta'\n",
       "\\item 'GovEff'\n",
       "\\item 'adult\\_mortality'\n",
       "\\item 'literacy'\n",
       "\\item '(Intercept)'\n",
       "\\end{enumerate*}\n"
      ],
      "text/markdown": [
       "1. (Intercept)\n",
       "2. literacy\n",
       "3. GovEff\n",
       "4. PolSta\n",
       "5. adult_mortality\n",
       "\n",
       "\n",
       "\n",
       "**Levels**: 1. 'PolSta'\n",
       "2. 'GovEff'\n",
       "3. 'adult_mortality'\n",
       "4. 'literacy'\n",
       "5. '(Intercept)'\n",
       "\n",
       "\n"
      ],
      "text/plain": [
       "[1] (Intercept)     literacy        GovEff          PolSta         \n",
       "[5] adult_mortality\n",
       "Levels: PolSta GovEff adult_mortality literacy (Intercept)"
      ]
     },
     "metadata": {},
     "output_type": "display_data"
    }
   ],
   "source": [
    "term_r <- fct_reorder(tidy(glm_model)$term,abs(tidy(glm_model)$statistic),.desc = FALSE)\n",
    "term_r"
   ]
  },
  {
   "cell_type": "code",
   "execution_count": 85,
   "metadata": {},
   "outputs": [
    {
     "data": {
      "image/png": "[encoded data removed]",
      "text/plain": [
       "plot without title"
      ]
     },
     "metadata": {},
     "output_type": "display_data"
    }
   ],
   "source": [
    "rank_glm <- tidy(glm_model) %>%\n",
    "    mutate(term = term_r) %>%\n",
    "    filter(term != '(Intercept)') %>%\n",
    "    arrange(desc(statistic)) %>%\n",
    "    ggplot()+\n",
    "    geom_col(aes(x = term, y = abs(statistic)),width = 0.5)+\n",
    "    coord_flip()+\n",
    "    ylab('Importance(absolute value of t statistic)')+\n",
    "    xlab('')+\n",
    "    ggtitle('Feature Importance(GLM)')+\n",
    "    scale_x_discrete(labels = c('Political Stability','Government Effectiveness','Adult Mortality','Literacy'))\n",
    "\n",
    "rank_lm <- tidy(model_log) %>%\n",
    "    mutate(term = term_r) %>%\n",
    "    filter(term != '(Intercept)') %>%\n",
    "    arrange(desc(statistic)) %>%\n",
    "    ggplot()+\n",
    "    geom_col(aes(x = term, y = abs(statistic)), width = 0.5)+\n",
    "    coord_flip()+\n",
    "    ylab('Importance(absolute value of t statistic)')+\n",
    "    xlab('')+\n",
    "    ggtitle('Feature Importance(Linear Model)')+\n",
    "    scale_x_discrete(labels = c('Political Stability','Government Effectiveness','Adult Mortality','Literacy'))\n",
    "\n",
    "options(repr.plot.height = 5, repr.plot.width = 10)\n",
    "grid.arrange(rank_glm+theme_bw(),rank_lm+theme_bw(),ncol = 2)"
   ]
  },
  {
   "cell_type": "code",
   "execution_count": 86,
   "metadata": {},
   "outputs": [
    {
     "name": "stderr",
     "output_type": "stream",
     "text": [
      "Warning message:\n",
      "“Removed 9736 rows containing missing values (geom_point).”Warning message:\n",
      "“Removed 9427 rows containing missing values (geom_point).”Warning message:\n",
      "“Removed 8191 rows containing missing values (geom_point).”Warning message:\n",
      "“Removed 8169 rows containing missing values (geom_point).”"
     ]
    },
    {
     "data": {
      "image/png": "[encoded data removed]",
      "text/plain": [
       "plot without title"
      ]
     },
     "metadata": {},
     "output_type": "display_data"
    }
   ],
   "source": [
    "lit_plot <- all_data %>%\n",
    "    ggplot(aes(x=literacy,y= gdpPerCap))+\n",
    "    geom_point(alpha =0.3)+\n",
    "    scale_y_log10(labels=scales::comma)+\n",
    "    ylab('GDP per Capita(in USD)')+\n",
    "    xlab('Literacy rate(%)')+\n",
    "    ggtitle('Variation with Literacy rate(Log Scale)')\n",
    "\n",
    "am_plot <- all_data %>%\n",
    "    ggplot(aes(x=adult_mortality/10,y= gdpPerCap))+\n",
    "    geom_point(alpha =0.3)+\n",
    "    scale_y_log10(labels=scales::comma)+\n",
    "    ylab('GDP per Capita(in USD)')+\n",
    "    xlab('Adult mortatlity rate(%)')+\n",
    "    ggtitle('Variation with Adult mortality rate(Log Scale)')\n",
    "\n",
    "ge_plot <- all_data %>%\n",
    "    ggplot(aes(x=GovEff,y= gdpPerCap))+\n",
    "    geom_point(alpha =0.3)+\n",
    "    scale_y_log10(labels=scales::comma)+\n",
    "    ylab('GDP per Capita(in USD)')+\n",
    "    xlab('Government Effectiveness score')+\n",
    "    ggtitle('Variation with Government effectiveness(Log Scale)')+theme_bw()\n",
    "\n",
    "ps_plot <- all_data %>%\n",
    "    ggplot(aes(x=PolSta,y= gdpPerCap))+\n",
    "    geom_point(alpha =0.3)+\n",
    "    scale_y_log10(labels=scales::comma)+\n",
    "    ylab('GDP per Capita(in USD)')+\n",
    "    xlab('Political Stability score')+\n",
    "    ggtitle('Variation with Political Stability(Log Scale)')\n",
    "\n",
    "\n",
    "options(repr.plot.height = 5, repr.plot.width = 10)\n",
    "grid.arrange(lit_plot+theme_bw(),am_plot+theme_bw(),ge_plot+theme_bw(),ps_plot+theme_bw(),ncol = 2,nrow=2)"
   ]
  },
  {
   "cell_type": "code",
   "execution_count": 87,
   "metadata": {},
   "outputs": [
    {
     "name": "stdout",
     "output_type": "stream",
     "text": [
      "[1] \"no. of rows =  457\"\n"
     ]
    },
    {
     "data": {
      "text/html": [
       "<table>\n",
       "<caption>A matrix: 2 × 2 of type dbl</caption>\n",
       "<thead>\n",
       "\t<tr><th></th><th scope=col>literacy</th><th scope=col>below_poverty</th></tr>\n",
       "</thead>\n",
       "<tbody>\n",
       "\t<tr><th scope=row>literacy</th><td> 1.0000000</td><td>-0.7995318</td></tr>\n",
       "\t<tr><th scope=row>below_poverty</th><td>-0.7995318</td><td> 1.0000000</td></tr>\n",
       "</tbody>\n",
       "</table>\n"
      ],
      "text/latex": [
       "A matrix: 2 × 2 of type dbl\n",
       "\\begin{tabular}{r|ll}\n",
       "  & literacy & below\\_poverty\\\\\n",
       "\\hline\n",
       "\tliteracy &  1.0000000 & -0.7995318\\\\\n",
       "\tbelow\\_poverty & -0.7995318 &  1.0000000\\\\\n",
       "\\end{tabular}\n"
      ],
      "text/markdown": [
       "\n",
       "A matrix: 2 × 2 of type dbl\n",
       "\n",
       "| <!--/--> | literacy | below_poverty |\n",
       "|---|---|---|\n",
       "| literacy |  1.0000000 | -0.7995318 |\n",
       "| below_poverty | -0.7995318 |  1.0000000 |\n",
       "\n"
      ],
      "text/plain": [
       "              literacy   below_poverty\n",
       "literacy       1.0000000 -0.7995318   \n",
       "below_poverty -0.7995318  1.0000000   "
      ]
     },
     "metadata": {},
     "output_type": "display_data"
    }
   ],
   "source": [
    "calc_cor(literacy,below_poverty)"
   ]
  },
  {
   "cell_type": "code",
   "execution_count": 88,
   "metadata": {},
   "outputs": [
    {
     "name": "stderr",
     "output_type": "stream",
     "text": [
      "corrplot 0.84 loaded\n"
     ]
    },
    {
     "name": "stdout",
     "output_type": "stream",
     "text": [
      "[1] \"no. of rows =  33\"\n"
     ]
    },
    {
     "data": {
      "image/png": "[encoded data removed]",
      "text/plain": [
       "Plot with title “”"
      ]
     },
     "metadata": {},
     "output_type": "display_data"
    }
   ],
   "source": [
    "library(corrplot)\n",
    "corrplot(calc_cor(4,5,7,8,11,12,13,14), type = \"upper\", order = \"hclust\", \n",
    "         tl.col = \"black\", tl.srt = 45)"
   ]
  },
  {
   "cell_type": "code",
   "execution_count": 89,
   "metadata": {},
   "outputs": [
    {
     "name": "stdout",
     "output_type": "stream",
     "text": [
      "[1] \"no. of rows =  33\"\n"
     ]
    },
    {
     "data": {
      "text/html": [
       "<table>\n",
       "<caption>A matrix: 8 × 8 of type dbl</caption>\n",
       "<thead>\n",
       "\t<tr><th></th><th scope=col>gdpPerCap</th><th scope=col>literacy</th><th scope=col>under_slum</th><th scope=col>below_poverty</th><th scope=col>Corruption</th><th scope=col>GovEff</th><th scope=col>PolSta</th><th scope=col>adult_mortality</th></tr>\n",
       "</thead>\n",
       "<tbody>\n",
       "\t<tr><th scope=row>gdpPerCap</th><td> 1.0000000</td><td> 0.6139620</td><td>-0.7323959</td><td>-0.8031005</td><td> 0.49250822</td><td> 0.71533006</td><td> 0.33672158</td><td>-0.6102630</td></tr>\n",
       "\t<tr><th scope=row>literacy</th><td> 0.6139620</td><td> 1.0000000</td><td>-0.8196033</td><td>-0.8144164</td><td> 0.34875600</td><td> 0.49943838</td><td> 0.18417907</td><td>-0.5773224</td></tr>\n",
       "\t<tr><th scope=row>under_slum</th><td>-0.7323959</td><td>-0.8196033</td><td> 1.0000000</td><td> 0.8556470</td><td>-0.38377983</td><td>-0.63305809</td><td>-0.17286795</td><td> 0.7145471</td></tr>\n",
       "\t<tr><th scope=row>below_poverty</th><td>-0.8031005</td><td>-0.8144164</td><td> 0.8556470</td><td> 1.0000000</td><td>-0.42322369</td><td>-0.49753401</td><td>-0.31063888</td><td> 0.8180963</td></tr>\n",
       "\t<tr><th scope=row>Corruption</th><td> 0.4925082</td><td> 0.3487560</td><td>-0.3837798</td><td>-0.4232237</td><td> 1.00000000</td><td> 0.67938944</td><td>-0.06933345</td><td>-0.3374632</td></tr>\n",
       "\t<tr><th scope=row>GovEff</th><td> 0.7153301</td><td> 0.4994384</td><td>-0.6330581</td><td>-0.4975340</td><td> 0.67938944</td><td> 1.00000000</td><td>-0.03142046</td><td>-0.4063070</td></tr>\n",
       "\t<tr><th scope=row>PolSta</th><td> 0.3367216</td><td> 0.1841791</td><td>-0.1728679</td><td>-0.3106389</td><td>-0.06933345</td><td>-0.03142046</td><td> 1.00000000</td><td>-0.1257701</td></tr>\n",
       "\t<tr><th scope=row>adult_mortality</th><td>-0.6102630</td><td>-0.5773224</td><td> 0.7145471</td><td> 0.8180963</td><td>-0.33746322</td><td>-0.40630696</td><td>-0.12577007</td><td> 1.0000000</td></tr>\n",
       "</tbody>\n",
       "</table>\n"
      ],
      "text/latex": [
       "A matrix: 8 × 8 of type dbl\n",
       "\\begin{tabular}{r|llllllll}\n",
       "  & gdpPerCap & literacy & under\\_slum & below\\_poverty & Corruption & GovEff & PolSta & adult\\_mortality\\\\\n",
       "\\hline\n",
       "\tgdpPerCap &  1.0000000 &  0.6139620 & -0.7323959 & -0.8031005 &  0.49250822 &  0.71533006 &  0.33672158 & -0.6102630\\\\\n",
       "\tliteracy &  0.6139620 &  1.0000000 & -0.8196033 & -0.8144164 &  0.34875600 &  0.49943838 &  0.18417907 & -0.5773224\\\\\n",
       "\tunder\\_slum & -0.7323959 & -0.8196033 &  1.0000000 &  0.8556470 & -0.38377983 & -0.63305809 & -0.17286795 &  0.7145471\\\\\n",
       "\tbelow\\_poverty & -0.8031005 & -0.8144164 &  0.8556470 &  1.0000000 & -0.42322369 & -0.49753401 & -0.31063888 &  0.8180963\\\\\n",
       "\tCorruption &  0.4925082 &  0.3487560 & -0.3837798 & -0.4232237 &  1.00000000 &  0.67938944 & -0.06933345 & -0.3374632\\\\\n",
       "\tGovEff &  0.7153301 &  0.4994384 & -0.6330581 & -0.4975340 &  0.67938944 &  1.00000000 & -0.03142046 & -0.4063070\\\\\n",
       "\tPolSta &  0.3367216 &  0.1841791 & -0.1728679 & -0.3106389 & -0.06933345 & -0.03142046 &  1.00000000 & -0.1257701\\\\\n",
       "\tadult\\_mortality & -0.6102630 & -0.5773224 &  0.7145471 &  0.8180963 & -0.33746322 & -0.40630696 & -0.12577007 &  1.0000000\\\\\n",
       "\\end{tabular}\n"
      ],
      "text/markdown": [
       "\n",
       "A matrix: 8 × 8 of type dbl\n",
       "\n",
       "| <!--/--> | gdpPerCap | literacy | under_slum | below_poverty | Corruption | GovEff | PolSta | adult_mortality |\n",
       "|---|---|---|---|---|---|---|---|---|\n",
       "| gdpPerCap |  1.0000000 |  0.6139620 | -0.7323959 | -0.8031005 |  0.49250822 |  0.71533006 |  0.33672158 | -0.6102630 |\n",
       "| literacy |  0.6139620 |  1.0000000 | -0.8196033 | -0.8144164 |  0.34875600 |  0.49943838 |  0.18417907 | -0.5773224 |\n",
       "| under_slum | -0.7323959 | -0.8196033 |  1.0000000 |  0.8556470 | -0.38377983 | -0.63305809 | -0.17286795 |  0.7145471 |\n",
       "| below_poverty | -0.8031005 | -0.8144164 |  0.8556470 |  1.0000000 | -0.42322369 | -0.49753401 | -0.31063888 |  0.8180963 |\n",
       "| Corruption |  0.4925082 |  0.3487560 | -0.3837798 | -0.4232237 |  1.00000000 |  0.67938944 | -0.06933345 | -0.3374632 |\n",
       "| GovEff |  0.7153301 |  0.4994384 | -0.6330581 | -0.4975340 |  0.67938944 |  1.00000000 | -0.03142046 | -0.4063070 |\n",
       "| PolSta |  0.3367216 |  0.1841791 | -0.1728679 | -0.3106389 | -0.06933345 | -0.03142046 |  1.00000000 | -0.1257701 |\n",
       "| adult_mortality | -0.6102630 | -0.5773224 |  0.7145471 |  0.8180963 | -0.33746322 | -0.40630696 | -0.12577007 |  1.0000000 |\n",
       "\n"
      ],
      "text/plain": [
       "                gdpPerCap  literacy   under_slum below_poverty Corruption \n",
       "gdpPerCap        1.0000000  0.6139620 -0.7323959 -0.8031005     0.49250822\n",
       "literacy         0.6139620  1.0000000 -0.8196033 -0.8144164     0.34875600\n",
       "under_slum      -0.7323959 -0.8196033  1.0000000  0.8556470    -0.38377983\n",
       "below_poverty   -0.8031005 -0.8144164  0.8556470  1.0000000    -0.42322369\n",
       "Corruption       0.4925082  0.3487560 -0.3837798 -0.4232237     1.00000000\n",
       "GovEff           0.7153301  0.4994384 -0.6330581 -0.4975340     0.67938944\n",
       "PolSta           0.3367216  0.1841791 -0.1728679 -0.3106389    -0.06933345\n",
       "adult_mortality -0.6102630 -0.5773224  0.7145471  0.8180963    -0.33746322\n",
       "                GovEff      PolSta      adult_mortality\n",
       "gdpPerCap        0.71533006  0.33672158 -0.6102630     \n",
       "literacy         0.49943838  0.18417907 -0.5773224     \n",
       "under_slum      -0.63305809 -0.17286795  0.7145471     \n",
       "below_poverty   -0.49753401 -0.31063888  0.8180963     \n",
       "Corruption       0.67938944 -0.06933345 -0.3374632     \n",
       "GovEff           1.00000000 -0.03142046 -0.4063070     \n",
       "PolSta          -0.03142046  1.00000000 -0.1257701     \n",
       "adult_mortality -0.40630696 -0.12577007  1.0000000     "
      ]
     },
     "metadata": {},
     "output_type": "display_data"
    }
   ],
   "source": [
    "calc_cor(4,5,7,8,11,12,13,14)"
   ]
  },
  {
   "cell_type": "code",
   "execution_count": 90,
   "metadata": {},
   "outputs": [
    {
     "name": "stdout",
     "output_type": "stream",
     "text": [
      "[1] \"no. of rows =  282\"\n"
     ]
    },
    {
     "data": {
      "text/html": [
       "<table>\n",
       "<caption>A matrix: 2 × 2 of type dbl</caption>\n",
       "<thead>\n",
       "\t<tr><th></th><th scope=col>literacy</th><th scope=col>under_slum</th></tr>\n",
       "</thead>\n",
       "<tbody>\n",
       "\t<tr><th scope=row>literacy</th><td> 1.0000000</td><td>-0.7769675</td></tr>\n",
       "\t<tr><th scope=row>under_slum</th><td>-0.7769675</td><td> 1.0000000</td></tr>\n",
       "</tbody>\n",
       "</table>\n"
      ],
      "text/latex": [
       "A matrix: 2 × 2 of type dbl\n",
       "\\begin{tabular}{r|ll}\n",
       "  & literacy & under\\_slum\\\\\n",
       "\\hline\n",
       "\tliteracy &  1.0000000 & -0.7769675\\\\\n",
       "\tunder\\_slum & -0.7769675 &  1.0000000\\\\\n",
       "\\end{tabular}\n"
      ],
      "text/markdown": [
       "\n",
       "A matrix: 2 × 2 of type dbl\n",
       "\n",
       "| <!--/--> | literacy | under_slum |\n",
       "|---|---|---|\n",
       "| literacy |  1.0000000 | -0.7769675 |\n",
       "| under_slum | -0.7769675 |  1.0000000 |\n",
       "\n"
      ],
      "text/plain": [
       "           literacy   under_slum\n",
       "literacy    1.0000000 -0.7769675\n",
       "under_slum -0.7769675  1.0000000"
      ]
     },
     "metadata": {},
     "output_type": "display_data"
    }
   ],
   "source": [
    "calc_cor(literacy,under_slum)"
   ]
  },
  {
   "cell_type": "code",
   "execution_count": 91,
   "metadata": {},
   "outputs": [
    {
     "data": {
      "text/plain": [
       "   Country              Code                Year        gdpPerCap        \n",
       " Length:12057       Length:12057       Min.   :1960   Min.   :    34.79  \n",
       " Class :character   Class :character   1st Qu.:1979   1st Qu.:   502.76  \n",
       " Mode  :character   Mode  :character   Median :1994   Median :  1760.31  \n",
       "                                       Mean   :1992   Mean   :  7624.95  \n",
       "                                       3rd Qu.:2006   3rd Qu.:  7152.38  \n",
       "                                       Max.   :2018   Max.   :189170.90  \n",
       "                                                                         \n",
       "    literacy         popDensity          under_slum    below_poverty  \n",
       " Min.   :  5.405   Min.   :    0.136   Min.   : 3.30   Min.   : 0.00  \n",
       " 1st Qu.: 60.249   1st Qu.:   19.891   1st Qu.:31.99   1st Qu.: 1.20  \n",
       " Median : 77.892   Median :   49.031   Median :47.50   Median :13.70  \n",
       " Mean   : 74.916   Mean   :  276.841   Mean   :48.70   Mean   :25.10  \n",
       " 3rd Qu.: 91.991   3rd Qu.:  124.224   3rd Qu.:65.10   3rd Qu.:39.92  \n",
       " Max.   : 99.995   Max.   :21389.100   Max.   :98.90   Max.   :98.50  \n",
       " NA's   :9736      NA's   :295         NA's   :11444   NA's   :10407  \n",
       "     Import              Export            Corruption         GovEff      \n",
       " Min.   :3.510e+03   Min.   :6.200e+01   Min.   :-1.826   Min.   :-2.446  \n",
       " 1st Qu.:1.769e+06   1st Qu.:9.356e+05   1st Qu.:-0.753   1st Qu.:-0.714  \n",
       " Median :8.785e+06   Median :7.147e+06   Median :-0.250   Median :-0.156  \n",
       " Mean   :8.213e+07   Mean   :8.139e+07   Mean   :-0.004   Mean   : 0.002  \n",
       " 3rd Qu.:5.001e+07   3rd Qu.:5.547e+07   3rd Qu.: 0.652   3rd Qu.: 0.660  \n",
       " Max.   :2.414e+09   Max.   :2.342e+09   Max.   : 2.470   Max.   : 2.437  \n",
       " NA's   :8468        NA's   :8507        NA's   :8178     NA's   :8191    \n",
       "     PolSta       adult_mortality      Male           Female    \n",
       " Min.   :-3.181   Min.   : 49.0   Min.   : 61.0   Min.   : 33   \n",
       " 1st Qu.:-0.656   1st Qu.:103.0   1st Qu.:130.0   1st Qu.: 74   \n",
       " Median : 0.095   Median :159.5   Median :203.0   Median :114   \n",
       " Mean   :-0.001   Mean   :191.1   Mean   :224.8   Mean   :157   \n",
       " 3rd Qu.: 0.841   3rd Qu.:249.0   3rd Qu.:288.8   3rd Qu.:212   \n",
       " Max.   : 1.965   Max.   :697.0   Max.   :769.0   Max.   :671   \n",
       " NA's   :8169     NA's   :9427    NA's   :9427    NA's   :9427  "
      ]
     },
     "metadata": {},
     "output_type": "display_data"
    }
   ],
   "source": [
    "summary(all_data)"
   ]
  },
  {
   "cell_type": "code",
   "execution_count": 92,
   "metadata": {},
   "outputs": [],
   "source": [
    "gdp_df <- all_data %>% \n",
    "    filter(Year == 2018) %>%\n",
    "    mutate(Country=if_else(Country == 'Macao SAR, China','Macao',Country))%>%\n",
    "    select(Country, gdpPerCap) %>%\n",
    "    arrange(desc(gdpPerCap)) \n",
    "gdp_df$rank = rank(desc(gdp_df$gdpPerCap))\n",
    "cr = fct_reorder(gdp_df$Country,gdp_df$gdpPerCap)\n",
    "gdp_df <- gdp_df %>% mutate(Country = cr) \n",
    "gdp_df_10 <- gdp_df %>% head(10)"
   ]
  },
  {
   "cell_type": "code",
   "execution_count": 93,
   "metadata": {},
   "outputs": [
    {
     "data": {
      "text/html": [
       "<table>\n",
       "<caption>A data.frame: 1 × 2</caption>\n",
       "<thead>\n",
       "\t<tr><th scope=col>Country</th><th scope=col>literacy</th></tr>\n",
       "\t<tr><th scope=col>&lt;chr&gt;</th><th scope=col>&lt;dbl&gt;</th></tr>\n",
       "</thead>\n",
       "<tbody>\n",
       "\t<tr><td>India</td><td>74.37299</td></tr>\n",
       "</tbody>\n",
       "</table>\n"
      ],
      "text/latex": [
       "A data.frame: 1 × 2\n",
       "\\begin{tabular}{r|ll}\n",
       " Country & literacy\\\\\n",
       " <chr> & <dbl>\\\\\n",
       "\\hline\n",
       "\t India & 74.37299\\\\\n",
       "\\end{tabular}\n"
      ],
      "text/markdown": [
       "\n",
       "A data.frame: 1 × 2\n",
       "\n",
       "| Country &lt;chr&gt; | literacy &lt;dbl&gt; |\n",
       "|---|---|\n",
       "| India | 74.37299 |\n",
       "\n"
      ],
      "text/plain": [
       "  Country literacy\n",
       "1 India   74.37299"
      ]
     },
     "metadata": {},
     "output_type": "display_data"
    }
   ],
   "source": [
    "all_data %>% \n",
    "    filter(Year == 2018) %>%\n",
    "    select(Country, literacy)%>%\n",
    "    filter(Country == 'India')"
   ]
  },
  {
   "cell_type": "code",
   "execution_count": 94,
   "metadata": {},
   "outputs": [
    {
     "data": {
      "text/html": [
       "<table>\n",
       "<caption>A data.frame: 10 × 3</caption>\n",
       "<thead>\n",
       "\t<tr><th scope=col>Country</th><th scope=col>gdpPerCap</th><th scope=col>rank</th></tr>\n",
       "\t<tr><th scope=col>&lt;fct&gt;</th><th scope=col>&lt;dbl&gt;</th><th scope=col>&lt;dbl&gt;</th></tr>\n",
       "</thead>\n",
       "<tbody>\n",
       "\t<tr><td>Monaco       </td><td>185741.28</td><td> 1</td></tr>\n",
       "\t<tr><td>Luxembourg   </td><td>116639.89</td><td> 2</td></tr>\n",
       "\t<tr><td>Macao        </td><td> 87208.54</td><td> 3</td></tr>\n",
       "\t<tr><td>Switzerland  </td><td> 82796.55</td><td> 4</td></tr>\n",
       "\t<tr><td>Norway       </td><td> 81697.25</td><td> 5</td></tr>\n",
       "\t<tr><td>Ireland      </td><td> 78806.43</td><td> 6</td></tr>\n",
       "\t<tr><td>Iceland      </td><td> 73191.12</td><td> 7</td></tr>\n",
       "\t<tr><td>Qatar        </td><td> 68793.78</td><td> 8</td></tr>\n",
       "\t<tr><td>Singapore    </td><td> 64581.94</td><td> 9</td></tr>\n",
       "\t<tr><td>United States</td><td> 62794.59</td><td>10</td></tr>\n",
       "</tbody>\n",
       "</table>\n"
      ],
      "text/latex": [
       "A data.frame: 10 × 3\n",
       "\\begin{tabular}{r|lll}\n",
       " Country & gdpPerCap & rank\\\\\n",
       " <fct> & <dbl> & <dbl>\\\\\n",
       "\\hline\n",
       "\t Monaco        & 185741.28 &  1\\\\\n",
       "\t Luxembourg    & 116639.89 &  2\\\\\n",
       "\t Macao         &  87208.54 &  3\\\\\n",
       "\t Switzerland   &  82796.55 &  4\\\\\n",
       "\t Norway        &  81697.25 &  5\\\\\n",
       "\t Ireland       &  78806.43 &  6\\\\\n",
       "\t Iceland       &  73191.12 &  7\\\\\n",
       "\t Qatar         &  68793.78 &  8\\\\\n",
       "\t Singapore     &  64581.94 &  9\\\\\n",
       "\t United States &  62794.59 & 10\\\\\n",
       "\\end{tabular}\n"
      ],
      "text/markdown": [
       "\n",
       "A data.frame: 10 × 3\n",
       "\n",
       "| Country &lt;fct&gt; | gdpPerCap &lt;dbl&gt; | rank &lt;dbl&gt; |\n",
       "|---|---|---|\n",
       "| Monaco        | 185741.28 |  1 |\n",
       "| Luxembourg    | 116639.89 |  2 |\n",
       "| Macao         |  87208.54 |  3 |\n",
       "| Switzerland   |  82796.55 |  4 |\n",
       "| Norway        |  81697.25 |  5 |\n",
       "| Ireland       |  78806.43 |  6 |\n",
       "| Iceland       |  73191.12 |  7 |\n",
       "| Qatar         |  68793.78 |  8 |\n",
       "| Singapore     |  64581.94 |  9 |\n",
       "| United States |  62794.59 | 10 |\n",
       "\n"
      ],
      "text/plain": [
       "   Country       gdpPerCap rank\n",
       "1  Monaco        185741.28  1  \n",
       "2  Luxembourg    116639.89  2  \n",
       "3  Macao          87208.54  3  \n",
       "4  Switzerland    82796.55  4  \n",
       "5  Norway         81697.25  5  \n",
       "6  Ireland        78806.43  6  \n",
       "7  Iceland        73191.12  7  \n",
       "8  Qatar          68793.78  8  \n",
       "9  Singapore      64581.94  9  \n",
       "10 United States  62794.59 10  "
      ]
     },
     "metadata": {},
     "output_type": "display_data"
    }
   ],
   "source": [
    "gdp_df_10"
   ]
  },
  {
   "cell_type": "code",
   "execution_count": 105,
   "metadata": {},
   "outputs": [
    {
     "data": {
      "image/png": "[encoded data removed]",
      "text/plain": [
       "plot without title"
      ]
     },
     "metadata": {},
     "output_type": "display_data"
    }
   ],
   "source": [
    "options(repr.plot.height = 5, repr.plot.width = 12)\n",
    "gdp_df_10 %>%\n",
    "ggplot()+\n",
    "geom_col(aes(x= Country,y=gdpPerCap))+\n",
    "coord_flip()+\n",
    "ylab('GDP per Capita(in USD)')+\n",
    "scale_y_continuous(labels=scales::comma)+\n",
    "ggtitle('Top 10 countries based on GDP per capita(Year = 2018)')+theme_bw()\n"
   ]
  },
  {
   "cell_type": "code",
   "execution_count": 96,
   "metadata": {},
   "outputs": [
    {
     "data": {
      "text/html": [
       "239"
      ],
      "text/latex": [
       "239"
      ],
      "text/markdown": [
       "239"
      ],
      "text/plain": [
       "[1] 239"
      ]
     },
     "metadata": {},
     "output_type": "display_data"
    }
   ],
   "source": [
    "length(gdp_df$gdpPerCap)"
   ]
  },
  {
   "cell_type": "code",
   "execution_count": 111,
   "metadata": {},
   "outputs": [],
   "source": [
    "gd_plot <- gdp_df %>% filter(Country %in%  c('India','China','United States')) %>%\n",
    "ggplot()+\n",
    "geom_col(aes(x= Country,y=gdpPerCap))+\n",
    "coord_flip()+\n",
    "labs(fill = \"Country Rank(GDP per capita)\")+\n",
    "ylab('GDP per Capita(in USD)')+\n",
    "geom_text(aes(x= Country,y=gdpPerCap + 2500,label = round(gdpPerCap,)))+\n",
    "ggtitle('GDP per capita for selected countries(Year = 2018)')+\n",
    "scale_y_continuous(labels=scales::comma)"
   ]
  },
  {
   "cell_type": "code",
   "execution_count": 98,
   "metadata": {},
   "outputs": [
    {
     "data": {
      "text/html": [
       "<table>\n",
       "<caption>A tibble: 3 × 2</caption>\n",
       "<thead>\n",
       "\t<tr><th scope=col>Country</th><th scope=col>literacy</th></tr>\n",
       "\t<tr><th scope=col>&lt;chr&gt;</th><th scope=col>&lt;dbl&gt;</th></tr>\n",
       "</thead>\n",
       "<tbody>\n",
       "\t<tr><td>India        </td><td>74</td></tr>\n",
       "\t<tr><td>China        </td><td>97</td></tr>\n",
       "\t<tr><td>United States</td><td>99</td></tr>\n",
       "</tbody>\n",
       "</table>\n"
      ],
      "text/latex": [
       "A tibble: 3 × 2\n",
       "\\begin{tabular}{r|ll}\n",
       " Country & literacy\\\\\n",
       " <chr> & <dbl>\\\\\n",
       "\\hline\n",
       "\t India         & 74\\\\\n",
       "\t China         & 97\\\\\n",
       "\t United States & 99\\\\\n",
       "\\end{tabular}\n"
      ],
      "text/markdown": [
       "\n",
       "A tibble: 3 × 2\n",
       "\n",
       "| Country &lt;chr&gt; | literacy &lt;dbl&gt; |\n",
       "|---|---|\n",
       "| India         | 74 |\n",
       "| China         | 97 |\n",
       "| United States | 99 |\n",
       "\n"
      ],
      "text/plain": [
       "  Country       literacy\n",
       "1 India         74      \n",
       "2 China         97      \n",
       "3 United States 99      "
      ]
     },
     "metadata": {},
     "output_type": "display_data"
    }
   ],
   "source": [
    "lit_df <- tibble(Country = c('India','China','United States'),literacy = c(74,97,99))\n",
    "lit_df\n",
    "lit_df <- lit_df %>% mutate(Country = fct_reorder(lit_df$Country,lit_df$literacy)) "
   ]
  },
  {
   "cell_type": "code",
   "execution_count": 99,
   "metadata": {},
   "outputs": [],
   "source": [
    "lit_plot <- lit_df %>% ggplot()+\n",
    "geom_col(aes(x= Country,y=literacy))+\n",
    "coord_flip()+\n",
    "ylab('Literacy Rate(in %)')+\n",
    "xlab('')+\n",
    "ggtitle('Literacy rate of selected countries(Year = 2018)')+\n",
    "geom_text(aes(x= Country,y=literacy + 2,label = literacy))\n",
    "options(repr.plot.height = 5, repr.plot.width = 5)"
   ]
  },
  {
   "cell_type": "code",
   "execution_count": 100,
   "metadata": {},
   "outputs": [
    {
     "data": {
      "image/png": "[encoded data removed]",
      "text/plain": [
       "plot without title"
      ]
     },
     "metadata": {},
     "output_type": "display_data"
    }
   ],
   "source": [
    "options(repr.plot.height = 5, repr.plot.width = 15)\n",
    "grid.arrange(gd_plot+theme_bw(),lit_plot+theme_bw(),ncol = 2)"
   ]
  },
  {
   "cell_type": "code",
   "execution_count": null,
   "metadata": {},
   "outputs": [],
   "source": []
  },
  {
   "cell_type": "code",
   "execution_count": null,
   "metadata": {},
   "outputs": [],
   "source": []
  },
  {
   "cell_type": "code",
   "execution_count": null,
   "metadata": {},
   "outputs": [],
   "source": []
  },
  {
   "cell_type": "code",
   "execution_count": null,
   "metadata": {},
   "outputs": [],
   "source": []
  },
  {
   "cell_type": "code",
   "execution_count": null,
   "metadata": {},
   "outputs": [],
   "source": []
  }
 ],
 "metadata": {
  "kernelspec": {
   "display_name": "R",
   "language": "R",
   "name": "ir"
  },
  "language_info": {
   "codemirror_mode": "r",
   "file_extension": ".r",
   "mimetype": "text/x-r-source",
   "name": "R",
   "pygments_lexer": "r",
   "version": "3.6.3"
  }
 },
 "nbformat": 4,
 "nbformat_minor": 4
}
